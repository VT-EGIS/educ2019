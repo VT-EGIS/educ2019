{
 "cells": [
  {
   "cell_type": "markdown",
   "metadata": {
    "slideshow": {
     "slide_type": "slide"
    }
   },
   "source": [
    "## Revoke expired app licenses from all org users\n",
    "When our license changes it is possible that users will possess entitlements to products that are no longer on our license.  This appears as a negative allocation.  We need to be able to return negative allocations to the pool to suppress error messages.  \n",
    "\n",
    "When VT went live with the new Higher Ed Site license on July 1, 2019 AppStudio was taken off the site license.  We had allocated it to everybody in our org using the [New User Cron](https://jupyter2.aws.gis.cloud.vt.edu:8888/jupyter/notebooks/educ2019/Standalone_New_User_Cron.ipynb).  \n",
    "![](images/appstudio.png)\n",
    "So the entitlements were still assigned, but 0 were available, resulting in a negative allocation and the following error message:\n",
    "<img src=\"images/availLicenses.png\" style=\"width: 400px;\"/>\n",
    "### Author: Seth Peery, Virginia Polytechnic Institute and State University\n",
    "### Last Modified July 4, 2019"
   ]
  },
  {
   "cell_type": "code",
   "execution_count": null,
   "metadata": {
    "slideshow": {
     "slide_type": "subslide"
    }
   },
   "outputs": [],
   "source": [
    "from arcgis.gis import GIS\n",
    "import getpass\n",
    "\n",
    "# Make the connection to your ArcGIS Online Organization\n",
    "orgURL = \"https://virginiatech.maps.arcgis.com\" # <==update for your org\n",
    "orgUser = \"sspeery\"                             # <==update for your org\n",
    "orgPwd = getpass.getpass(\"Enter your AGOL Administrator Password\")\n",
    "gis = GIS(orgURL,username=orgUser,password=orgPwd) \n",
    "\n",
    "# Enumerate all users.  All we need is the name. \n",
    "# We have to revoke this license from everybody. \n",
    "userList = []\n",
    "users = gis.users.search(max_users=9999)\n",
    "\n",
    "for user in users:\n",
    "    #These things come straight from the user dict\n",
    "    d_esriUsername = user.username\n",
    "    userList.append(d_esriUsername)\n",
    "\n",
    "# All we need to revoke here is AppStudio so we hardcode it here \n",
    "productToRevoke = 'AppStudio for ArcGIS'\n",
    "licToRevoke = gis.admin.license.get(productToRevoke)\n",
    "for sUser in userList:\n",
    "    # Revoke all entitlements for the product\n",
    "    print (\"Revoking \"+ productToRevoke + \" from \"+ sUser +\"...\")\n",
    "    licToRevoke.revoke(username=sUser, entitlements='*')    \n"
   ]
  }
 ],
 "metadata": {
  "celltoolbar": "Slideshow",
  "kernelspec": {
   "display_name": "Python 3",
   "language": "python",
   "name": "python3"
  },
  "language_info": {
   "codemirror_mode": {
    "name": "ipython",
    "version": 3
   },
   "file_extension": ".py",
   "mimetype": "text/x-python",
   "name": "python",
   "nbconvert_exporter": "python",
   "pygments_lexer": "ipython3",
   "version": "3.7.3"
  },
  "livereveal": {
   "theme": "serif",
   "transition": "convex"
  }
 },
 "nbformat": 4,
 "nbformat_minor": 2
}

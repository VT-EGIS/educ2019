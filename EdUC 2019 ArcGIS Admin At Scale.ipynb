{
 "cells": [
  {
   "cell_type": "markdown",
   "metadata": {
    "slideshow": {
     "slide_type": "slide"
    }
   },
   "source": [
    "# ArcGIS Online Organization Administration at Scale\n",
    "## ESRI EdUC 2019\n",
    "## Seth Peery, Sr. GIS Architect, Virginia Tech\n"
   ]
  },
  {
   "cell_type": "code",
   "execution_count": 1,
   "metadata": {
    "slideshow": {
     "slide_type": "skip"
    }
   },
   "outputs": [
    {
     "data": {
      "text/plain": [
       "{'width': 1440, 'height': 900, 'scroll': True}"
      ]
     },
     "execution_count": 1,
     "metadata": {},
     "output_type": "execute_result"
    }
   ],
   "source": [
    "# This simply sets up the environment for us to run the Jupyter Notebook as a presentation\n",
    "from notebook.services.config import ConfigManager\n",
    "cm = ConfigManager()\n",
    "cm.update('livereveal', {\n",
    "        'width': 1440,\n",
    "        'height': 900,\n",
    "        'scroll': True,\n",
    "})"
   ]
  },
  {
   "cell_type": "markdown",
   "metadata": {
    "slideshow": {
     "slide_type": "slide"
    }
   },
   "source": [
    "# Link to this Presentation and Code\n",
    "\n",
    "![qr](images/qr.png)\n",
    "https://github.com/sspeery/educ2019\n",
    "\n"
   ]
  },
  {
   "cell_type": "markdown",
   "metadata": {
    "slideshow": {
     "slide_type": "slide"
    }
   },
   "source": [
    "# Rationale for organization management\n",
    "* Software as a Service products must be managed with the same attention we give on-premises systems\n",
    "* Management objective is to lower impediments to use of ArcGIS Online\n",
    "* AGOL depends on finite shared resources; org administration is the stewardship of these resources\n",
    " * named users\n",
    " * service credits\n",
    " * Pro and other licenses\n",
    " * usability and organization of the site\n",
    "* AGOL orgs can become unwieldy at scale, and require different approaches\n",
    "* User lifecycle stages require different management practices over time\n",
    "* Processes, training and automation become increasingly important for large orgs\n"
   ]
  },
  {
   "cell_type": "markdown",
   "metadata": {
    "slideshow": {
     "slide_type": "slide"
    }
   },
   "source": [
    "## A brief history of SaaS WebGIS Administration\n",
    "* From a mindset of scarcity to abundance\n",
    "* From a niche content service to the foundation of a WebGIS\n",
    "* Scripting evolved to fill gaps in the API\n",
    "* Constant evolution of the technology makes past administration best practice obsolete\n"
   ]
  },
  {
   "cell_type": "markdown",
   "metadata": {
    "slideshow": {
     "slide_type": "slide"
    }
   },
   "source": [
    "## Scale Considerations\n",
    "* DevOps metaphor: cattle v. pets\n",
    "* An amorphous blob of users vs first name basis\n",
    "* Use batch operations as often as possible\n",
    "* Think in the aggregate\n",
    "* Anticipate user life cycle events (especially important in university communities with transient populations!)\n",
    "    * onboarding\n",
    "    * ad hoc requests\n",
    "    * deprovisioning\n"
   ]
  },
  {
   "cell_type": "markdown",
   "metadata": {
    "slideshow": {
     "slide_type": "slide"
    }
   },
   "source": [
    "![events](images/adminflow.png)"
   ]
  },
  {
   "cell_type": "markdown",
   "metadata": {
    "slideshow": {
     "slide_type": "slide"
    }
   },
   "source": [
    "# Org administration tasks\n",
    "* Enterprise Logins\n",
    "* Auto provisioning\n",
    "* Initial default privileges and entitements\n",
    "* Credit stewardship\n",
    "* Pro Licenses\n",
    "* Ad hoc requests\n",
    "* Content migration\n",
    "* Deprovisioning"
   ]
  },
  {
   "cell_type": "markdown",
   "metadata": {
    "slideshow": {
     "slide_type": "slide"
    }
   },
   "source": [
    "## Enterprise Logins with automatic provisioning\n",
    "\n",
    "Once your organization reaches a certain scale, sending invitations to new users is untenable.\n",
    "\n",
    "We assume that most all entities with large AGOL organizations will have an Enterprise idP (Identity Provider) with which AGOL can federate for purposes of authentication.\n",
    "\n",
    "Therefore, it's a best practice to use Enterprise Logins with the auto-provisioning model.  This is step # 1. \n",
    "\n",
    "At that point, the work is shifted from managing users on the front end (onboarding) to figuring out what to do with them after they show up. \n",
    "\n",
    "<img src=\"images/entlogins.png\" alt=\"Enterprise Logins\" style=\"width: 500px;\"/>"
   ]
  },
  {
   "cell_type": "markdown",
   "metadata": {
    "slideshow": {
     "slide_type": "slide"
    }
   },
   "source": [
    "## Setting Default User Privileges\n",
    "After many years of complaining by the education community, ESRI has finally come out with an out of the box solution for auto-provisioning of many of the things we've had to use scripting for in the past: *New Member Defaults.*\n",
    "\n",
    "This allows for automatic allocation of Software licenses, Credit Budgets, Groups, User Types, Roles, ESRI Access and  *dramatically* cuts down on onboarding overhead. *\n",
    "<img src=\"images/newmemberdefaults.png\"  style=\"width: 500px;\"/>\n",
    "\n",
    "* it also made a big chunk of this presentation obsolete and I had to redo it after the June Release.  Thanks, ESRI.\n"
   ]
  },
  {
   "cell_type": "markdown",
   "metadata": {
    "slideshow": {
     "slide_type": "slide"
    }
   },
   "source": [
    "## The Geri Miller Guide to Geo-enabling Your Campus with New Member Defaults\n",
    "1. Enable enterprise logins, commonly known as SSO – integrate with existing business systems and do not create arcgis-only accounts (unless when working with outside affiliates).\n",
    "2. Enable \"Automatically\" join for enterprise logins (also known as auto-provisioning), so that new users are automatically granted access to ArcGIS.\n",
    "3. Configure the \"New Member Defaults\" so that people have access to everything in ArcGIS they might need to do their job:\n",
    "    1. Leave the default user type set to \"Creator\". (FYI, the default user type will soon become GIS Professional Advanced for those with institutional agreements.)\n",
    "    2. Set the role to \"Publisher\" – empower everyone with the abilities to do the work they need to do\n",
    "    3. Configure default Add-on Licenses (ArcGIS Pro, Insights, Business Analyst, Community Analyst, GeoPlanner, etc.)\n",
    "    4. Set a Credit Quota (1000, 2000, 5000, etc.) whatever fits your institution -- enable your community to do their work, yet protect them from accidental mistakes\n",
    "    5. Enable Esri Access for everyone – allow them to utilize Esri Academy (E-Learning/Esri Training), GeoNet, etc.\n",
    "4. Encourage students, faculty, staff to leverage all free options for self-learning, such as Learn ArcGIS, Esri Academy, documentation, etc.\n",
    "\n"
   ]
  },
  {
   "attachments": {},
   "cell_type": "markdown",
   "metadata": {},
   "source": [
    "## New Member Defaults Philosophy\n",
    "\n",
    "### Give. Everybody. Everything.\n",
    "\n",
    "* ideally license count is 1:1 with your named user count, in which case grant indiscriminately\n",
    "* with credit budgeting it is OK to give the Publisher Role\n",
    "* ESRI access fo everybody\n",
    "* Credits are not the limiting factor (but licenses and named users might be)"
   ]
  },
  {
   "cell_type": "markdown",
   "metadata": {
    "slideshow": {
     "slide_type": "slide"
    }
   },
   "source": [
    "## Documentation\n",
    "* The customization and automation necessary in large scale organizations become a critical part of your infrastructure!\n",
    "* It can be challenging to remember what you did for non-recurring operations\n",
    "* Jupyter Notebooks, like this presentation, can store documentation alongside executable code\n",
    "    * These can be run locally or on a jupyter notebook server.  \n",
    "    * [Here's how to set up a Jupyter Notebook Server](https://github.com/sspeery/educ2019/blob/master/jupyter_notebook_server.md)\n",
    "* Revision control, like github, can be used for storing the authoritative versions of scripts (and sharing them!)\n",
    "* Internal wikis are also a good documentation repository\n",
    "* As we move towards Infrastructure as Code, artifacts that we create are more amenable to revision control. "
   ]
  },
  {
   "cell_type": "markdown",
   "metadata": {
    "slideshow": {
     "slide_type": "slide"
    }
   },
   "source": [
    "## Reverse Engineering the ArcGIS Online Admin GUI\n",
    "\n",
    "There are times we want to do something that seems like it should be possible in the GUI, but is not straightforward to do it in Python.  \n",
    "* Use Chrome Developer Tools to inspect the http traffic to the Portal's REST API\n",
    "* Use PostMan to craft our own requests to mimic what the GUI is doing \n",
    "* Use the requests module to make the request from Python\n",
    "<table><tr><td><img src=\"images/ChromeDevTools.png\" alt=\"devtools\" style=\"width: 500px;\"/></td><td><img src=\"images/postman.png\" alt=\"postman\" style=\"width: 500px;\"/></td>"
   ]
  },
  {
   "cell_type": "code",
   "execution_count": null,
   "metadata": {},
   "outputs": [],
   "source": [
    "def get_roles(token):\n",
    "    parameters={'token':token,'f':'json'}\n",
    "    response = requests.get(portalURLRest+\"/roles\", params=parameters)\n",
    "    if(response.ok):\n",
    "        jsonResponse = json.loads(response.content)\n",
    "        roleMappings = jsonResponse['roles']\n",
    "        return roleMappings"
   ]
  },
  {
   "cell_type": "markdown",
   "metadata": {
    "slideshow": {
     "slide_type": "slide"
    }
   },
   "source": [
    "## User Interaction Events\n",
    "* When operating at scale we need efficient mechanisms to communicate with our users\n",
    "* It is very useful to maintain a listserv of AGOL users for sitewide notifications (and also is a decent proxy for your institution's GIS user base!)\n",
    "* When users need to contact us, it gets unwieldy if they e-mail the admins directly.\n",
    "* A good practice in this space is to create points of entry into a ticketing system for AGOL ad hoc events\n",
    "* Even better if one can automate the fulfillment of the fickets using Python!\n"
   ]
  },
  {
   "cell_type": "markdown",
   "metadata": {
    "slideshow": {
     "slide_type": "slide"
    }
   },
   "source": [
    "## Communication\n",
    "* Successful management of AGOL is a collaborative process with stakeholders.\n",
    "* The out of the box functionality of an AGOL org is wrapped in a business process layer that will depend on your administration strategy.\n",
    "\n",
    "_Users need to know how you operate your organizations._\n",
    "\n",
    "Define standard operating procedures for \n",
    "* User onboarding\n",
    "* Credit consumption and budgeting\n",
    "* Default role privileges and escalation processes\n",
    "* Process for deprovisioning\n",
    "* Process to request more credits/privileges/ content transfer\n",
    "* Identify a single point to request ad hoc operations or ask questions.\n",
    "* User training via documentation, seminars, presentations\n",
    "\n",
    "\n",
    "\n",
    "  \n",
    "     \n",
    "       \n",
    "       \n"
   ]
  },
  {
   "cell_type": "markdown",
   "metadata": {
    "slideshow": {
     "slide_type": "slide"
    }
   },
   "source": [
    "## Removing \"Drive by Users\"\n",
    "\n",
    "### [Drive By Users Example](https://jupyter2.aws.gis.cloud.vt.edu:8888/jupyter/notebooks/educ2019/DriveByUserDeletion.ipynb)"
   ]
  },
  {
   "cell_type": "markdown",
   "metadata": {
    "slideshow": {
     "slide_type": "slide"
    }
   },
   "source": [
    "## New User cron job\n",
    "\n",
    "### New User Cron href\n",
    "Need to update this for the All org Entitlements thing\n",
    "This also demonstrates the ethic of give everybody everything"
   ]
  },
  {
   "cell_type": "markdown",
   "metadata": {
    "slideshow": {
     "slide_type": "slide"
    }
   },
   "source": [
    "## Topping off a user's credits on demand\n",
    "\n",
    "### With AWS Lambda goodness and ticketing system integration"
   ]
  },
  {
   "cell_type": "markdown",
   "metadata": {},
   "source": [
    "## Creating and maintaining a user e-mail list\n",
    "both in new user cron in if we get all the e-mails. \n"
   ]
  },
  {
   "cell_type": "markdown",
   "metadata": {
    "slideshow": {
     "slide_type": "skip"
    }
   },
   "source": [
    "## REST API example\n",
    "tbd"
   ]
  },
  {
   "attachments": {},
   "cell_type": "markdown",
   "metadata": {
    "slideshow": {
     "slide_type": "slide"
    }
   },
   "source": [
    "## Identifying users who are no longer affiliated\n",
    "\n",
    "### itpalsout of band rest\n",
    "\n",
    "how you determine who is an affiliate is up to you\n",
    "Some idPs (e.g., Active Directory) may return a negative authentication response once a user has been deactivated or removed.  Thus users are locked out automatically.\n",
    "At the University of Michigan, identities don’t expire upon graduation, but the idP inserted code into their authentication backend that checks a username for the required affiliations, then returns a negative authN if authZ is negative.\n",
    "VT’s idP returns positive authN regardless of authZ.  So we developed a microservice to check eligibility and ran that out of band\n",
    "*It would be nice* if we could read extended attrs from the idP\n",
    "\n",
    "but anyway you get a list of users who should not be in your org anymore\n",
    "... then what?  This can't be fully automated. \n",
    "* send e-mail  (lambda?)\n",
    "* move content to an archival account?\n",
    "* export content elsewhere?\n"
   ]
  },
  {
   "attachments": {},
   "cell_type": "markdown",
   "metadata": {},
   "source": [
    "## Content Migration and Deprovisioning\n",
    "https://ago-assistant.esri.com/ \n",
    "Know when a user should be deprovisioned\n",
    "Important for license compliance \n",
    "Important for site security\n",
    "“Could” be automatic with Enterprise Login model \u000b",
    "…. depending on idP \n",
    "What to do with the content if there is any\n",
    "User copies it somewhere else (self service operation)\n",
    "An active user inherits it *(admin must do this)\n",
    "Archive it\n",
    "Delete it\n",
    "Have clear communication of timelines and then delete account"
   ]
  },
  {
   "cell_type": "markdown",
   "metadata": {},
   "source": [
    "## Future Directions\n",
    "* More work is needed on what to do with old content\n",
    "* We really need to tackle the storage problem\n",
    "*jupyter teaser for top storage offenders*"
   ]
  },
  {
   "cell_type": "markdown",
   "metadata": {
    "slideshow": {
     "slide_type": "slide"
    }
   },
   "source": [
    "## Scripting\n",
    "* The UI has evolved but has its limits when performing large batch operations\n",
    "* When Scripting for ArcGIS Online organization administration, we mostly use the Python API\n",
    "* But the Python API wraps the REST API, which, in some cases is the only way to do certain things"
   ]
  },
  {
   "cell_type": "markdown",
   "metadata": {
    "slideshow": {
     "slide_type": "slide"
    }
   },
   "source": [
    "## The Python API for organization administration\n",
    "The python API provides a set of objects for administering your Web GIS.\n",
    "See \n",
    "![GIS Module](http://esri.github.io/arcgis-python-api/notebooks/nbimages/guide_gis_module_01.png)"
   ]
  },
  {
   "cell_type": "markdown",
   "metadata": {
    "slideshow": {
     "slide_type": "slide"
    }
   },
   "source": [
    "## Connecting to your Web GIS (ArcGIS Online / ArcGIS Enterprise)\n",
    "To connect to your organization, we import the requisite libraries and then create an object of type \"GIS\":"
   ]
  },
  {
   "cell_type": "code",
   "execution_count": null,
   "metadata": {
    "slideshow": {
     "slide_type": "-"
    }
   },
   "outputs": [],
   "source": [
    "from arcgis.gis import GIS\n",
    "import requests\n",
    "import json\n",
    "import pandas\n",
    "# Connection syntax is\n",
    "# gis = GIS(\"https://myorganization.maps.arcgis.com\",username=\"An_admin_user\",password=\"Please_do_not_put_this_in_clear_text\")\n",
    "with open('vtActiveConfig.json') as configFile:\n",
    "    myConfig = json.load(configFile)\n",
    "gis = GIS(myConfig['agolOrg']['url'],username=myConfig['agolOrg']['username'],password=myConfig['agolOrg']['password'])    \n",
    "gis"
   ]
  },
  {
   "cell_type": "markdown",
   "metadata": {
    "slideshow": {
     "slide_type": "subslide"
    }
   },
   "source": [
    "In my case I put org-specific stuff into a config file so this notebook can be more easily shared with others.\n",
    "The file looks like this:"
   ]
  },
  {
   "cell_type": "code",
   "execution_count": null,
   "metadata": {
    "slideshow": {
     "slide_type": "-"
    }
   },
   "outputs": [],
   "source": [
    "\n",
    "\n",
    "{\n",
    "    \"agolOrg\":{\n",
    "            \"url\":\"https://yourOrgShortName.maps.arcgis.com\",\n",
    "            \"username\":\"*******,\n",
    "            \"password\":\"*******\",\n",
    "            \"shortName\":\"yourOrgShortName\"\n",
    "    },\n",
    "    \"authService\":{\n",
    "            \"url\":\"https://some_url_that_checks_usernames\",\n",
    "            \"username\":\"*****\",\n",
    "            \"password\":\"*****\",\n",
    "            \"valueIfTrue\":\"true\"\n",
    "    }\n",
    "}"
   ]
  },
  {
   "cell_type": "markdown",
   "metadata": {
    "slideshow": {
     "slide_type": "slide"
    }
   },
   "source": [
    "##  Now let's get some info about our users.\n",
    "We're creating a notebook local data structure in a single operation that will then allow subsequent cells to search through a large number of users without a bunch of round trips to AGOL."
   ]
  },
  {
   "cell_type": "code",
   "execution_count": null,
   "metadata": {
    "slideshow": {
     "slide_type": "-"
    }
   },
   "outputs": [],
   "source": [
    "userList = []\n",
    "users = gis.users.search(max_users=2000)\n",
    "\n",
    "for user in users:\n",
    "    #These things come straight from the user dict\n",
    "    d_esriUsername = user.username\n",
    "    d_fullName = user.fullName\n",
    "    d_email = user.email\n",
    "    d_role = user.role\n",
    "    d_storage = (user.storageUsage / 1024)\n",
    "    \n",
    "    #number of content items <=100 is returned by length of items arr\n",
    "    d_items = len(user.items())\n",
    "    #print(d_items)\n",
    "    \n",
    "    #VT PID is returned by stripping off the _virginiatech\n",
    "    d_pid = user.username.rsplit(\"_\"+myConfig['agolOrg']['shortName'])[0]\n",
    "    \n",
    "    #last access comes from https://developers.arcgis.com/python/guide/accessing-and-managing-users/\n",
    "    t_last_accessed = time.localtime(user.lastLogin/1000)\n",
    "    d_lastAccess = \"{}/{}/{}\".format(t_last_accessed[0], t_last_accessed[1], t_last_accessed[2])\n",
    "    \n",
    "    #count of groups this user is a member of\n",
    "    d_groupCount = len(user.groups)\n",
    "    \n",
    "    #Now build a data structure    \n",
    "    currentUserInfo = {\"pid\":d_pid,\n",
    "                        \"esriUsername\":d_esriUsername,\n",
    "                        \"fullName\":d_fullName,\n",
    "                        \"email\":d_email,\n",
    "                        \"storage\":d_storage,\n",
    "                        \"role\":d_role,\n",
    "                        \"lastAccess\":d_lastAccess,\n",
    "                        \"groups\":d_groupCount,\n",
    "                        \"items\":d_items}\n",
    "    userList.append(currentUserInfo)\n",
    "    \n",
    "# iteration done.\n",
    "# now let's make a dataframe.  We'll use this later.\n",
    "df = pandas.DataFrame(userList)\n",
    "df\n",
    "\n",
    "\n"
   ]
  },
  {
   "cell_type": "markdown",
   "metadata": {
    "slideshow": {
     "slide_type": "slide"
    }
   },
   "source": [
    "Now that we have a data structure of user information in memory, we can make administrative decisions based on it.\n",
    "\n",
    "* Search for a role and grant its members ArcGIS Pro licenses\n",
    "* Delete \"drive by\" users\n",
    "* Identify users not affiliated with the institution using an out-of-band lookup service"
   ]
  },
  {
   "cell_type": "code",
   "execution_count": null,
   "metadata": {
    "slideshow": {
     "slide_type": "skip"
    }
   },
   "outputs": [],
   "source": [
    "# What are these weird custom roles?   Let's find out\n",
    "roles = gis.users.roles.all()\n",
    "for role in roles:\n",
    "    print(role)"
   ]
  },
  {
   "cell_type": "code",
   "execution_count": null,
   "metadata": {
    "slideshow": {
     "slide_type": "slide"
    }
   },
   "outputs": [],
   "source": [
    "gis.users.roles.get_role('pH1lPndPVtVbrE6l')"
   ]
  },
  {
   "cell_type": "code",
   "execution_count": null,
   "metadata": {
    "slideshow": {
     "slide_type": "subslide"
    }
   },
   "outputs": [],
   "source": [
    "# Let's get all the users whose role is \"New User\".\n",
    "# We're using the pandas query syntax here\n",
    "df.loc[(df['role'] == 'pH1lPndPVtVbrE6l')]"
   ]
  },
  {
   "cell_type": "code",
   "execution_count": null,
   "metadata": {
    "slideshow": {
     "slide_type": "slide"
    }
   },
   "outputs": [],
   "source": [
    "# Let's give our new users an ArcGIS Pro license\n",
    "# For now, we'll use the licenses and entitlements we expect\n",
    "entitlements = {'ArcGIS Pro': ['geostatAnalystN', 'spatialAnalystN', 'networkAnalystN', 'dataReviewerN',\n",
    "                               'dataInteropN', 'workflowMgrN', '3DAnalystN', 'desktopAdvN']}\n",
    "licenses = {lic: gis.admin.license.get(lic) for lic in entitlements}\n",
    "new_users = gis.users.search(\"pH1lPndPVtVbrE6l\")            \n",
    "for u in new_users:\n",
    "    for license_type in entitlements:\n",
    "        lic = licenses[license_type]\n",
    "        # THIS IS A DEMO SO WE DON'T ACTUALLY PULL THE TRIGGER\n",
    "        #lic.assign(username=u.username, entitlements=entitlements[license_type])\n",
    "        print('{0} entitlements granted to user {1.username}'.format(license_type, u))"
   ]
  },
  {
   "cell_type": "markdown",
   "metadata": {
    "slideshow": {
     "slide_type": "slide"
    }
   },
   "source": [
    "## Example 2: Drive by users"
   ]
  },
  {
   "cell_type": "code",
   "execution_count": null,
   "metadata": {
    "slideshow": {
     "slide_type": "fragment"
    }
   },
   "outputs": [],
   "source": [
    "#Let's just look for the users who have no content items or storage, nor are they in any groups.\n",
    "driveBy = df.loc[(df['storage'] == 0) & (df['items'] == 0) &(df['groups'] ==0)]\n",
    "driveBy"
   ]
  },
  {
   "cell_type": "code",
   "execution_count": null,
   "metadata": {},
   "outputs": [],
   "source": [
    "len(df)"
   ]
  },
  {
   "cell_type": "code",
   "execution_count": null,
   "metadata": {
    "slideshow": {
     "slide_type": "slide"
    }
   },
   "outputs": [],
   "source": [
    "# Sort by last accessed time.\n",
    "driveBy.sort_values('lastAccess')"
   ]
  },
  {
   "cell_type": "markdown",
   "metadata": {
    "slideshow": {
     "slide_type": "slide"
    }
   },
   "source": [
    "####  I feel reasonably confident we can get rid of users who \n",
    "* own no content items\n",
    "* are members of no groups\n",
    "* use no storage\n",
    "* have not logged in for a year\n",
    "\n",
    "... since if that user logs back in, it will be like they never left."
   ]
  },
  {
   "cell_type": "code",
   "execution_count": null,
   "metadata": {
    "slideshow": {
     "slide_type": "slide"
    }
   },
   "outputs": [],
   "source": [
    "# SO we nuke them from orbit\n",
    "deleteList = df.loc[(df['storage'] == 0) & (df['items'] == 0) &(df['groups'] ==0) &(df['lastAccess'].str[:4] != '2018')]\n",
    "deleteList"
   ]
  },
  {
   "cell_type": "code",
   "execution_count": null,
   "metadata": {},
   "outputs": [],
   "source": [
    "len(deleteList)"
   ]
  },
  {
   "cell_type": "code",
   "execution_count": null,
   "metadata": {
    "slideshow": {
     "slide_type": "fragment"
    }
   },
   "outputs": [],
   "source": [
    "for index, row in deleteList.iterrows():\n",
    "    sUserToDelete = df['esriUsername'].values[index]\n",
    "    print (\"Deleting \" + sUserToDelete +\"...\")\n",
    "    #Here we would simply call\n",
    "    #userToDelete = gis.users.search(sUserToDelete, max_users=1)\n",
    "    #userToDelete.delete()"
   ]
  },
  {
   "cell_type": "markdown",
   "metadata": {
    "slideshow": {
     "slide_type": "slide"
    }
   },
   "source": [
    "## Out of band affiliation check\n",
    "Since ArcGIS Online cannot pull extended attributes from a SAML identity provider beyond username and email, we developed a web service to perform a check for \"Active\" status for any username we provide it.  \n",
    "\n",
    "NOTE that this does not translate outside of the Virginia Tech context; we developed a custom solution for this.  \n",
    "Your custom web services can be integrated... in orgConfig.json, provide values for the \"authService\" group:\n",
    "* URL\n",
    "* authKey or password to access the service\n",
    "* value to be returned if the user is a valid member"
   ]
  },
  {
   "cell_type": "code",
   "execution_count": null,
   "metadata": {
    "slideshow": {
     "slide_type": "subslide"
    }
   },
   "outputs": [],
   "source": [
    "userList = []\n",
    "users = gis.users.search(max_users=2000)\n",
    "\n",
    "# Wrap the call to the REST service in a function\n",
    "def isActiveVT(pid):\n",
    "    result = False\n",
    "    url = myConfig['authService']['url']\n",
    "    params = {'authkey':myConfig['authService']['password'],'pid':pid}\n",
    "    r = requests.post(url,data=params)\n",
    "    if(r.text==myConfig['authService']['valueIfTrue']):\n",
    "        result=True\n",
    "    return result\n",
    "\n",
    "for user in users:\n",
    "    d_esriUsername = user.username\n",
    "    d_fullName = user.fullName\n",
    "    d_email = user.email\n",
    "    d_pid = user.username.rsplit(\"_\"+myConfig['agolOrg']['shortName'])[0]\n",
    "\n",
    "    # Call the custom REST service \n",
    "    d_active = \"false\"\n",
    "    if(isActiveVT(d_pid)):\n",
    "        d_active = myConfig['authService']['valueIfTrue'] \n",
    "    \n",
    "    currentUserInfo = {\"pid\":d_pid,\n",
    "                        \"esriUsername\":d_esriUsername,\n",
    "                        \"fullName\":d_fullName,\n",
    "                        \"email\":d_email,\n",
    "                        \"active\":d_active}\n",
    "    userList.append(currentUserInfo)\n",
    "print (str(len(userList)) +\" users are no longer VT affiliates.\")\n",
    "    \n",
    "# iteration done.\n",
    "# now let's make a dataframe.  We'll use this later.\n",
    "df = pandas.DataFrame(userList)\n",
    "df"
   ]
  },
  {
   "cell_type": "code",
   "execution_count": null,
   "metadata": {},
   "outputs": [],
   "source": [
    "nonAffiliates = df.loc[(df['active'] == 'false') ]\n",
    "print(str(len(nonAffiliates)) + \" users are no longer VT Affiliates.\")\n",
    "nonAffiliates"
   ]
  },
  {
   "cell_type": "markdown",
   "metadata": {
    "slideshow": {
     "slide_type": "slide"
    }
   },
   "source": [
    "# Automation needs to integrate with your business processes \n",
    "* Once we generate a list of users who need to be deprovisioned, then what?\n",
    " * We could send them an automatic e-mail notification\n",
    " * Provide references for self-deprovisioning (AGO-Assistant)\n",
    " * Set a time limit for automated content migration\n",
    "   * to another user\n",
    "   * to an orphaned content account\n",
    "* Note that you can't delete users with remaining content.\n",
    "* Content management is a whole separate presentation\n",
    "\n"
   ]
  },
  {
   "cell_type": "markdown",
   "metadata": {
    "slideshow": {
     "slide_type": "slide"
    }
   },
   "source": [
    "![ago-assist](agoassist.png)"
   ]
  },
  {
   "cell_type": "markdown",
   "metadata": {
    "slideshow": {
     "slide_type": "slide"
    }
   },
   "source": [
    "# Options for running Python API code in production\n",
    "* Interactively \n",
    " * Jupyter noteboook\n",
    " * Your preferred Python IDE\n",
    " * Command line\n",
    "* Event driven\n",
    " * AWS Lambda\n",
    "* Recurring\n",
    " * AWS Lambda\n",
    " * cron job/ scheduled task"
   ]
  },
  {
   "cell_type": "markdown",
   "metadata": {
    "slideshow": {
     "slide_type": "subslide"
    }
   },
   "source": [
    "![lambda](lambda.png)"
   ]
  },
  {
   "cell_type": "markdown",
   "metadata": {
    "slideshow": {
     "slide_type": "slide"
    }
   },
   "source": [
    "This presentation was built in Jupyter Notebooks using the RISE notebook extension.\n",
    "\n",
    "I'm running it from a [Jupyter Notebook Server.](https://github.com/sspeery/educ2019/blob/master/jupyter_notebook_server.md)\n",
    "![Architecture](jupyterarch.png)"
   ]
  },
  {
   "cell_type": "markdown",
   "metadata": {
    "slideshow": {
     "slide_type": "slide"
    }
   },
   "source": [
    "# Presenter Contact Information\n",
    ">*Seth Peery*  \n",
    ">    Senior GIS Architect  \n",
    ">    Enterprise GIS (0214)  \n",
    ">        1700 Pratt Drive  \n",
    ">        Blacksburg, VA 24061  \n",
    ">    (540) 231-2178  \n",
    ">    sspeery@vt.edu   \n",
    ">    http://gis.vt.edu\n",
    "![qr](qr.png)\n",
    "GitHub Repository for this presentation and related examples:  https://github.com/sspeery/educ2019"
   ]
  },
  {
   "cell_type": "code",
   "execution_count": null,
   "metadata": {},
   "outputs": [],
   "source": []
  }
 ],
 "metadata": {
  "celltoolbar": "Slideshow",
  "kernelspec": {
   "display_name": "Python 3",
   "language": "python",
   "name": "python3"
  },
  "language_info": {
   "codemirror_mode": {
    "name": "ipython",
    "version": 3
   },
   "file_extension": ".py",
   "mimetype": "text/x-python",
   "name": "python",
   "nbconvert_exporter": "python",
   "pygments_lexer": "ipython3",
   "version": "3.7.3"
  },
  "livereveal": {
   "theme": "serif",
   "transition": "convex"
  }
 },
 "nbformat": 4,
 "nbformat_minor": 2
}

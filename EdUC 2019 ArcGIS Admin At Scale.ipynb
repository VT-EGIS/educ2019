{
 "cells": [
  {
   "cell_type": "markdown",
   "metadata": {
    "slideshow": {
     "slide_type": "slide"
    }
   },
   "source": [
    "# ArcGIS Online Organization Administration at Scale\n",
    "## ESRI EdUC 2019\n",
    "## Seth Peery, Sr. GIS Architect, Virginia Tech\n"
   ]
  },
  {
   "cell_type": "code",
   "execution_count": 1,
   "metadata": {
    "slideshow": {
     "slide_type": "skip"
    }
   },
   "outputs": [
    {
     "data": {
      "text/plain": [
       "{'width': 1440, 'height': 900, 'scroll': True}"
      ]
     },
     "execution_count": 1,
     "metadata": {},
     "output_type": "execute_result"
    }
   ],
   "source": [
    "# This simply sets up the environment for us to run the Jupyter Notebook as a presentation\n",
    "from notebook.services.config import ConfigManager\n",
    "cm = ConfigManager()\n",
    "cm.update('livereveal', {\n",
    "        'width': 1440,\n",
    "        'height': 900,\n",
    "        'scroll': True,\n",
    "})"
   ]
  },
  {
   "cell_type": "markdown",
   "metadata": {
    "slideshow": {
     "slide_type": "slide"
    }
   },
   "source": [
    "# Link to this Presentation and Code\n",
    "\n",
    "![qr](images/qr.png)\n",
    "https://github.com/sspeery/educ2019\n",
    "\n"
   ]
  },
  {
   "cell_type": "markdown",
   "metadata": {
    "slideshow": {
     "slide_type": "slide"
    }
   },
   "source": [
    "# Rationale for organization management\n",
    "* Software as a Service products must be managed with the same attention we give on-premises systems\n",
    "* Management objective is to lower impediments to use of ArcGIS Online\n",
    "* AGOL depends on finite shared resources; org administration is the stewardship of these resources\n",
    " * named users\n",
    " * service credits\n",
    " * Pro and other licenses\n",
    " * usability and organization of the site\n",
    "* AGOL orgs can become unwieldy at scale, and require different approaches\n",
    "* User lifecycle stages require different management practices over time\n",
    "* Processes, training and automation become increasingly important for large orgs\n"
   ]
  },
  {
   "cell_type": "markdown",
   "metadata": {
    "slideshow": {
     "slide_type": "slide"
    }
   },
   "source": [
    "## A brief history of SaaS WebGIS Administration\n",
    "* From a mindset of scarcity to abundance\n",
    "* From a niche content service to the foundation of a WebGIS\n",
    "* Scripting evolved to fill gaps in the API\n",
    "* Constant evolution of the technology makes past administration best practice obsolete\n"
   ]
  },
  {
   "cell_type": "markdown",
   "metadata": {
    "slideshow": {
     "slide_type": "slide"
    }
   },
   "source": [
    "## Scale Considerations\n",
    "* DevOps metaphor: cattle v. pets\n",
    "* An amorphous blob of users vs first name basis\n",
    "* Use batch operations as often as possible\n",
    "* Think in the aggregate\n",
    "* Anticipate user life cycle events (especially important in university communities with transient populations!)\n",
    "    * onboarding\n",
    "    * ad hoc requests\n",
    "    * deprovisioning\n"
   ]
  },
  {
   "cell_type": "markdown",
   "metadata": {
    "slideshow": {
     "slide_type": "slide"
    }
   },
   "source": [
    "![events](images/adminflow.png)"
   ]
  },
  {
   "cell_type": "markdown",
   "metadata": {
    "slideshow": {
     "slide_type": "slide"
    }
   },
   "source": [
    "# Org administration tasks\n",
    "* Enterprise Logins\n",
    "* Auto provisioning\n",
    "* Initial default privileges and entitements\n",
    "* Credit stewardship\n",
    "* Pro Licenses\n",
    "* Ad hoc requests\n",
    "* Content migration\n",
    "* Deprovisioning"
   ]
  },
  {
   "cell_type": "markdown",
   "metadata": {
    "slideshow": {
     "slide_type": "slide"
    }
   },
   "source": [
    "## Enterprise Logins with automatic provisioning\n",
    "\n",
    "Once your organization reaches a certain scale, sending invitations to new users is untenable.\n",
    "\n",
    "We assume that most all entities with large AGOL organizations will have an Enterprise idP (Identity Provider) with which AGOL can federate for purposes of authentication.\n",
    "\n",
    "Therefore, it's a best practice to use Enterprise Logins with the auto-provisioning model.  This is step # 1. \n",
    "\n",
    "At that point, the work is shifted from managing users on the front end (onboarding) to figuring out what to do with them after they show up. \n",
    "\n",
    "<img src=\"images/entlogins.png\" alt=\"Enterprise Logins\" style=\"width: 500px;\"/>"
   ]
  },
  {
   "cell_type": "markdown",
   "metadata": {
    "slideshow": {
     "slide_type": "slide"
    }
   },
   "source": [
    "## Setting Default User Privileges\n",
    "After many years of complaining by the education community, ESRI has finally come out with an out of the box solution for auto-provisioning of many of the things we've had to use scripting for in the past: *New Member Defaults.*\n",
    "\n",
    "This allows for automatic allocation of Software licenses, Credit Budgets, Groups, User Types, Roles, ESRI Access and  *dramatically* cuts down on onboarding overhead. *\n",
    "<table><tr><td><img src=\"images/newmemberdefaults.png\"  style=\"width: 600px;\"/></td><td>\n",
    "    \n",
    "## New Member Defaults Philosophy\n",
    "#### \"Functionaly Unlimited\" \n",
    "#### Give users maximum latitude \n",
    "##### but monitor the overall organization consumption of (decreasingly) finite resources\n",
    "#### With credit budgeting it is OK to give the Publisher Role\n",
    "#### Credits are not really a limiting factor any more \n",
    "##### (but licenses and named users might be)\n",
    "\n",
    " </td></tr></table>\n",
    "\n",
    "* it also made a big chunk of this presentation obsolete and I had to redo it after the June Release.  Thanks, ESRI.\n"
   ]
  },
  {
   "cell_type": "markdown",
   "metadata": {
    "slideshow": {
     "slide_type": "slide"
    }
   },
   "source": [
    "## The Geri Miller Guide to Geo-enabling Your Campus with New Member Defaults\n",
    "1. Enable enterprise logins, commonly known as SSO – integrate with existing business systems and do not create arcgis-only accounts (unless when working with outside affiliates).\n",
    "2. Enable \"Automatically\" join for enterprise logins (also known as auto-provisioning), so that new users are automatically granted access to ArcGIS.\n",
    "3. Configure the \"New Member Defaults\" so that people have access to everything in ArcGIS they might need to do their job:\n",
    "    1. Leave the default user type set to \"Creator\". (FYI, the default user type will soon become GIS Professional Advanced for those with institutional agreements.)\n",
    "    2. Set the role to \"Publisher\" – empower everyone with the abilities to do the work they need to do\n",
    "    3. Configure default Add-on Licenses (ArcGIS Pro, Insights, Business Analyst, Community Analyst, GeoPlanner, etc.)\n",
    "    4. Set a Credit Quota (1000, 2000, 5000, etc.) whatever fits your institution -- enable your community to do their work, yet protect them from accidental mistakes\n",
    "    5. Enable Esri Access for everyone – allow them to utilize Esri Academy (E-Learning/Esri Training), GeoNet, etc.\n",
    "4. Encourage students, faculty, staff to leverage all free options for self-learning, such as Learn ArcGIS, Esri Academy, documentation, etc.\n",
    "\n"
   ]
  },
  {
   "cell_type": "markdown",
   "metadata": {
    "slideshow": {
     "slide_type": "slide"
    }
   },
   "source": [
    "## Documentation\n",
    "* The customization and automation necessary in large scale organizations become a critical part of your infrastructure!\n",
    "* It can be challenging to remember what you did for non-recurring operations\n",
    "* Jupyter Notebooks, like this presentation, can store documentation alongside executable code\n",
    "    * These can be run locally or on a jupyter notebook server.  \n",
    "    * [Here's how to set up a Jupyter Notebook Server](https://github.com/sspeery/educ2019/blob/master/jupyter_notebook_server.md)\n",
    "* Revision control, like github, can be used for storing the authoritative versions of scripts (and sharing them!)\n",
    "* Internal wikis are also a good documentation repository\n",
    "* As we move towards Infrastructure as Code, artifacts that we create are more amenable to revision control. "
   ]
  },
  {
   "cell_type": "markdown",
   "metadata": {
    "slideshow": {
     "slide_type": "slide"
    }
   },
   "source": [
    "## User Interaction Events\n",
    "* When operating at scale we need efficient mechanisms to communicate with our users\n",
    "* It is very useful to maintain a listserv of AGOL users for sitewide notifications (and also is a decent proxy for your institution's GIS user base!)\n",
    "* When users need to contact us, it gets unwieldy if they e-mail the admins directly.\n",
    "* A good practice in this space is to create points of entry into a ticketing system for AGOL ad hoc events\n",
    "* Even better if one can automate the fulfillment of the fickets using Python!]\n",
    "\n",
    "\n",
    "<table><tr><td><img src=\"images/serCat.png\"  /></td></tr></table>"
   ]
  },
  {
   "cell_type": "markdown",
   "metadata": {
    "slideshow": {
     "slide_type": "slide"
    }
   },
   "source": [
    "## Communication\n",
    "* Successful management of AGOL is a collaborative process with stakeholders.\n",
    "* The out of the box functionality of an AGOL org is wrapped in a business process layer that will depend on your administration strategy.\n",
    "\n",
    "_Users need to know how you operate your organizations._\n",
    "\n",
    "Define standard operating procedures for \n",
    "* User onboarding\n",
    "* Credit consumption and budgeting\n",
    "* Default role privileges and escalation processes\n",
    "* Process for deprovisioning\n",
    "* Process to request more credits/privileges/ content transfer\n",
    "* Identify a single point to request ad hoc operations or ask questions.\n",
    "* User training via documentation, seminars, presentations\n",
    "\n",
    "\n",
    "\n",
    "  \n",
    "     \n",
    "       \n",
    "       \n"
   ]
  },
  {
   "cell_type": "markdown",
   "metadata": {
    "slideshow": {
     "slide_type": "slide"
    }
   },
   "source": [
    "## Scripting\n",
    "* The UI has evolved dramatically in terms of what you can do out of the box\n",
    "* ... but has its limits when performing large batch operations\n",
    "* When Scripting for ArcGIS Online organization administration, we mostly use the Python API\n",
    "* But the Python API wraps the REST API, which, in some cases is the only way to do certain things"
   ]
  },
  {
   "cell_type": "markdown",
   "metadata": {
    "slideshow": {
     "slide_type": "slide"
    }
   },
   "source": [
    "## The Python API for organization administration\n",
    "The python API provides a set of objects for administering your Web GIS.\n",
    "See \n",
    "![GIS Module](images/guide_gis_module_01.png)"
   ]
  },
  {
   "cell_type": "markdown",
   "metadata": {
    "slideshow": {
     "slide_type": "slide"
    }
   },
   "source": [
    "## New User cron job\n",
    "\n",
    "Even with New Member Defaults, depending on your admin strategy you may still want to do some things to new users when they auto provision in an organization.  This example demonstrates:\n",
    "* Give all members all licenses\n",
    "* Make sure everyone has ESRI access\n",
    "* Add members to an e-mail list\n",
    "\n",
    "### [New User Cron](https://jupyter2.aws.gis.cloud.vt.edu:8888/jupyter/notebooks/educ2019/Standalone_New_User_Cron.ipynb)\n"
   ]
  },
  {
   "cell_type": "markdown",
   "metadata": {
    "slideshow": {
     "slide_type": "slide"
    }
   },
   "source": [
    "## Removing \"Drive by Users\"\n",
    "\n",
    "### [Drive By Users Example](https://jupyter2.aws.gis.cloud.vt.edu:8888/jupyter/notebooks/educ2019/DriveByUserDeletion.ipynb)"
   ]
  },
  {
   "cell_type": "markdown",
   "metadata": {
    "slideshow": {
     "slide_type": "slide"
    }
   },
   "source": [
    "## Topping off a user's credits on demand\n",
    "\n",
    "### With AWS Lambda goodness and ticketing system integration"
   ]
  },
  {
   "cell_type": "markdown",
   "metadata": {
    "slideshow": {
     "slide_type": "slide"
    }
   },
   "source": [
    "## Identifying users who are no longer affiliated\n",
    "\n",
    "\n",
    "how you determine who is an affiliate is up to you\n",
    "Some idPs (e.g., Active Directory) may return a negative authentication response once a user has been deactivated or removed.  Thus users are locked out automatically.\n",
    "At the University of Michigan, identities don’t expire upon graduation, but the idP inserted code into their authentication backend that checks a username for the required affiliations, then returns a negative authN if authZ is negative.\n",
    "VT’s idP returns positive authN regardless of authZ.  So we developed a microservice to check eligibility and ran that out of band\n",
    "*It would be nice* if we could read extended attrs from the idP\n",
    "\n",
    "but anyway you get a list of users who should not be in your org anymore\n",
    "... then what?  This can't be fully automated. \n",
    "\n",
    "_The Official ESRI Position here is \"don't do anything\"_\n",
    "* notify them\n",
    "* move content to an archival account?\n",
    "* export content elsewhere?\n"
   ]
  },
  {
   "cell_type": "code",
   "execution_count": null,
   "metadata": {},
   "outputs": [],
   "source": [
    "from arcgis.gis import GIS\n",
    "import requests\n",
    "import time\n",
    "import csv\n",
    "import json\n",
    "import pandas\n",
    "from time import strftime\n",
    "from urllib.parse import urlparse\n",
    "import getpass\n",
    "\n",
    "# Make the connection to VT ArcGIS Online\n",
    "with open('vtActiveConfig.json') as configFile:\n",
    "    myConfig = json.load(configFile)\n",
    "\n",
    "# now connect\n",
    "gis = GIS(myConfig['agolOrg']['url'],username=myConfig['agolOrg']['username'],password=myConfig['agolOrg']['password'])    \n",
    "orgShortName = urlparse(orgURL).hostname[:-len('.maps.arcgis.com')]\n",
    "\n",
    "# verify that it works\n",
    "try:\n",
    "    org = gis.properties.name\n",
    "    print (\"Connected to \" + org)\n",
    "except exception as ex:\n",
    "        print (\"Error retrieving AGOL org properties.\")\n",
    "userList = []\n",
    "users = gis.users.search(max_users=200)\n",
    "\n",
    "# Wrap the call to the REST service in a function\n",
    "def isActiveVT(pid):\n",
    "    result = False\n",
    "    url = myConfig['authService']['url']\n",
    "    params = {'authkey':myConfig['authService']['password'],'pid':pid}\n",
    "    r = requests.post(url,data=params)\n",
    "    if(r.text==myConfig['authService']['valueIfTrue']):\n",
    "        result=True\n",
    "    return result\n",
    "\n",
    "for user in users:\n",
    "    d_esriUsername = user.username\n",
    "    d_fullName = user.fullName\n",
    "    d_email = user.email\n",
    "    d_pid = user.username.rsplit(\"_\"+myConfig['agolOrg']['shortName'])[0]\n",
    "\n",
    "    # Call the custom REST service \n",
    "    d_active = \"false\"\n",
    "    # Here we are using 'requests' to query https://apps.itpals.vt.edu/AGOL/checkActive.pl \n",
    "    if(isActiveVT(d_pid)):                \n",
    "        d_active = myConfig['authService']['valueIfTrue'] \n",
    "    \n",
    "    currentUserInfo = {\"pid\":d_pid,\n",
    "                        \"esriUsername\":d_esriUsername,\n",
    "                        \"fullName\":d_fullName,\n",
    "                        \"email\":d_email,\n",
    "                        \"active\":d_active}\n",
    "    userList.append(currentUserInfo)\n",
    "    \n",
    "# iteration done.\n",
    "# now let's make a dataframe. \n",
    "df = pandas.DataFrame(userList)\n",
    "nonAffiliates = df.loc[(df['active'] == 'false') ]\n",
    "print(str(len(nonAffiliates)) + \" users are no longer VT Affiliates.\")\n",
    "nonAffiliates"
   ]
  },
  {
   "cell_type": "markdown",
   "metadata": {
    "slideshow": {
     "slide_type": "skip"
    }
   },
   "source": [
    "## REST API example\n",
    "\n",
    "The ArcGIS Python API gis module handles a majority of the things you might need to do with your organization at scale. \n",
    "But there are exceptions.  \n",
    "Thankfully, since the REST API underlies the Python API _and_ the admin GUI, if it can be done at all, it can be done with REST and the requests module.\n",
    "\n",
    "## [REST API example: Custom Role IDs](https://jupyter2.aws.gis.cloud.vt.edu:8888/jupyter/notebooks/educ2019/REST_API_Custom_Role_Ids.ipynb)"
   ]
  },
  {
   "cell_type": "markdown",
   "metadata": {
    "slideshow": {
     "slide_type": "slide"
    }
   },
   "source": [
    "## Reverse Engineering the ArcGIS Online Admin GUI\n",
    "\n",
    "There are times we want to do something that seems like it should be possible in the GUI, but is not straightforward to do it in Python.  \n",
    "* Use Chrome Developer Tools to inspect the http traffic to the Portal's REST API\n",
    "* Use PostMan to craft our own requests to mimic what the GUI is doing \n",
    "* Use the requests module to make the request from Python\n",
    "<table><tr><td><img src=\"images/ChromeDevTools.png\" alt=\"devtools\" style=\"width: 500px;\"/></td><td><img src=\"images/postman.png\" alt=\"postman\" style=\"width: 500px;\"/></td>"
   ]
  },
  {
   "cell_type": "markdown",
   "metadata": {
    "slideshow": {
     "slide_type": "slide"
    }
   },
   "source": [
    "## Content Migration and Deprovisioning\n",
    "<table><tr><td>\n",
    "    <ul>\n",
    "        <li> Know when a user should be deprovisioned</li>\n",
    "        <li> Important for license compliance </li>\n",
    "        <li> Important for site security </li>\n",
    "        <li> “Could” be automatic with Enterprise Login model …. depending on idP </li>\n",
    "        <li> What to do with the content if there is any <li>\n",
    "        <li> User copies it somewhere else (self service operation)</li>\n",
    "        <li> An active user inherits it *(admin must do this) </li>\n",
    "        <li>Archive it</li>\n",
    "        <li> Delete it </li>\n",
    "        <li> Have clear communication of timelines and then delete account </li></ul>\n",
    "    </td><td>\n",
    "<img src=\"images/agoassist.png\"/>\n",
    "    <a href =\"https://ago-assistant.esri.com/\">https://ago-assistant.esri.com/</a>\n",
    "    </td></tr></table>"
   ]
  },
  {
   "cell_type": "markdown",
   "metadata": {
    "slideshow": {
     "slide_type": "slide"
    }
   },
   "source": [
    "## Finding who is using the most storage\n",
    "\n",
    "* Storage does not count against user credit quotas, but it is a persistent, permament credit sink for an organization.\n",
    "* With \"functionally unlimited\" storage we may not need to care about this, but we need to be aware of it. \n",
    "* This example takes a long time to run. \n",
    "* We find and plot the top 20 storage users in the org.\n",
    "![](images/storage.png)"
   ]
  },
  {
   "cell_type": "code",
   "execution_count": 19,
   "metadata": {
    "slideshow": {
     "slide_type": "-"
    }
   },
   "outputs": [
    {
     "data": {
      "image/png": "[encoded data removed]",
      "text/plain": [
       "<Figure size 432x288 with 1 Axes>"
      ]
     },
     "metadata": {},
     "output_type": "display_data"
    }
   ],
   "source": [
    "from matplotlib import pyplot as plt\n",
    "userList = []\n",
    "users = gis.users.search(max_users=9999)\n",
    "\n",
    "for user in users:\n",
    "    #These things come straight from the user dict\n",
    "    d_esriUsername = user.username\n",
    "    d_fullName = user.fullName\n",
    "    d_email = user.email\n",
    "    d_role = user.role\n",
    "    d_storage = (user.storageUsage / 1024)\n",
    "    \n",
    "    #number of content items <=100 is returned by length of items arr\n",
    "    d_items = len(user.items())\n",
    "    #print(d_items)\n",
    "    \n",
    "    #VT PID is returned by stripping off the _virginiatech\n",
    "    d_pid = user.username.rsplit(\"_\"+myConfig['agolOrg']['shortName'])[0]\n",
    "    \n",
    "    #last access comes from https://developers.arcgis.com/python/guide/accessing-and-managing-users/\n",
    "    t_last_accessed = time.localtime(user.lastLogin/1000)\n",
    "    d_lastAccess = \"{}/{}/{}\".format(t_last_accessed[0], t_last_accessed[1], t_last_accessed[2])\n",
    "    \n",
    "    #count of groups this user is a member of\n",
    "    d_groupCount = len(user.groups)\n",
    "    \n",
    "    #Now build a data structure    \n",
    "    currentUserInfo = {\"pid\":d_pid,\n",
    "                        \"esriUsername\":d_esriUsername,\n",
    "                        \"fullName\":d_fullName,\n",
    "                        \"email\":d_email,\n",
    "                        \"storage\":d_storage,\n",
    "                        \"role\":d_role,\n",
    "                        \"lastAccess\":d_lastAccess,\n",
    "                        \"groups\":d_groupCount,\n",
    "                        \"items\":d_items}\n",
    "    userList.append(currentUserInfo)\n",
    "    \n",
    "# iteration done.\n",
    "# now let's make a dataframe.  We'll use this later.\n",
    "df = pandas.DataFrame(userList)\n",
    "top20 = df.sort_values(by='storage', ascending=False).head(20)\n",
    "top20.plot (y='storage',labels=top20['pid'],kind='pie', legend=False)\n",
    "plt.show()"
   ]
  },
  {
   "cell_type": "markdown",
   "metadata": {
    "slideshow": {
     "slide_type": "slide"
    }
   },
   "source": [
    "# Options for running Python API code in production\n",
    "* Interactively \n",
    " * Jupyter noteboook\n",
    " * Your preferred Python IDE\n",
    " * Command line\n",
    "* Event driven\n",
    " * AWS Lambda\n",
    "* Recurring\n",
    " * AWS Lambda\n",
    " * cron job/ scheduled task"
   ]
  },
  {
   "cell_type": "markdown",
   "metadata": {
    "slideshow": {
     "slide_type": "-"
    }
   },
   "source": [
    "![lambda](images/lambda.png)"
   ]
  },
  {
   "cell_type": "markdown",
   "metadata": {
    "slideshow": {
     "slide_type": "slide"
    }
   },
   "source": [
    "This presentation was built in Jupyter Notebooks using the RISE notebook extension.\n",
    "\n",
    "I'm running it from a [Jupyter Notebook Server.](https://github.com/sspeery/educ2019/blob/master/jupyter_notebook_server.md)\n",
    "![Architecture](images/jupyterarch.png)"
   ]
  },
  {
   "cell_type": "markdown",
   "metadata": {
    "slideshow": {
     "slide_type": "slide"
    }
   },
   "source": [
    "# Presenter Contact Information\n",
    ">*Seth Peery*  \n",
    ">    Senior GIS Architect  \n",
    ">    Enterprise GIS (0214)  \n",
    ">        1700 Pratt Drive  \n",
    ">        Blacksburg, VA 24061  \n",
    ">    (540) 231-2178  \n",
    ">    sspeery@vt.edu   \n",
    ">    http://gis.vt.edu\n",
    "![qr](images/qr.png)\n",
    "GitHub Repository for this presentation and related examples:  https://github.com/sspeery/educ2019"
   ]
  }
 ],
 "metadata": {
  "celltoolbar": "Slideshow",
  "kernelspec": {
   "display_name": "Python 3",
   "language": "python",
   "name": "python3"
  },
  "language_info": {
   "codemirror_mode": {
    "name": "ipython",
    "version": 3
   },
   "file_extension": ".py",
   "mimetype": "text/x-python",
   "name": "python",
   "nbconvert_exporter": "python",
   "pygments_lexer": "ipython3",
   "version": "3.7.3"
  },
  "livereveal": {
   "theme": "serif",
   "transition": "convex"
  }
 },
 "nbformat": 4,
 "nbformat_minor": 2
}

{
 "cells": [
  {
   "cell_type": "code",
   "execution_count": 1,
   "metadata": {},
   "outputs": [
    {
     "name": "stdout",
     "output_type": "stream",
     "text": [
      "pH1lPndPVtVbrE6l\n"
     ]
    }
   ],
   "source": [
    "# Using the REST API we define a function to get a custom role ID by name\n",
    "import requests\n",
    "import json\n",
    "import pandas\n",
    "\n",
    "# Note: this does NOT depend on the arcgis python API, but you can certainly integrate it with code that does. \n",
    "\n",
    "# We need to get a token first before we can make the REST API request. \n",
    "def generateToken(username, password, portalUrl):\n",
    "    ''' Retrieves a token to be used with API requests.\n",
    "        Adapted from the urllib example at http://enterprise.arcgis.com/en/portal/latest/administer/windows/scripting-with-the-arcgis-rest-api.htm\n",
    "        to use the requests module.\n",
    "    '''\n",
    "    parameters = {  'client'    : 'referer',\n",
    "                    'username'  : username,\n",
    "                    'password'  : password,\n",
    "                    'referer'   : portalUrl,\n",
    "                    'expiration': 60,\n",
    "                    'f'         : 'json'}\n",
    "    \n",
    "    response = requests.post(portalUrl+\"/sharing/rest/generateToken\",data=parameters)\n",
    "    try:\n",
    "        jsonResponse = json.loads(response.text)\n",
    "        if 'token' in jsonResponse:\n",
    "            return jsonResponse['token']\n",
    "        elif 'error' in jsonResponse:\n",
    "            print (jsonResponse['error']['message'])\n",
    "            for detail in jsonResponse['error']['details']:\n",
    "                print (detail)\n",
    "    except ValueError as e:\n",
    "        print ('An unspecified error occurred.')\n",
    "        print (e)\n",
    "        \n",
    "def get_roles(token, portalUrl):\n",
    "    parameters={'token':token,'f':'json','num':100}  #NOTE: if you have more than 100 custom roles you'll need to paginate results\n",
    "    response = requests.get(portalUrl+\"/sharing/rest/portals/self/roles\", params=parameters)\n",
    "    if(response.ok):\n",
    "        jsonResponse = json.loads(response.content)\n",
    "        roleMappings = jsonResponse['roles']\n",
    "        return roleMappings\n",
    "    \n",
    "# Step 1: Load global config with auth credentials\n",
    "# (you could also get these interactively):\n",
    "with open('vtActiveConfig.json') as configFile:\n",
    "    myConfig = json.load(configFile)\n",
    "    \n",
    "# Step 2: generate the auth token\n",
    "token = generateToken(myConfig['agolOrg']['username'], myConfig['agolOrg']['password'], myConfig['agolOrg']['url'])\n",
    "\n",
    "# Step 3: Retrieve all Custom roles\n",
    "customRoles = get_roles(token,myConfig['agolOrg']['url'])\n",
    "df = pandas.DataFrame((customRoles))\n",
    "\n",
    "# Step 4ascii: lookup the role you want\n",
    "def getRoleId(roleName,sourceRoleDf):\n",
    "    return sourceRoleDf.loc[sourceRoleDf['name'] == roleName, 'id'].item()\n",
    "\n",
    "\n",
    "\n",
    "# Call the function\n",
    "# Substitute the name of any role you want to lookup for \"New_User\"\n",
    "\n",
    "\n",
    "print(getRoleId(\"New_User\",df))"
   ]
  }
 ],
 "metadata": {
  "kernelspec": {
   "display_name": "Python 3",
   "language": "python",
   "name": "python3"
  },
  "language_info": {
   "codemirror_mode": {
    "name": "ipython",
    "version": 3
   },
   "file_extension": ".py",
   "mimetype": "text/x-python",
   "name": "python",
   "nbconvert_exporter": "python",
   "pygments_lexer": "ipython3",
   "version": "3.7.3"
  }
 },
 "nbformat": 4,
 "nbformat_minor": 2
}

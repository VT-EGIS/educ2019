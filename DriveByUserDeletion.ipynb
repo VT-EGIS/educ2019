{
 "cells": [
  {
   "cell_type": "markdown",
   "metadata": {
    "slideshow": {
     "slide_type": "slide"
    }
   },
   "source": [
    "# Quick and Dirty Removal of \"Drive By\" users. \n",
    "A \"drive by\" user is one who logged in once but never did anything with AGOL.  They have no content, are not a member of any groups, have not logged in over the last year, and use no storage.  In other words, they can be safely deleted to reclaim named users in an auto-provisioning organization because when they come back, it will be like they never left.  In order to get rid of these users, we need to\n",
    "1. Identify them based on the criteria above\n",
    "2. Remove all their licenses, releasing them to the pool\n",
    "3. Delete them\n",
    "### Author: Seth Peery, Virginia Polytechnic Institute and State University\n",
    "### Last Modified July 3, 2019"
   ]
  },
  {
   "cell_type": "code",
   "execution_count": 5,
   "metadata": {
    "slideshow": {
     "slide_type": "fragment"
    }
   },
   "outputs": [],
   "source": [
    "from arcgis.gis import GIS\n",
    "import requests\n",
    "import time\n",
    "import csv\n",
    "import json\n",
    "import pandas\n",
    "from time import strftime\n",
    "from urllib.parse import urlparse\n",
    "import getpass"
   ]
  },
  {
   "cell_type": "code",
   "execution_count": 6,
   "metadata": {
    "slideshow": {
     "slide_type": "subslide"
    }
   },
   "outputs": [
    {
     "name": "stdout",
     "output_type": "stream",
     "text": [
      "Enter your AGOL Administrator Password········\n",
      "Connected to Virginia Tech\n"
     ]
    }
   ],
   "source": [
    "# Make the connection to your ArcGIS Online Organization\n",
    "orgURL = \"https://virginiatech.maps.arcgis.com\" # <==update for your org\n",
    "orgUser = \"sspeery\"                             # <==update for your org\n",
    "orgPwd = getpass.getpass(\"Enter your AGOL Administrator Password\")\n",
    "gis = GIS(orgURL,username=orgUser,password=orgPwd) \n",
    "orgShortName = urlparse(orgURL).hostname[:-len('.maps.arcgis.com')]\n",
    "\n",
    "# verify that it works\n",
    "try:\n",
    "    org = gis.properties.name\n",
    "    print (\"Connected to \" + org)\n",
    "except exception as ex:\n",
    "        print (\"Error retrieving AGOL org properties.\")"
   ]
  },
  {
   "cell_type": "code",
   "execution_count": 8,
   "metadata": {
    "slideshow": {
     "slide_type": "subslide"
    }
   },
   "outputs": [
    {
     "data": {
      "text/html": [
       "<div>\n",
       "<style scoped>\n",
       "    .dataframe tbody tr th:only-of-type {\n",
       "        vertical-align: middle;\n",
       "    }\n",
       "\n",
       "    .dataframe tbody tr th {\n",
       "        vertical-align: top;\n",
       "    }\n",
       "\n",
       "    .dataframe thead th {\n",
       "        text-align: right;\n",
       "    }\n",
       "</style>\n",
       "<table border=\"1\" class=\"dataframe\">\n",
       "  <thead>\n",
       "    <tr style=\"text-align: right;\">\n",
       "      <th></th>\n",
       "      <th>email</th>\n",
       "      <th>esriUsername</th>\n",
       "      <th>fullName</th>\n",
       "      <th>groups</th>\n",
       "      <th>items</th>\n",
       "      <th>lastAccess</th>\n",
       "      <th>pid</th>\n",
       "      <th>role</th>\n",
       "      <th>storage</th>\n",
       "    </tr>\n",
       "  </thead>\n",
       "  <tbody>\n",
       "    <tr>\n",
       "      <th>0</th>\n",
       "      <td></td>\n",
       "      <td>aabhi_virginiatech</td>\n",
       "      <td>Abhishek Abhyankar</td>\n",
       "      <td>1</td>\n",
       "      <td>14</td>\n",
       "      <td>2016/5/4</td>\n",
       "      <td>aabhi</td>\n",
       "      <td>org_publisher</td>\n",
       "      <td>1399.333008</td>\n",
       "    </tr>\n",
       "    <tr>\n",
       "      <th>1</th>\n",
       "      <td>aaronh99@vt.edu</td>\n",
       "      <td>aaronh99_virginiatech</td>\n",
       "      <td>Aaron Henry</td>\n",
       "      <td>1</td>\n",
       "      <td>12</td>\n",
       "      <td>2018/12/5</td>\n",
       "      <td>aaronh99</td>\n",
       "      <td>org_publisher</td>\n",
       "      <td>14339.505859</td>\n",
       "    </tr>\n",
       "    <tr>\n",
       "      <th>2</th>\n",
       "      <td>aarony98@vt.edu</td>\n",
       "      <td>aarony98_virginiatech</td>\n",
       "      <td>Aaron Yowell</td>\n",
       "      <td>1</td>\n",
       "      <td>6</td>\n",
       "      <td>2019/2/18</td>\n",
       "      <td>aarony98</td>\n",
       "      <td>org_publisher</td>\n",
       "      <td>16128.606445</td>\n",
       "    </tr>\n",
       "    <tr>\n",
       "      <th>3</th>\n",
       "      <td>aarshadi@vt.edu</td>\n",
       "      <td>aarshadi_virginiatech</td>\n",
       "      <td></td>\n",
       "      <td>0</td>\n",
       "      <td>6</td>\n",
       "      <td>2019/5/9</td>\n",
       "      <td>aarshadi</td>\n",
       "      <td>org_publisher</td>\n",
       "      <td>11786.054688</td>\n",
       "    </tr>\n",
       "    <tr>\n",
       "      <th>4</th>\n",
       "      <td></td>\n",
       "      <td>abby15_virginiatech</td>\n",
       "      <td>Abby Qualliotine</td>\n",
       "      <td>1</td>\n",
       "      <td>2</td>\n",
       "      <td>2016/4/5</td>\n",
       "      <td>abby15</td>\n",
       "      <td>wEn8NO3VNLcycmpV</td>\n",
       "      <td>2006.706055</td>\n",
       "    </tr>\n",
       "    <tr>\n",
       "      <th>5</th>\n",
       "      <td>abbyb99@vt.edu</td>\n",
       "      <td>abbyb99_virginiatech</td>\n",
       "      <td>Abigail Bryerton</td>\n",
       "      <td>1</td>\n",
       "      <td>0</td>\n",
       "      <td>2018/3/11</td>\n",
       "      <td>abbyb99</td>\n",
       "      <td>org_publisher</td>\n",
       "      <td>0.000000</td>\n",
       "    </tr>\n",
       "    <tr>\n",
       "      <th>6</th>\n",
       "      <td>abbye97@vt.edu</td>\n",
       "      <td>abbye97_virginiatech</td>\n",
       "      <td>Abigail England</td>\n",
       "      <td>2</td>\n",
       "      <td>8</td>\n",
       "      <td>2019/4/1</td>\n",
       "      <td>abbye97</td>\n",
       "      <td>org_publisher</td>\n",
       "      <td>3674.511719</td>\n",
       "    </tr>\n",
       "    <tr>\n",
       "      <th>7</th>\n",
       "      <td>abbyp98@vt.edu</td>\n",
       "      <td>abbyp98_virginiatech</td>\n",
       "      <td>Abigail Potter</td>\n",
       "      <td>1</td>\n",
       "      <td>15</td>\n",
       "      <td>2018/5/1</td>\n",
       "      <td>abbyp98</td>\n",
       "      <td>org_publisher</td>\n",
       "      <td>42183.235352</td>\n",
       "    </tr>\n",
       "    <tr>\n",
       "      <th>8</th>\n",
       "      <td>abcazenave@vt.edu</td>\n",
       "      <td>abcazenave_virginiatech</td>\n",
       "      <td>Alexandre Cazenave</td>\n",
       "      <td>0</td>\n",
       "      <td>0</td>\n",
       "      <td>2019/5/6</td>\n",
       "      <td>abcazenave</td>\n",
       "      <td>org_publisher</td>\n",
       "      <td>0.000000</td>\n",
       "    </tr>\n",
       "    <tr>\n",
       "      <th>9</th>\n",
       "      <td>abdela98@vt.edu</td>\n",
       "      <td>abdela98_virginiatech</td>\n",
       "      <td>Abdel Rahman Altarazi</td>\n",
       "      <td>0</td>\n",
       "      <td>0</td>\n",
       "      <td>2018/10/1</td>\n",
       "      <td>abdela98</td>\n",
       "      <td>org_publisher</td>\n",
       "      <td>0.000000</td>\n",
       "    </tr>\n",
       "    <tr>\n",
       "      <th>10</th>\n",
       "      <td>abdulm6@vt.edu</td>\n",
       "      <td>abdulm6_virginiatech</td>\n",
       "      <td>Abdulmueen Bogis</td>\n",
       "      <td>0</td>\n",
       "      <td>0</td>\n",
       "      <td>2018/4/22</td>\n",
       "      <td>abdulm6</td>\n",
       "      <td>org_publisher</td>\n",
       "      <td>0.000000</td>\n",
       "    </tr>\n",
       "    <tr>\n",
       "      <th>11</th>\n",
       "      <td>abelac@vt.edu</td>\n",
       "      <td>abelac_virginiatech</td>\n",
       "      <td>Ana Abel</td>\n",
       "      <td>2</td>\n",
       "      <td>16</td>\n",
       "      <td>2019/6/15</td>\n",
       "      <td>abelac</td>\n",
       "      <td>org_publisher</td>\n",
       "      <td>45478.121094</td>\n",
       "    </tr>\n",
       "    <tr>\n",
       "      <th>12</th>\n",
       "      <td></td>\n",
       "      <td>abigailt_virginiatech</td>\n",
       "      <td>Abigail Thompson</td>\n",
       "      <td>1</td>\n",
       "      <td>4</td>\n",
       "      <td>2016/4/7</td>\n",
       "      <td>abigailt</td>\n",
       "      <td>wEn8NO3VNLcycmpV</td>\n",
       "      <td>2739.997070</td>\n",
       "    </tr>\n",
       "    <tr>\n",
       "      <th>13</th>\n",
       "      <td>ablood@vt.edu</td>\n",
       "      <td>ablood_virginiatech</td>\n",
       "      <td>Amy Blood</td>\n",
       "      <td>1</td>\n",
       "      <td>0</td>\n",
       "      <td>2018/8/29</td>\n",
       "      <td>ablood</td>\n",
       "      <td>org_publisher</td>\n",
       "      <td>0.000000</td>\n",
       "    </tr>\n",
       "    <tr>\n",
       "      <th>14</th>\n",
       "      <td>abreed2@vt.edu</td>\n",
       "      <td>abreed2_virginiatech</td>\n",
       "      <td>Alyson Breeding</td>\n",
       "      <td>0</td>\n",
       "      <td>0</td>\n",
       "      <td>2016/9/8</td>\n",
       "      <td>abreed2</td>\n",
       "      <td>org_publisher</td>\n",
       "      <td>0.000000</td>\n",
       "    </tr>\n",
       "    <tr>\n",
       "      <th>15</th>\n",
       "      <td>abulk15@vt.edu</td>\n",
       "      <td>abulk15_virginiatech</td>\n",
       "      <td>Abul Kalam Khandaker Khandaker</td>\n",
       "      <td>0</td>\n",
       "      <td>0</td>\n",
       "      <td>2019/3/26</td>\n",
       "      <td>abulk15</td>\n",
       "      <td>org_publisher</td>\n",
       "      <td>0.000000</td>\n",
       "    </tr>\n",
       "    <tr>\n",
       "      <th>16</th>\n",
       "      <td>ac1129@vt.edu</td>\n",
       "      <td>ac1129_virginiatech</td>\n",
       "      <td>Amanda Craparotta</td>\n",
       "      <td>0</td>\n",
       "      <td>0</td>\n",
       "      <td>2018/8/29</td>\n",
       "      <td>ac1129</td>\n",
       "      <td>org_publisher</td>\n",
       "      <td>0.000000</td>\n",
       "    </tr>\n",
       "    <tr>\n",
       "      <th>17</th>\n",
       "      <td>ach2058@vt.edu</td>\n",
       "      <td>ach2058_virginiatech</td>\n",
       "      <td>Austin Hayes</td>\n",
       "      <td>0</td>\n",
       "      <td>0</td>\n",
       "      <td>2018/7/25</td>\n",
       "      <td>ach2058</td>\n",
       "      <td>org_publisher</td>\n",
       "      <td>0.000000</td>\n",
       "    </tr>\n",
       "    <tr>\n",
       "      <th>18</th>\n",
       "      <td>ack98@vt.edu</td>\n",
       "      <td>ack98_virginiatech</td>\n",
       "      <td>Alexandra Kahl</td>\n",
       "      <td>3</td>\n",
       "      <td>21</td>\n",
       "      <td>2019/6/25</td>\n",
       "      <td>ack98</td>\n",
       "      <td>org_publisher</td>\n",
       "      <td>3117.430664</td>\n",
       "    </tr>\n",
       "    <tr>\n",
       "      <th>19</th>\n",
       "      <td>acline99@vt.edu</td>\n",
       "      <td>acline99_virginiatech</td>\n",
       "      <td>Adam Cline</td>\n",
       "      <td>1</td>\n",
       "      <td>2</td>\n",
       "      <td>2017/4/18</td>\n",
       "      <td>acline99</td>\n",
       "      <td>org_publisher</td>\n",
       "      <td>2270.171875</td>\n",
       "    </tr>\n",
       "    <tr>\n",
       "      <th>20</th>\n",
       "      <td>acorrea@vt.edu</td>\n",
       "      <td>acorrea_virginiatech</td>\n",
       "      <td>Angela Correa-Becker</td>\n",
       "      <td>0</td>\n",
       "      <td>0</td>\n",
       "      <td>2017/9/25</td>\n",
       "      <td>acorrea</td>\n",
       "      <td>org_publisher</td>\n",
       "      <td>0.000000</td>\n",
       "    </tr>\n",
       "    <tr>\n",
       "      <th>21</th>\n",
       "      <td>acuff007@vt.edu</td>\n",
       "      <td>acuff007_virginiatech</td>\n",
       "      <td></td>\n",
       "      <td>0</td>\n",
       "      <td>0</td>\n",
       "      <td>2019/4/26</td>\n",
       "      <td>acuff007</td>\n",
       "      <td>org_publisher</td>\n",
       "      <td>0.000000</td>\n",
       "    </tr>\n",
       "    <tr>\n",
       "      <th>22</th>\n",
       "      <td>adamsz@vt.edu</td>\n",
       "      <td>adamsz_virginiatech</td>\n",
       "      <td>Zachary Adams</td>\n",
       "      <td>1</td>\n",
       "      <td>0</td>\n",
       "      <td>2018/11/20</td>\n",
       "      <td>adamsz</td>\n",
       "      <td>org_publisher</td>\n",
       "      <td>0.000000</td>\n",
       "    </tr>\n",
       "    <tr>\n",
       "      <th>23</th>\n",
       "      <td></td>\n",
       "      <td>adamw4_virginiatech</td>\n",
       "      <td>Adam Wilson</td>\n",
       "      <td>1</td>\n",
       "      <td>2</td>\n",
       "      <td>2016/4/7</td>\n",
       "      <td>adamw4</td>\n",
       "      <td>wEn8NO3VNLcycmpV</td>\n",
       "      <td>384.000000</td>\n",
       "    </tr>\n",
       "    <tr>\n",
       "      <th>24</th>\n",
       "      <td>adamwise@vt.edu</td>\n",
       "      <td>adamwise_virginiatech</td>\n",
       "      <td>Adam Wise</td>\n",
       "      <td>0</td>\n",
       "      <td>0</td>\n",
       "      <td>2018/4/29</td>\n",
       "      <td>adamwise</td>\n",
       "      <td>org_publisher</td>\n",
       "      <td>0.000000</td>\n",
       "    </tr>\n",
       "    <tr>\n",
       "      <th>25</th>\n",
       "      <td>adbrad05@vt.edu</td>\n",
       "      <td>adbrad05_virginiatech</td>\n",
       "      <td>Dawn Bradbury</td>\n",
       "      <td>1</td>\n",
       "      <td>0</td>\n",
       "      <td>2018/12/10</td>\n",
       "      <td>adbrad05</td>\n",
       "      <td>org_publisher</td>\n",
       "      <td>0.000000</td>\n",
       "    </tr>\n",
       "    <tr>\n",
       "      <th>27</th>\n",
       "      <td>adowning@vt.edu</td>\n",
       "      <td>adowning_virginiatech</td>\n",
       "      <td>Adam Downing</td>\n",
       "      <td>0</td>\n",
       "      <td>1</td>\n",
       "      <td>2017/7/25</td>\n",
       "      <td>adowning</td>\n",
       "      <td>org_publisher</td>\n",
       "      <td>0.379883</td>\n",
       "    </tr>\n",
       "    <tr>\n",
       "      <th>28</th>\n",
       "      <td>adriaw2@vt.edu</td>\n",
       "      <td>adriaw2_virginiatech</td>\n",
       "      <td>Adrianna Weber</td>\n",
       "      <td>1</td>\n",
       "      <td>6</td>\n",
       "      <td>2018/12/6</td>\n",
       "      <td>adriaw2</td>\n",
       "      <td>org_publisher</td>\n",
       "      <td>5859.986328</td>\n",
       "    </tr>\n",
       "    <tr>\n",
       "      <th>29</th>\n",
       "      <td>aegranger17@vt.edu</td>\n",
       "      <td>aegranger17_virginiatech</td>\n",
       "      <td></td>\n",
       "      <td>0</td>\n",
       "      <td>18</td>\n",
       "      <td>2019/5/2</td>\n",
       "      <td>aegranger17</td>\n",
       "      <td>org_publisher</td>\n",
       "      <td>41687.790039</td>\n",
       "    </tr>\n",
       "    <tr>\n",
       "      <th>30</th>\n",
       "      <td>afb143@vt.edu</td>\n",
       "      <td>afb143_virginiatech</td>\n",
       "      <td>Ansel Bateman</td>\n",
       "      <td>0</td>\n",
       "      <td>0</td>\n",
       "      <td>2019/6/14</td>\n",
       "      <td>afb143</td>\n",
       "      <td>org_admin</td>\n",
       "      <td>0.000000</td>\n",
       "    </tr>\n",
       "    <tr>\n",
       "      <th>...</th>\n",
       "      <td>...</td>\n",
       "      <td>...</td>\n",
       "      <td>...</td>\n",
       "      <td>...</td>\n",
       "      <td>...</td>\n",
       "      <td>...</td>\n",
       "      <td>...</td>\n",
       "      <td>...</td>\n",
       "      <td>...</td>\n",
       "    </tr>\n",
       "    <tr>\n",
       "      <th>2393</th>\n",
       "      <td>zaccv97@vt.edu</td>\n",
       "      <td>zaccv97_virginiatech</td>\n",
       "      <td>Zachary Van Tol</td>\n",
       "      <td>1</td>\n",
       "      <td>18</td>\n",
       "      <td>2019/5/5</td>\n",
       "      <td>zaccv97</td>\n",
       "      <td>org_publisher</td>\n",
       "      <td>44033.333008</td>\n",
       "    </tr>\n",
       "    <tr>\n",
       "      <th>2394</th>\n",
       "      <td>zach98@vt.edu</td>\n",
       "      <td>zach98_virginiatech</td>\n",
       "      <td>Zachary Cohen</td>\n",
       "      <td>1</td>\n",
       "      <td>1</td>\n",
       "      <td>2019/2/11</td>\n",
       "      <td>zach98</td>\n",
       "      <td>org_publisher</td>\n",
       "      <td>10.245117</td>\n",
       "    </tr>\n",
       "    <tr>\n",
       "      <th>2395</th>\n",
       "      <td>zacha96@vt.edu</td>\n",
       "      <td>zacha96_virginiatech</td>\n",
       "      <td>Zachary Adler</td>\n",
       "      <td>0</td>\n",
       "      <td>0</td>\n",
       "      <td>2018/7/10</td>\n",
       "      <td>zacha96</td>\n",
       "      <td>org_publisher</td>\n",
       "      <td>0.000000</td>\n",
       "    </tr>\n",
       "    <tr>\n",
       "      <th>2396</th>\n",
       "      <td>zachademics@vt.edu</td>\n",
       "      <td>zachademics_virginiatech</td>\n",
       "      <td>Zach Blankenship</td>\n",
       "      <td>0</td>\n",
       "      <td>15</td>\n",
       "      <td>2019/4/26</td>\n",
       "      <td>zachademics</td>\n",
       "      <td>org_publisher</td>\n",
       "      <td>17946.358398</td>\n",
       "    </tr>\n",
       "    <tr>\n",
       "      <th>2397</th>\n",
       "      <td>zachb99@vt.edu</td>\n",
       "      <td>zachb99_virginiatech</td>\n",
       "      <td></td>\n",
       "      <td>1</td>\n",
       "      <td>5</td>\n",
       "      <td>2019/5/7</td>\n",
       "      <td>zachb99</td>\n",
       "      <td>org_publisher</td>\n",
       "      <td>32324.447266</td>\n",
       "    </tr>\n",
       "    <tr>\n",
       "      <th>2398</th>\n",
       "      <td>zachc9@vt.edu</td>\n",
       "      <td>zachc9_virginiatech</td>\n",
       "      <td>Zachary Crum</td>\n",
       "      <td>1</td>\n",
       "      <td>6</td>\n",
       "      <td>2018/12/5</td>\n",
       "      <td>zachc9</td>\n",
       "      <td>org_publisher</td>\n",
       "      <td>131421.266602</td>\n",
       "    </tr>\n",
       "    <tr>\n",
       "      <th>2399</th>\n",
       "      <td>zachgh98@vt.edu</td>\n",
       "      <td>zachgh98_virginiatech</td>\n",
       "      <td>Zach Harding</td>\n",
       "      <td>1</td>\n",
       "      <td>16</td>\n",
       "      <td>2018/3/29</td>\n",
       "      <td>zachgh98</td>\n",
       "      <td>org_publisher</td>\n",
       "      <td>21990.537109</td>\n",
       "    </tr>\n",
       "    <tr>\n",
       "      <th>2400</th>\n",
       "      <td>zachj@vt.edu</td>\n",
       "      <td>zachj_virginiatech</td>\n",
       "      <td>Zachary Jackson</td>\n",
       "      <td>1</td>\n",
       "      <td>4</td>\n",
       "      <td>2019/4/2</td>\n",
       "      <td>zachj</td>\n",
       "      <td>org_publisher</td>\n",
       "      <td>89741.142578</td>\n",
       "    </tr>\n",
       "    <tr>\n",
       "      <th>2401</th>\n",
       "      <td>zachp97@vt.edu</td>\n",
       "      <td>zachp97_virginiatech</td>\n",
       "      <td>Zachary Pope</td>\n",
       "      <td>1</td>\n",
       "      <td>2</td>\n",
       "      <td>2017/4/18</td>\n",
       "      <td>zachp97</td>\n",
       "      <td>org_publisher</td>\n",
       "      <td>20.691406</td>\n",
       "    </tr>\n",
       "    <tr>\n",
       "      <th>2402</th>\n",
       "      <td></td>\n",
       "      <td>zachv95_virginiatech</td>\n",
       "      <td>Zachary Vozzelli</td>\n",
       "      <td>1</td>\n",
       "      <td>1</td>\n",
       "      <td>2016/4/5</td>\n",
       "      <td>zachv95</td>\n",
       "      <td>wEn8NO3VNLcycmpV</td>\n",
       "      <td>21.618164</td>\n",
       "    </tr>\n",
       "    <tr>\n",
       "      <th>2403</th>\n",
       "      <td>zackdg1@vt.edu</td>\n",
       "      <td>zackdg1_virginiatech</td>\n",
       "      <td>Zack Delgrosso</td>\n",
       "      <td>0</td>\n",
       "      <td>0</td>\n",
       "      <td>2017/4/7</td>\n",
       "      <td>zackdg1</td>\n",
       "      <td>org_publisher</td>\n",
       "      <td>0.000000</td>\n",
       "    </tr>\n",
       "    <tr>\n",
       "      <th>2404</th>\n",
       "      <td>zacks97@vt.edu</td>\n",
       "      <td>zacks97_virginiatech</td>\n",
       "      <td>Zack Silverman</td>\n",
       "      <td>0</td>\n",
       "      <td>0</td>\n",
       "      <td>2017/9/16</td>\n",
       "      <td>zacks97</td>\n",
       "      <td>org_publisher</td>\n",
       "      <td>0.000000</td>\n",
       "    </tr>\n",
       "    <tr>\n",
       "      <th>2405</th>\n",
       "      <td>zaninatr@vt.edu</td>\n",
       "      <td>zaninatr_virginiatech</td>\n",
       "      <td>Alexander Rosenman</td>\n",
       "      <td>2</td>\n",
       "      <td>81</td>\n",
       "      <td>2019/6/27</td>\n",
       "      <td>zaninatr</td>\n",
       "      <td>org_publisher</td>\n",
       "      <td>98927.891602</td>\n",
       "    </tr>\n",
       "    <tr>\n",
       "      <th>2406</th>\n",
       "      <td>zartman@vt.edu</td>\n",
       "      <td>zartman_virginiatech</td>\n",
       "      <td>John Zartman</td>\n",
       "      <td>0</td>\n",
       "      <td>0</td>\n",
       "      <td>2018/4/4</td>\n",
       "      <td>zartman</td>\n",
       "      <td>org_publisher</td>\n",
       "      <td>0.000000</td>\n",
       "    </tr>\n",
       "    <tr>\n",
       "      <th>2407</th>\n",
       "      <td>zcarroll@vt.edu</td>\n",
       "      <td>zcarroll_virginiatech</td>\n",
       "      <td>Zoe Carroll</td>\n",
       "      <td>1</td>\n",
       "      <td>0</td>\n",
       "      <td>2018/7/1</td>\n",
       "      <td>zcarroll</td>\n",
       "      <td>org_publisher</td>\n",
       "      <td>0.000000</td>\n",
       "    </tr>\n",
       "    <tr>\n",
       "      <th>2408</th>\n",
       "      <td>zchryb@vt.edu</td>\n",
       "      <td>zchryb_virginiatech</td>\n",
       "      <td>Zachary Burch</td>\n",
       "      <td>1</td>\n",
       "      <td>3</td>\n",
       "      <td>2018/10/29</td>\n",
       "      <td>zchryb</td>\n",
       "      <td>org_publisher</td>\n",
       "      <td>1140.551758</td>\n",
       "    </tr>\n",
       "    <tr>\n",
       "      <th>2409</th>\n",
       "      <td>zdaley24@vt.edu</td>\n",
       "      <td>zdaley24_virginiatech</td>\n",
       "      <td>Zachary Daley</td>\n",
       "      <td>0</td>\n",
       "      <td>0</td>\n",
       "      <td>2016/9/9</td>\n",
       "      <td>zdaley24</td>\n",
       "      <td>org_publisher</td>\n",
       "      <td>0.000000</td>\n",
       "    </tr>\n",
       "    <tr>\n",
       "      <th>2410</th>\n",
       "      <td>zeman97@vt.edu</td>\n",
       "      <td>zeman97_virginiatech</td>\n",
       "      <td>Brock Zeman</td>\n",
       "      <td>0</td>\n",
       "      <td>0</td>\n",
       "      <td>2016/9/6</td>\n",
       "      <td>zeman97</td>\n",
       "      <td>org_publisher</td>\n",
       "      <td>0.000000</td>\n",
       "    </tr>\n",
       "    <tr>\n",
       "      <th>2411</th>\n",
       "      <td>zguion@vt.edu</td>\n",
       "      <td>zguion_virginiatech</td>\n",
       "      <td>Zach Guion</td>\n",
       "      <td>1</td>\n",
       "      <td>1</td>\n",
       "      <td>2018/3/15</td>\n",
       "      <td>zguion</td>\n",
       "      <td>org_publisher</td>\n",
       "      <td>7.936523</td>\n",
       "    </tr>\n",
       "    <tr>\n",
       "      <th>2412</th>\n",
       "      <td>zhirsch1@vt.edu</td>\n",
       "      <td>zhirsch1_virginiatech</td>\n",
       "      <td></td>\n",
       "      <td>1</td>\n",
       "      <td>8</td>\n",
       "      <td>2019/5/15</td>\n",
       "      <td>zhirsch1</td>\n",
       "      <td>org_publisher</td>\n",
       "      <td>13464.718750</td>\n",
       "    </tr>\n",
       "    <tr>\n",
       "      <th>2413</th>\n",
       "      <td>zhudantong@vt.edu</td>\n",
       "      <td>zhudantong_virginiatech</td>\n",
       "      <td>Dantong Zhu Zhu</td>\n",
       "      <td>0</td>\n",
       "      <td>0</td>\n",
       "      <td>2019/7/5</td>\n",
       "      <td>zhudantong</td>\n",
       "      <td>org_publisher</td>\n",
       "      <td>0.000000</td>\n",
       "    </tr>\n",
       "    <tr>\n",
       "      <th>2414</th>\n",
       "      <td>zhurz9@vt.edu</td>\n",
       "      <td>zhurz9_virginiatech</td>\n",
       "      <td>Rui Zhu</td>\n",
       "      <td>0</td>\n",
       "      <td>1</td>\n",
       "      <td>2016/9/9</td>\n",
       "      <td>zhurz9</td>\n",
       "      <td>org_publisher</td>\n",
       "      <td>7.939453</td>\n",
       "    </tr>\n",
       "    <tr>\n",
       "      <th>2415</th>\n",
       "      <td>zighill@vt.edu</td>\n",
       "      <td>zighill_virginiatech</td>\n",
       "      <td></td>\n",
       "      <td>0</td>\n",
       "      <td>0</td>\n",
       "      <td>2019/2/19</td>\n",
       "      <td>zighill</td>\n",
       "      <td>org_publisher</td>\n",
       "      <td>0.000000</td>\n",
       "    </tr>\n",
       "    <tr>\n",
       "      <th>2416</th>\n",
       "      <td>ziyad@vt.edu</td>\n",
       "      <td>ziyad_virginiatech</td>\n",
       "      <td>Ziyad Alhamdan</td>\n",
       "      <td>1</td>\n",
       "      <td>0</td>\n",
       "      <td>2017/11/14</td>\n",
       "      <td>ziyad</td>\n",
       "      <td>org_publisher</td>\n",
       "      <td>0.000000</td>\n",
       "    </tr>\n",
       "    <tr>\n",
       "      <th>2417</th>\n",
       "      <td>zky9173@vt.edu</td>\n",
       "      <td>zky9173_virginiatech</td>\n",
       "      <td>Kuangyi Zhang</td>\n",
       "      <td>0</td>\n",
       "      <td>9</td>\n",
       "      <td>2018/9/5</td>\n",
       "      <td>zky9173</td>\n",
       "      <td>org_publisher</td>\n",
       "      <td>6596.137695</td>\n",
       "    </tr>\n",
       "    <tr>\n",
       "      <th>2418</th>\n",
       "      <td>zmg7@vt.edu</td>\n",
       "      <td>zmg7_virginiatech</td>\n",
       "      <td>Zachary Gould</td>\n",
       "      <td>1</td>\n",
       "      <td>11</td>\n",
       "      <td>2018/11/29</td>\n",
       "      <td>zmg7</td>\n",
       "      <td>org_publisher</td>\n",
       "      <td>1867.519531</td>\n",
       "    </tr>\n",
       "    <tr>\n",
       "      <th>2419</th>\n",
       "      <td>zschmitt@vt.edu</td>\n",
       "      <td>zschmitt_virginiatech</td>\n",
       "      <td>Zoe Schmitt</td>\n",
       "      <td>1</td>\n",
       "      <td>0</td>\n",
       "      <td>2018/3/30</td>\n",
       "      <td>zschmitt</td>\n",
       "      <td>org_publisher</td>\n",
       "      <td>0.000000</td>\n",
       "    </tr>\n",
       "    <tr>\n",
       "      <th>2420</th>\n",
       "      <td>zsy1123@vt.edu</td>\n",
       "      <td>zsy1123_virginiatech</td>\n",
       "      <td>Siying Zhu</td>\n",
       "      <td>0</td>\n",
       "      <td>0</td>\n",
       "      <td>2018/3/14</td>\n",
       "      <td>zsy1123</td>\n",
       "      <td>org_publisher</td>\n",
       "      <td>0.000000</td>\n",
       "    </tr>\n",
       "    <tr>\n",
       "      <th>2421</th>\n",
       "      <td>ztangwen@vt.edu</td>\n",
       "      <td>ztangwen_virginiatech</td>\n",
       "      <td></td>\n",
       "      <td>0</td>\n",
       "      <td>0</td>\n",
       "      <td>2019/3/18</td>\n",
       "      <td>ztangwen</td>\n",
       "      <td>org_publisher</td>\n",
       "      <td>0.000000</td>\n",
       "    </tr>\n",
       "    <tr>\n",
       "      <th>2422</th>\n",
       "      <td>zxiaow9@vt.edu</td>\n",
       "      <td>zxiaow9_virginiatech</td>\n",
       "      <td>Xiaowen Zhang</td>\n",
       "      <td>0</td>\n",
       "      <td>0</td>\n",
       "      <td>2018/8/21</td>\n",
       "      <td>zxiaow9</td>\n",
       "      <td>org_publisher</td>\n",
       "      <td>0.000000</td>\n",
       "    </tr>\n",
       "  </tbody>\n",
       "</table>\n",
       "<p>2339 rows × 9 columns</p>\n",
       "</div>"
      ],
      "text/plain": [
       "                   email              esriUsername  \\\n",
       "0                               aabhi_virginiatech   \n",
       "1        aaronh99@vt.edu     aaronh99_virginiatech   \n",
       "2        aarony98@vt.edu     aarony98_virginiatech   \n",
       "3        aarshadi@vt.edu     aarshadi_virginiatech   \n",
       "4                              abby15_virginiatech   \n",
       "5         abbyb99@vt.edu      abbyb99_virginiatech   \n",
       "6         abbye97@vt.edu      abbye97_virginiatech   \n",
       "7         abbyp98@vt.edu      abbyp98_virginiatech   \n",
       "8      abcazenave@vt.edu   abcazenave_virginiatech   \n",
       "9        abdela98@vt.edu     abdela98_virginiatech   \n",
       "10        abdulm6@vt.edu      abdulm6_virginiatech   \n",
       "11         abelac@vt.edu       abelac_virginiatech   \n",
       "12                           abigailt_virginiatech   \n",
       "13         ablood@vt.edu       ablood_virginiatech   \n",
       "14        abreed2@vt.edu      abreed2_virginiatech   \n",
       "15        abulk15@vt.edu      abulk15_virginiatech   \n",
       "16         ac1129@vt.edu       ac1129_virginiatech   \n",
       "17        ach2058@vt.edu      ach2058_virginiatech   \n",
       "18          ack98@vt.edu        ack98_virginiatech   \n",
       "19       acline99@vt.edu     acline99_virginiatech   \n",
       "20        acorrea@vt.edu      acorrea_virginiatech   \n",
       "21       acuff007@vt.edu     acuff007_virginiatech   \n",
       "22         adamsz@vt.edu       adamsz_virginiatech   \n",
       "23                             adamw4_virginiatech   \n",
       "24       adamwise@vt.edu     adamwise_virginiatech   \n",
       "25       adbrad05@vt.edu     adbrad05_virginiatech   \n",
       "27       adowning@vt.edu     adowning_virginiatech   \n",
       "28        adriaw2@vt.edu      adriaw2_virginiatech   \n",
       "29    aegranger17@vt.edu  aegranger17_virginiatech   \n",
       "30         afb143@vt.edu       afb143_virginiatech   \n",
       "...                  ...                       ...   \n",
       "2393      zaccv97@vt.edu      zaccv97_virginiatech   \n",
       "2394       zach98@vt.edu       zach98_virginiatech   \n",
       "2395      zacha96@vt.edu      zacha96_virginiatech   \n",
       "2396  zachademics@vt.edu  zachademics_virginiatech   \n",
       "2397      zachb99@vt.edu      zachb99_virginiatech   \n",
       "2398       zachc9@vt.edu       zachc9_virginiatech   \n",
       "2399     zachgh98@vt.edu     zachgh98_virginiatech   \n",
       "2400        zachj@vt.edu        zachj_virginiatech   \n",
       "2401      zachp97@vt.edu      zachp97_virginiatech   \n",
       "2402                          zachv95_virginiatech   \n",
       "2403      zackdg1@vt.edu      zackdg1_virginiatech   \n",
       "2404      zacks97@vt.edu      zacks97_virginiatech   \n",
       "2405     zaninatr@vt.edu     zaninatr_virginiatech   \n",
       "2406      zartman@vt.edu      zartman_virginiatech   \n",
       "2407     zcarroll@vt.edu     zcarroll_virginiatech   \n",
       "2408       zchryb@vt.edu       zchryb_virginiatech   \n",
       "2409     zdaley24@vt.edu     zdaley24_virginiatech   \n",
       "2410      zeman97@vt.edu      zeman97_virginiatech   \n",
       "2411       zguion@vt.edu       zguion_virginiatech   \n",
       "2412     zhirsch1@vt.edu     zhirsch1_virginiatech   \n",
       "2413   zhudantong@vt.edu   zhudantong_virginiatech   \n",
       "2414       zhurz9@vt.edu       zhurz9_virginiatech   \n",
       "2415      zighill@vt.edu      zighill_virginiatech   \n",
       "2416        ziyad@vt.edu        ziyad_virginiatech   \n",
       "2417      zky9173@vt.edu      zky9173_virginiatech   \n",
       "2418         zmg7@vt.edu         zmg7_virginiatech   \n",
       "2419     zschmitt@vt.edu     zschmitt_virginiatech   \n",
       "2420      zsy1123@vt.edu      zsy1123_virginiatech   \n",
       "2421     ztangwen@vt.edu     ztangwen_virginiatech   \n",
       "2422      zxiaow9@vt.edu      zxiaow9_virginiatech   \n",
       "\n",
       "                            fullName  groups  items  lastAccess          pid  \\\n",
       "0                 Abhishek Abhyankar       1     14    2016/5/4        aabhi   \n",
       "1                        Aaron Henry       1     12   2018/12/5     aaronh99   \n",
       "2                       Aaron Yowell       1      6   2019/2/18     aarony98   \n",
       "3                                          0      6    2019/5/9     aarshadi   \n",
       "4                   Abby Qualliotine       1      2    2016/4/5       abby15   \n",
       "5                   Abigail Bryerton       1      0   2018/3/11      abbyb99   \n",
       "6                    Abigail England       2      8    2019/4/1      abbye97   \n",
       "7                     Abigail Potter       1     15    2018/5/1      abbyp98   \n",
       "8                 Alexandre Cazenave       0      0    2019/5/6   abcazenave   \n",
       "9              Abdel Rahman Altarazi       0      0   2018/10/1     abdela98   \n",
       "10                  Abdulmueen Bogis       0      0   2018/4/22      abdulm6   \n",
       "11                          Ana Abel       2     16   2019/6/15       abelac   \n",
       "12                  Abigail Thompson       1      4    2016/4/7     abigailt   \n",
       "13                         Amy Blood       1      0   2018/8/29       ablood   \n",
       "14                   Alyson Breeding       0      0    2016/9/8      abreed2   \n",
       "15    Abul Kalam Khandaker Khandaker       0      0   2019/3/26      abulk15   \n",
       "16                 Amanda Craparotta       0      0   2018/8/29       ac1129   \n",
       "17                      Austin Hayes       0      0   2018/7/25      ach2058   \n",
       "18                    Alexandra Kahl       3     21   2019/6/25        ack98   \n",
       "19                        Adam Cline       1      2   2017/4/18     acline99   \n",
       "20              Angela Correa-Becker       0      0   2017/9/25      acorrea   \n",
       "21                                         0      0   2019/4/26     acuff007   \n",
       "22                     Zachary Adams       1      0  2018/11/20       adamsz   \n",
       "23                       Adam Wilson       1      2    2016/4/7       adamw4   \n",
       "24                         Adam Wise       0      0   2018/4/29     adamwise   \n",
       "25                     Dawn Bradbury       1      0  2018/12/10     adbrad05   \n",
       "27                      Adam Downing       0      1   2017/7/25     adowning   \n",
       "28                    Adrianna Weber       1      6   2018/12/6      adriaw2   \n",
       "29                                         0     18    2019/5/2  aegranger17   \n",
       "30                     Ansel Bateman       0      0   2019/6/14       afb143   \n",
       "...                              ...     ...    ...         ...          ...   \n",
       "2393                 Zachary Van Tol       1     18    2019/5/5      zaccv97   \n",
       "2394                   Zachary Cohen       1      1   2019/2/11       zach98   \n",
       "2395                   Zachary Adler       0      0   2018/7/10      zacha96   \n",
       "2396                Zach Blankenship       0     15   2019/4/26  zachademics   \n",
       "2397                                       1      5    2019/5/7      zachb99   \n",
       "2398                    Zachary Crum       1      6   2018/12/5       zachc9   \n",
       "2399                    Zach Harding       1     16   2018/3/29     zachgh98   \n",
       "2400                 Zachary Jackson       1      4    2019/4/2        zachj   \n",
       "2401                    Zachary Pope       1      2   2017/4/18      zachp97   \n",
       "2402                Zachary Vozzelli       1      1    2016/4/5      zachv95   \n",
       "2403                  Zack Delgrosso       0      0    2017/4/7      zackdg1   \n",
       "2404                  Zack Silverman       0      0   2017/9/16      zacks97   \n",
       "2405              Alexander Rosenman       2     81   2019/6/27     zaninatr   \n",
       "2406                    John Zartman       0      0    2018/4/4      zartman   \n",
       "2407                     Zoe Carroll       1      0    2018/7/1     zcarroll   \n",
       "2408                   Zachary Burch       1      3  2018/10/29       zchryb   \n",
       "2409                   Zachary Daley       0      0    2016/9/9     zdaley24   \n",
       "2410                     Brock Zeman       0      0    2016/9/6      zeman97   \n",
       "2411                      Zach Guion       1      1   2018/3/15       zguion   \n",
       "2412                                       1      8   2019/5/15     zhirsch1   \n",
       "2413                 Dantong Zhu Zhu       0      0    2019/7/5   zhudantong   \n",
       "2414                         Rui Zhu       0      1    2016/9/9       zhurz9   \n",
       "2415                                       0      0   2019/2/19      zighill   \n",
       "2416                  Ziyad Alhamdan       1      0  2017/11/14        ziyad   \n",
       "2417                   Kuangyi Zhang       0      9    2018/9/5      zky9173   \n",
       "2418                   Zachary Gould       1     11  2018/11/29         zmg7   \n",
       "2419                     Zoe Schmitt       1      0   2018/3/30     zschmitt   \n",
       "2420                      Siying Zhu       0      0   2018/3/14      zsy1123   \n",
       "2421                                       0      0   2019/3/18     ztangwen   \n",
       "2422                   Xiaowen Zhang       0      0   2018/8/21      zxiaow9   \n",
       "\n",
       "                  role        storage  \n",
       "0        org_publisher    1399.333008  \n",
       "1        org_publisher   14339.505859  \n",
       "2        org_publisher   16128.606445  \n",
       "3        org_publisher   11786.054688  \n",
       "4     wEn8NO3VNLcycmpV    2006.706055  \n",
       "5        org_publisher       0.000000  \n",
       "6        org_publisher    3674.511719  \n",
       "7        org_publisher   42183.235352  \n",
       "8        org_publisher       0.000000  \n",
       "9        org_publisher       0.000000  \n",
       "10       org_publisher       0.000000  \n",
       "11       org_publisher   45478.121094  \n",
       "12    wEn8NO3VNLcycmpV    2739.997070  \n",
       "13       org_publisher       0.000000  \n",
       "14       org_publisher       0.000000  \n",
       "15       org_publisher       0.000000  \n",
       "16       org_publisher       0.000000  \n",
       "17       org_publisher       0.000000  \n",
       "18       org_publisher    3117.430664  \n",
       "19       org_publisher    2270.171875  \n",
       "20       org_publisher       0.000000  \n",
       "21       org_publisher       0.000000  \n",
       "22       org_publisher       0.000000  \n",
       "23    wEn8NO3VNLcycmpV     384.000000  \n",
       "24       org_publisher       0.000000  \n",
       "25       org_publisher       0.000000  \n",
       "27       org_publisher       0.379883  \n",
       "28       org_publisher    5859.986328  \n",
       "29       org_publisher   41687.790039  \n",
       "30           org_admin       0.000000  \n",
       "...                ...            ...  \n",
       "2393     org_publisher   44033.333008  \n",
       "2394     org_publisher      10.245117  \n",
       "2395     org_publisher       0.000000  \n",
       "2396     org_publisher   17946.358398  \n",
       "2397     org_publisher   32324.447266  \n",
       "2398     org_publisher  131421.266602  \n",
       "2399     org_publisher   21990.537109  \n",
       "2400     org_publisher   89741.142578  \n",
       "2401     org_publisher      20.691406  \n",
       "2402  wEn8NO3VNLcycmpV      21.618164  \n",
       "2403     org_publisher       0.000000  \n",
       "2404     org_publisher       0.000000  \n",
       "2405     org_publisher   98927.891602  \n",
       "2406     org_publisher       0.000000  \n",
       "2407     org_publisher       0.000000  \n",
       "2408     org_publisher    1140.551758  \n",
       "2409     org_publisher       0.000000  \n",
       "2410     org_publisher       0.000000  \n",
       "2411     org_publisher       7.936523  \n",
       "2412     org_publisher   13464.718750  \n",
       "2413     org_publisher       0.000000  \n",
       "2414     org_publisher       7.939453  \n",
       "2415     org_publisher       0.000000  \n",
       "2416     org_publisher       0.000000  \n",
       "2417     org_publisher    6596.137695  \n",
       "2418     org_publisher    1867.519531  \n",
       "2419     org_publisher       0.000000  \n",
       "2420     org_publisher       0.000000  \n",
       "2421     org_publisher       0.000000  \n",
       "2422     org_publisher       0.000000  \n",
       "\n",
       "[2339 rows x 9 columns]"
      ]
     },
     "execution_count": 8,
     "metadata": {},
     "output_type": "execute_result"
    }
   ],
   "source": [
    "# Do a search of all our users.\n",
    "# The idea is that we only want to query the portal once, then do the rest offline.\n",
    "# Note that the variable max_users must be >= the number of users in the org to get everybody\n",
    "# Once this search is done we get a notebook-global data structure (a pandas df) that we can use for subsequent queries\n",
    "# This takes a long time to run if you have a lot of users in your organization, but you only need to run this once. \n",
    "\n",
    "userList = []\n",
    "users = gis.users.search(max_users=9999)\n",
    "\n",
    "for user in users:\n",
    "   \n",
    "    #These things come straight from the user dict\n",
    "    d_esriUsername = user.username\n",
    "    d_fullName = user.fullName\n",
    "    d_email = user.email\n",
    "    d_role = user.role\n",
    "    d_storage = (user.storageUsage / 1024)\n",
    "    \n",
    "    #number of content items <=100 is returned by length of items arr\n",
    "    d_items = len(user.items())\n",
    "    #print(d_items)\n",
    "    \n",
    "    #VT PID is returned by stripping off the _virginiatech\n",
    "    d_pid = user.username.rsplit(\"_\"+orgShortName)[0]\n",
    "    \n",
    "    #last access comes from https://developers.arcgis.com/python/guide/accessing-and-managing-users/\n",
    "    t_last_accessed = time.localtime(user.lastLogin/1000)\n",
    "    d_lastAccess = \"{}/{}/{}\".format(t_last_accessed[0], t_last_accessed[1], t_last_accessed[2])\n",
    "    \n",
    "    #count of groups this user is a member of\n",
    "    d_groupCount = len(user.groups)\n",
    "    \n",
    "    #Now build a data structure    \n",
    "    currentUserInfo = {\"pid\":d_pid,\n",
    "                        \"esriUsername\":d_esriUsername,\n",
    "                        \"fullName\":d_fullName,\n",
    "                        \"email\":d_email,\n",
    "                        \"storage\":d_storage,\n",
    "                        \"role\":d_role,\n",
    "                        \"lastAccess\":d_lastAccess,\n",
    "                        \"groups\":d_groupCount,\n",
    "                        \"items\":d_items}\n",
    "    userList.append(currentUserInfo)\n",
    "    \n",
    "# iteration done.\n",
    "# now let's make a dataframe.  We'll use this later.\n",
    "df = pandas.DataFrame(userList)\n",
    "\n",
    "# Next, filter out the Enterprise Logins to create a new data structure \n",
    "# because we want to exempt legacy ESRI global accounts and service accounts\n",
    "# therefore this operates only on our Enterprise Logins.\n",
    "# NOTE that you need to adjust this to your environment - both your org_short_name and its length (+1 for the underscore)\n",
    "vtEnterpriseLogins = df.loc[df['esriUsername'].str[-(len(\"_\"+orgShortName)):] == \"_\"+orgShortName]\n",
    "vtEnterpriseLogins\n",
    "\n"
   ]
  },
  {
   "cell_type": "markdown",
   "metadata": {
    "slideshow": {
     "slide_type": "slide"
    }
   },
   "source": [
    "## \"Drive by\" user identification\n",
    "####  I feel reasonably confident we can get rid of users who \n",
    "* own no content items\n",
    "* are members of no groups\n",
    "* use no storage\n",
    "* have not logged in for a year  (or, precisely, have not logged in in 2018 or 2019 - you could set this to be more aggressive if needed)\n",
    "\n",
    "... since if that user logs back in, it will be like they never left."
   ]
  },
  {
   "cell_type": "code",
   "execution_count": 10,
   "metadata": {
    "slideshow": {
     "slide_type": "slide"
    }
   },
   "outputs": [
    {
     "data": {
      "text/html": [
       "<div>\n",
       "<style scoped>\n",
       "    .dataframe tbody tr th:only-of-type {\n",
       "        vertical-align: middle;\n",
       "    }\n",
       "\n",
       "    .dataframe tbody tr th {\n",
       "        vertical-align: top;\n",
       "    }\n",
       "\n",
       "    .dataframe thead th {\n",
       "        text-align: right;\n",
       "    }\n",
       "</style>\n",
       "<table border=\"1\" class=\"dataframe\">\n",
       "  <thead>\n",
       "    <tr style=\"text-align: right;\">\n",
       "      <th></th>\n",
       "      <th>email</th>\n",
       "      <th>esriUsername</th>\n",
       "      <th>fullName</th>\n",
       "      <th>groups</th>\n",
       "      <th>items</th>\n",
       "      <th>lastAccess</th>\n",
       "      <th>pid</th>\n",
       "      <th>role</th>\n",
       "      <th>storage</th>\n",
       "    </tr>\n",
       "  </thead>\n",
       "  <tbody>\n",
       "    <tr>\n",
       "      <th>14</th>\n",
       "      <td>abreed2@vt.edu</td>\n",
       "      <td>abreed2_virginiatech</td>\n",
       "      <td>Alyson Breeding</td>\n",
       "      <td>0</td>\n",
       "      <td>0</td>\n",
       "      <td>2016/9/8</td>\n",
       "      <td>abreed2</td>\n",
       "      <td>org_publisher</td>\n",
       "      <td>0.0</td>\n",
       "    </tr>\n",
       "    <tr>\n",
       "      <th>20</th>\n",
       "      <td>acorrea@vt.edu</td>\n",
       "      <td>acorrea_virginiatech</td>\n",
       "      <td>Angela Correa-Becker</td>\n",
       "      <td>0</td>\n",
       "      <td>0</td>\n",
       "      <td>2017/9/25</td>\n",
       "      <td>acorrea</td>\n",
       "      <td>org_publisher</td>\n",
       "      <td>0.0</td>\n",
       "    </tr>\n",
       "    <tr>\n",
       "      <th>37</th>\n",
       "      <td>aguest@vt.edu</td>\n",
       "      <td>aguest_virginiatech</td>\n",
       "      <td>Alex Guest</td>\n",
       "      <td>0</td>\n",
       "      <td>0</td>\n",
       "      <td>2017/4/7</td>\n",
       "      <td>aguest</td>\n",
       "      <td>org_publisher</td>\n",
       "      <td>0.0</td>\n",
       "    </tr>\n",
       "    <tr>\n",
       "      <th>48</th>\n",
       "      <td>ajwells@vt.edu</td>\n",
       "      <td>ajwells_virginiatech</td>\n",
       "      <td>Alex Wells</td>\n",
       "      <td>0</td>\n",
       "      <td>0</td>\n",
       "      <td>2016/12/20</td>\n",
       "      <td>ajwells</td>\n",
       "      <td>org_publisher</td>\n",
       "      <td>0.0</td>\n",
       "    </tr>\n",
       "    <tr>\n",
       "      <th>61</th>\n",
       "      <td>alena5@vt.edu</td>\n",
       "      <td>alena5_virginiatech</td>\n",
       "      <td>Alena Deveau</td>\n",
       "      <td>0</td>\n",
       "      <td>0</td>\n",
       "      <td>2017/4/20</td>\n",
       "      <td>alena5</td>\n",
       "      <td>org_publisher</td>\n",
       "      <td>0.0</td>\n",
       "    </tr>\n",
       "    <tr>\n",
       "      <th>74</th>\n",
       "      <td>alext10@vt.edu</td>\n",
       "      <td>alext10_virginiatech</td>\n",
       "      <td>Alex Tucker</td>\n",
       "      <td>0</td>\n",
       "      <td>0</td>\n",
       "      <td>2016/9/6</td>\n",
       "      <td>alext10</td>\n",
       "      <td>org_publisher</td>\n",
       "      <td>0.0</td>\n",
       "    </tr>\n",
       "    <tr>\n",
       "      <th>80</th>\n",
       "      <td>aliyahli@vt.edu</td>\n",
       "      <td>aliyahli_virginiatech</td>\n",
       "      <td>Aliyah Linatoc</td>\n",
       "      <td>0</td>\n",
       "      <td>0</td>\n",
       "      <td>2016/9/8</td>\n",
       "      <td>aliyahli</td>\n",
       "      <td>org_publisher</td>\n",
       "      <td>0.0</td>\n",
       "    </tr>\n",
       "    <tr>\n",
       "      <th>126</th>\n",
       "      <td>andman@vt.edu</td>\n",
       "      <td>andman_virginiatech</td>\n",
       "      <td>Andrew Hoffman</td>\n",
       "      <td>0</td>\n",
       "      <td>0</td>\n",
       "      <td>2017/4/14</td>\n",
       "      <td>andman</td>\n",
       "      <td>org_publisher</td>\n",
       "      <td>0.0</td>\n",
       "    </tr>\n",
       "    <tr>\n",
       "      <th>155</th>\n",
       "      <td>apagan8@vt.edu</td>\n",
       "      <td>apagan8_virginiatech</td>\n",
       "      <td>Alexis Pagan</td>\n",
       "      <td>0</td>\n",
       "      <td>0</td>\n",
       "      <td>2016/7/26</td>\n",
       "      <td>apagan8</td>\n",
       "      <td>org_publisher</td>\n",
       "      <td>0.0</td>\n",
       "    </tr>\n",
       "    <tr>\n",
       "      <th>181</th>\n",
       "      <td>asp2340@vt.edu</td>\n",
       "      <td>asp2340_virginiatech</td>\n",
       "      <td>Andrew Pierce</td>\n",
       "      <td>0</td>\n",
       "      <td>0</td>\n",
       "      <td>2016/7/25</td>\n",
       "      <td>asp2340</td>\n",
       "      <td>KeUYufHBaBEQkoZq</td>\n",
       "      <td>0.0</td>\n",
       "    </tr>\n",
       "    <tr>\n",
       "      <th>190</th>\n",
       "      <td>augusta@vt.edu</td>\n",
       "      <td>augusta_virginiatech</td>\n",
       "      <td>Abigail August</td>\n",
       "      <td>0</td>\n",
       "      <td>0</td>\n",
       "      <td>2016/9/6</td>\n",
       "      <td>augusta</td>\n",
       "      <td>org_publisher</td>\n",
       "      <td>0.0</td>\n",
       "    </tr>\n",
       "    <tr>\n",
       "      <th>191</th>\n",
       "      <td>aupdike@vt.edu</td>\n",
       "      <td>aupdike_virginiatech</td>\n",
       "      <td>Aaron Updike</td>\n",
       "      <td>0</td>\n",
       "      <td>0</td>\n",
       "      <td>2017/10/2</td>\n",
       "      <td>aupdike</td>\n",
       "      <td>org_publisher</td>\n",
       "      <td>0.0</td>\n",
       "    </tr>\n",
       "    <tr>\n",
       "      <th>196</th>\n",
       "      <td>averill1@vt.edu</td>\n",
       "      <td>averill1_virginiatech</td>\n",
       "      <td>Gabriel Averill</td>\n",
       "      <td>0</td>\n",
       "      <td>0</td>\n",
       "      <td>2017/10/16</td>\n",
       "      <td>averill1</td>\n",
       "      <td>org_publisher</td>\n",
       "      <td>0.0</td>\n",
       "    </tr>\n",
       "    <tr>\n",
       "      <th>220</th>\n",
       "      <td>bbritt1@vt.edu</td>\n",
       "      <td>bbritt1_virginiatech</td>\n",
       "      <td>Brittany Bailey</td>\n",
       "      <td>0</td>\n",
       "      <td>0</td>\n",
       "      <td>2017/9/16</td>\n",
       "      <td>bbritt1</td>\n",
       "      <td>org_publisher</td>\n",
       "      <td>0.0</td>\n",
       "    </tr>\n",
       "    <tr>\n",
       "      <th>225</th>\n",
       "      <td>bcase@vt.edu</td>\n",
       "      <td>bcase_virginiatech</td>\n",
       "      <td>Brian Case</td>\n",
       "      <td>0</td>\n",
       "      <td>0</td>\n",
       "      <td>2017/1/19</td>\n",
       "      <td>bcase</td>\n",
       "      <td>org_publisher</td>\n",
       "      <td>0.0</td>\n",
       "    </tr>\n",
       "    <tr>\n",
       "      <th>232</th>\n",
       "      <td>beccap95@vt.edu</td>\n",
       "      <td>beccap95_virginiatech</td>\n",
       "      <td>Rebecca Putvinski</td>\n",
       "      <td>0</td>\n",
       "      <td>0</td>\n",
       "      <td>2017/4/17</td>\n",
       "      <td>beccap95</td>\n",
       "      <td>org_publisher</td>\n",
       "      <td>0.0</td>\n",
       "    </tr>\n",
       "    <tr>\n",
       "      <th>234</th>\n",
       "      <td>ben348@vt.edu</td>\n",
       "      <td>ben348_virginiatech</td>\n",
       "      <td>Ben Spencer</td>\n",
       "      <td>0</td>\n",
       "      <td>0</td>\n",
       "      <td>2016/9/23</td>\n",
       "      <td>ben348</td>\n",
       "      <td>org_publisher</td>\n",
       "      <td>0.0</td>\n",
       "    </tr>\n",
       "    <tr>\n",
       "      <th>236</th>\n",
       "      <td></td>\n",
       "      <td>bend92_virginiatech</td>\n",
       "      <td>Ben Dominguez</td>\n",
       "      <td>0</td>\n",
       "      <td>0</td>\n",
       "      <td>2016/5/10</td>\n",
       "      <td>bend92</td>\n",
       "      <td>1Pnn1acvaRdOMd0m</td>\n",
       "      <td>0.0</td>\n",
       "    </tr>\n",
       "    <tr>\n",
       "      <th>243</th>\n",
       "      <td>beric7@vt.edu</td>\n",
       "      <td>beric7_virginiatech</td>\n",
       "      <td>Eric Bianchi</td>\n",
       "      <td>0</td>\n",
       "      <td>0</td>\n",
       "      <td>2016/9/30</td>\n",
       "      <td>beric7</td>\n",
       "      <td>org_publisher</td>\n",
       "      <td>0.0</td>\n",
       "    </tr>\n",
       "    <tr>\n",
       "      <th>256</th>\n",
       "      <td>billah@vt.edu</td>\n",
       "      <td>billah_virginiatech</td>\n",
       "      <td>Mirza Billah</td>\n",
       "      <td>0</td>\n",
       "      <td>0</td>\n",
       "      <td>2016/12/12</td>\n",
       "      <td>billah</td>\n",
       "      <td>org_publisher</td>\n",
       "      <td>0.0</td>\n",
       "    </tr>\n",
       "    <tr>\n",
       "      <th>261</th>\n",
       "      <td>bjulien6@vt.edu</td>\n",
       "      <td>bjulien6_virginiatech</td>\n",
       "      <td>Julien Banks</td>\n",
       "      <td>0</td>\n",
       "      <td>0</td>\n",
       "      <td>2016/8/8</td>\n",
       "      <td>bjulien6</td>\n",
       "      <td>org_publisher</td>\n",
       "      <td>0.0</td>\n",
       "    </tr>\n",
       "    <tr>\n",
       "      <th>269</th>\n",
       "      <td>bmene258@vt.edu</td>\n",
       "      <td>bmene258_virginiatech</td>\n",
       "      <td>Bryanna Menefee</td>\n",
       "      <td>0</td>\n",
       "      <td>0</td>\n",
       "      <td>2016/7/25</td>\n",
       "      <td>bmene258</td>\n",
       "      <td>KeUYufHBaBEQkoZq</td>\n",
       "      <td>0.0</td>\n",
       "    </tr>\n",
       "    <tr>\n",
       "      <th>271</th>\n",
       "      <td></td>\n",
       "      <td>bneidigh_virginiatech</td>\n",
       "      <td>Brenda van Gelder</td>\n",
       "      <td>0</td>\n",
       "      <td>0</td>\n",
       "      <td>2015/3/19</td>\n",
       "      <td>bneidigh</td>\n",
       "      <td>org_publisher</td>\n",
       "      <td>0.0</td>\n",
       "    </tr>\n",
       "    <tr>\n",
       "      <th>280</th>\n",
       "      <td>bpayne28@vt.edu</td>\n",
       "      <td>bpayne28_virginiatech</td>\n",
       "      <td>Bennett Payne</td>\n",
       "      <td>0</td>\n",
       "      <td>0</td>\n",
       "      <td>2016/12/1</td>\n",
       "      <td>bpayne28</td>\n",
       "      <td>org_publisher</td>\n",
       "      <td>0.0</td>\n",
       "    </tr>\n",
       "    <tr>\n",
       "      <th>281</th>\n",
       "      <td>bpires@vt.edu</td>\n",
       "      <td>bpires_virginiatech</td>\n",
       "      <td>Bianica Pires</td>\n",
       "      <td>0</td>\n",
       "      <td>0</td>\n",
       "      <td>2017/12/13</td>\n",
       "      <td>bpires</td>\n",
       "      <td>org_publisher</td>\n",
       "      <td>0.0</td>\n",
       "    </tr>\n",
       "    <tr>\n",
       "      <th>282</th>\n",
       "      <td>bpm13006@vt.edu</td>\n",
       "      <td>bpm13006_virginiatech</td>\n",
       "      <td>Brendan McLoughlin</td>\n",
       "      <td>0</td>\n",
       "      <td>0</td>\n",
       "      <td>2017/9/18</td>\n",
       "      <td>bpm13006</td>\n",
       "      <td>org_publisher</td>\n",
       "      <td>0.0</td>\n",
       "    </tr>\n",
       "    <tr>\n",
       "      <th>304</th>\n",
       "      <td>brians97@vt.edu</td>\n",
       "      <td>brians97_virginiatech</td>\n",
       "      <td>Brian Strull</td>\n",
       "      <td>0</td>\n",
       "      <td>0</td>\n",
       "      <td>2016/9/8</td>\n",
       "      <td>brians97</td>\n",
       "      <td>org_publisher</td>\n",
       "      <td>0.0</td>\n",
       "    </tr>\n",
       "    <tr>\n",
       "      <th>305</th>\n",
       "      <td>bridgesc@vt.edu</td>\n",
       "      <td>bridgesc_virginiatech</td>\n",
       "      <td>Christopher Bridges</td>\n",
       "      <td>0</td>\n",
       "      <td>0</td>\n",
       "      <td>2017/2/3</td>\n",
       "      <td>bridgesc</td>\n",
       "      <td>org_publisher</td>\n",
       "      <td>0.0</td>\n",
       "    </tr>\n",
       "    <tr>\n",
       "      <th>308</th>\n",
       "      <td>britc96@vt.edu</td>\n",
       "      <td>britc96_virginiatech</td>\n",
       "      <td>Brittany Carter</td>\n",
       "      <td>0</td>\n",
       "      <td>0</td>\n",
       "      <td>2017/9/17</td>\n",
       "      <td>britc96</td>\n",
       "      <td>org_publisher</td>\n",
       "      <td>0.0</td>\n",
       "    </tr>\n",
       "    <tr>\n",
       "      <th>318</th>\n",
       "      <td></td>\n",
       "      <td>bryans92_virginiatech</td>\n",
       "      <td>Bryan Steckler</td>\n",
       "      <td>0</td>\n",
       "      <td>0</td>\n",
       "      <td>2016/2/29</td>\n",
       "      <td>bryans92</td>\n",
       "      <td>huf3urtW1hp3TiDT</td>\n",
       "      <td>0.0</td>\n",
       "    </tr>\n",
       "    <tr>\n",
       "      <th>...</th>\n",
       "      <td>...</td>\n",
       "      <td>...</td>\n",
       "      <td>...</td>\n",
       "      <td>...</td>\n",
       "      <td>...</td>\n",
       "      <td>...</td>\n",
       "      <td>...</td>\n",
       "      <td>...</td>\n",
       "      <td>...</td>\n",
       "    </tr>\n",
       "    <tr>\n",
       "      <th>2118</th>\n",
       "      <td>sophial1@vt.edu</td>\n",
       "      <td>sophial1_virginiatech</td>\n",
       "      <td>Sophia Lee</td>\n",
       "      <td>0</td>\n",
       "      <td>0</td>\n",
       "      <td>2016/9/9</td>\n",
       "      <td>sophial1</td>\n",
       "      <td>org_publisher</td>\n",
       "      <td>0.0</td>\n",
       "    </tr>\n",
       "    <tr>\n",
       "      <th>2124</th>\n",
       "      <td>srinaa9@vt.edu</td>\n",
       "      <td>srinaa9_virginiatech</td>\n",
       "      <td>Srinath Reddy Adla</td>\n",
       "      <td>0</td>\n",
       "      <td>0</td>\n",
       "      <td>2017/11/27</td>\n",
       "      <td>srinaa9</td>\n",
       "      <td>org_publisher</td>\n",
       "      <td>0.0</td>\n",
       "    </tr>\n",
       "    <tr>\n",
       "      <th>2135</th>\n",
       "      <td>stacl94@vt.edu</td>\n",
       "      <td>stacl94_virginiatech</td>\n",
       "      <td>Stacey Law</td>\n",
       "      <td>0</td>\n",
       "      <td>0</td>\n",
       "      <td>2017/8/28</td>\n",
       "      <td>stacl94</td>\n",
       "      <td>org_publisher</td>\n",
       "      <td>0.0</td>\n",
       "    </tr>\n",
       "    <tr>\n",
       "      <th>2162</th>\n",
       "      <td>sumnera@vt.edu</td>\n",
       "      <td>sumnera_virginiatech</td>\n",
       "      <td>Sumner Askin</td>\n",
       "      <td>0</td>\n",
       "      <td>0</td>\n",
       "      <td>2016/9/7</td>\n",
       "      <td>sumnera</td>\n",
       "      <td>org_publisher</td>\n",
       "      <td>0.0</td>\n",
       "    </tr>\n",
       "    <tr>\n",
       "      <th>2177</th>\n",
       "      <td>t10patel@vt.edu</td>\n",
       "      <td>t10patel_virginiatech</td>\n",
       "      <td>Tejas Patel</td>\n",
       "      <td>0</td>\n",
       "      <td>0</td>\n",
       "      <td>2016/9/8</td>\n",
       "      <td>t10patel</td>\n",
       "      <td>org_publisher</td>\n",
       "      <td>0.0</td>\n",
       "    </tr>\n",
       "    <tr>\n",
       "      <th>2179</th>\n",
       "      <td>tammyep@vt.edu</td>\n",
       "      <td>tammyep_virginiatech</td>\n",
       "      <td>Tammy Parece</td>\n",
       "      <td>0</td>\n",
       "      <td>0</td>\n",
       "      <td>2016/5/20</td>\n",
       "      <td>tammyep</td>\n",
       "      <td>H4kyuR48nPVULDMm</td>\n",
       "      <td>0.0</td>\n",
       "    </tr>\n",
       "    <tr>\n",
       "      <th>2197</th>\n",
       "      <td>tcruz757@vt.edu</td>\n",
       "      <td>tcruz757_virginiatech</td>\n",
       "      <td>Travis Cruz</td>\n",
       "      <td>0</td>\n",
       "      <td>0</td>\n",
       "      <td>2016/9/8</td>\n",
       "      <td>tcruz757</td>\n",
       "      <td>org_publisher</td>\n",
       "      <td>0.0</td>\n",
       "    </tr>\n",
       "    <tr>\n",
       "      <th>2202</th>\n",
       "      <td>tess5@vt.edu</td>\n",
       "      <td>tess5_virginiatech</td>\n",
       "      <td>Tess Pangle</td>\n",
       "      <td>0</td>\n",
       "      <td>0</td>\n",
       "      <td>2016/9/23</td>\n",
       "      <td>tess5</td>\n",
       "      <td>org_publisher</td>\n",
       "      <td>0.0</td>\n",
       "    </tr>\n",
       "    <tr>\n",
       "      <th>2228</th>\n",
       "      <td></td>\n",
       "      <td>tlhemby_virginiatech</td>\n",
       "      <td>Tyler Hemby</td>\n",
       "      <td>0</td>\n",
       "      <td>0</td>\n",
       "      <td>2016/2/8</td>\n",
       "      <td>tlhemby</td>\n",
       "      <td>org_publisher</td>\n",
       "      <td>0.0</td>\n",
       "    </tr>\n",
       "    <tr>\n",
       "      <th>2230</th>\n",
       "      <td>tmcavoy@vt.edu</td>\n",
       "      <td>tmcavoy_virginiatech</td>\n",
       "      <td>Thomas McAvoy</td>\n",
       "      <td>0</td>\n",
       "      <td>0</td>\n",
       "      <td>2017/8/1</td>\n",
       "      <td>tmcavoy</td>\n",
       "      <td>org_publisher</td>\n",
       "      <td>0.0</td>\n",
       "    </tr>\n",
       "    <tr>\n",
       "      <th>2255</th>\n",
       "      <td>trevor8@vt.edu</td>\n",
       "      <td>trevor8_virginiatech</td>\n",
       "      <td>Trevor Lawson</td>\n",
       "      <td>0</td>\n",
       "      <td>0</td>\n",
       "      <td>2016/9/8</td>\n",
       "      <td>trevor8</td>\n",
       "      <td>org_publisher</td>\n",
       "      <td>0.0</td>\n",
       "    </tr>\n",
       "    <tr>\n",
       "      <th>2275</th>\n",
       "      <td>vaneb2@vt.edu</td>\n",
       "      <td>vaneb2_virginiatech</td>\n",
       "      <td>Haley Bonilla</td>\n",
       "      <td>0</td>\n",
       "      <td>0</td>\n",
       "      <td>2016/7/28</td>\n",
       "      <td>vaneb2</td>\n",
       "      <td>org_publisher</td>\n",
       "      <td>0.0</td>\n",
       "    </tr>\n",
       "    <tr>\n",
       "      <th>2290</th>\n",
       "      <td>vkrist1@vt.edu</td>\n",
       "      <td>vkrist1_virginiatech</td>\n",
       "      <td>Kristoffer Von Ow</td>\n",
       "      <td>0</td>\n",
       "      <td>0</td>\n",
       "      <td>2017/10/2</td>\n",
       "      <td>vkrist1</td>\n",
       "      <td>org_publisher</td>\n",
       "      <td>0.0</td>\n",
       "    </tr>\n",
       "    <tr>\n",
       "      <th>2291</th>\n",
       "      <td>vmatth7@vt.edu</td>\n",
       "      <td>vmatth7_virginiatech</td>\n",
       "      <td>Matthew Vaughan</td>\n",
       "      <td>0</td>\n",
       "      <td>0</td>\n",
       "      <td>2016/8/11</td>\n",
       "      <td>vmatth7</td>\n",
       "      <td>org_publisher</td>\n",
       "      <td>0.0</td>\n",
       "    </tr>\n",
       "    <tr>\n",
       "      <th>2293</th>\n",
       "      <td>vmr269@vt.edu</td>\n",
       "      <td>vmr269_virginiatech</td>\n",
       "      <td>Victoria Reed</td>\n",
       "      <td>0</td>\n",
       "      <td>0</td>\n",
       "      <td>2017/9/14</td>\n",
       "      <td>vmr269</td>\n",
       "      <td>org_publisher</td>\n",
       "      <td>0.0</td>\n",
       "    </tr>\n",
       "    <tr>\n",
       "      <th>2300</th>\n",
       "      <td>vtlakoba@vt.edu</td>\n",
       "      <td>vtlakoba_virginiatech</td>\n",
       "      <td>Vasiliy Lakoba</td>\n",
       "      <td>0</td>\n",
       "      <td>0</td>\n",
       "      <td>2017/9/18</td>\n",
       "      <td>vtlakoba</td>\n",
       "      <td>org_publisher</td>\n",
       "      <td>0.0</td>\n",
       "    </tr>\n",
       "    <tr>\n",
       "      <th>2305</th>\n",
       "      <td>wadeo7@vt.edu</td>\n",
       "      <td>wadeo7_virginiatech</td>\n",
       "      <td>Wade Oman</td>\n",
       "      <td>0</td>\n",
       "      <td>0</td>\n",
       "      <td>2017/9/27</td>\n",
       "      <td>wadeo7</td>\n",
       "      <td>org_publisher</td>\n",
       "      <td>0.0</td>\n",
       "    </tr>\n",
       "    <tr>\n",
       "      <th>2321</th>\n",
       "      <td>wdavid5@vt.edu</td>\n",
       "      <td>wdavid5_virginiatech</td>\n",
       "      <td>David White</td>\n",
       "      <td>0</td>\n",
       "      <td>0</td>\n",
       "      <td>2016/7/27</td>\n",
       "      <td>wdavid5</td>\n",
       "      <td>KeUYufHBaBEQkoZq</td>\n",
       "      <td>0.0</td>\n",
       "    </tr>\n",
       "    <tr>\n",
       "      <th>2322</th>\n",
       "      <td>weaverea@vt.edu</td>\n",
       "      <td>weaverea_virginiatech</td>\n",
       "      <td>Elizabeth Weaver</td>\n",
       "      <td>0</td>\n",
       "      <td>0</td>\n",
       "      <td>2016/9/7</td>\n",
       "      <td>weaverea</td>\n",
       "      <td>org_publisher</td>\n",
       "      <td>0.0</td>\n",
       "    </tr>\n",
       "    <tr>\n",
       "      <th>2328</th>\n",
       "      <td>wesj2363@vt.edu</td>\n",
       "      <td>wesj2363_virginiatech</td>\n",
       "      <td>Wesley Jordan</td>\n",
       "      <td>0</td>\n",
       "      <td>0</td>\n",
       "      <td>2016/9/29</td>\n",
       "      <td>wesj2363</td>\n",
       "      <td>org_publisher</td>\n",
       "      <td>0.0</td>\n",
       "    </tr>\n",
       "    <tr>\n",
       "      <th>2344</th>\n",
       "      <td>wjack92@vt.edu</td>\n",
       "      <td>wjack92_virginiatech</td>\n",
       "      <td>John Washington</td>\n",
       "      <td>0</td>\n",
       "      <td>0</td>\n",
       "      <td>2017/8/3</td>\n",
       "      <td>wjack92</td>\n",
       "      <td>org_publisher</td>\n",
       "      <td>0.0</td>\n",
       "    </tr>\n",
       "    <tr>\n",
       "      <th>2346</th>\n",
       "      <td>wkait14@vt.edu</td>\n",
       "      <td>wkait14_virginiatech</td>\n",
       "      <td>Kaitlyn White</td>\n",
       "      <td>0</td>\n",
       "      <td>0</td>\n",
       "      <td>2016/9/22</td>\n",
       "      <td>wkait14</td>\n",
       "      <td>org_publisher</td>\n",
       "      <td>0.0</td>\n",
       "    </tr>\n",
       "    <tr>\n",
       "      <th>2354</th>\n",
       "      <td>wrachael@vt.edu</td>\n",
       "      <td>wrachael_virginiatech</td>\n",
       "      <td>Rachael Ward</td>\n",
       "      <td>0</td>\n",
       "      <td>0</td>\n",
       "      <td>2016/7/26</td>\n",
       "      <td>wrachael</td>\n",
       "      <td>KeUYufHBaBEQkoZq</td>\n",
       "      <td>0.0</td>\n",
       "    </tr>\n",
       "    <tr>\n",
       "      <th>2364</th>\n",
       "      <td>wyuri91@vt.edu</td>\n",
       "      <td>wyuri91_virginiatech</td>\n",
       "      <td>Yuri Woo</td>\n",
       "      <td>0</td>\n",
       "      <td>0</td>\n",
       "      <td>2017/9/18</td>\n",
       "      <td>wyuri91</td>\n",
       "      <td>org_publisher</td>\n",
       "      <td>0.0</td>\n",
       "    </tr>\n",
       "    <tr>\n",
       "      <th>2366</th>\n",
       "      <td>xinnox7@vt.edu</td>\n",
       "      <td>xinnox7_virginiatech</td>\n",
       "      <td>Xinnuo He</td>\n",
       "      <td>0</td>\n",
       "      <td>0</td>\n",
       "      <td>2017/10/5</td>\n",
       "      <td>xinnox7</td>\n",
       "      <td>org_publisher</td>\n",
       "      <td>0.0</td>\n",
       "    </tr>\n",
       "    <tr>\n",
       "      <th>2392</th>\n",
       "      <td>yyang1@vt.edu</td>\n",
       "      <td>yyang1_virginiatech</td>\n",
       "      <td>Yang Yang</td>\n",
       "      <td>0</td>\n",
       "      <td>0</td>\n",
       "      <td>2017/10/5</td>\n",
       "      <td>yyang1</td>\n",
       "      <td>org_publisher</td>\n",
       "      <td>0.0</td>\n",
       "    </tr>\n",
       "    <tr>\n",
       "      <th>2403</th>\n",
       "      <td>zackdg1@vt.edu</td>\n",
       "      <td>zackdg1_virginiatech</td>\n",
       "      <td>Zack Delgrosso</td>\n",
       "      <td>0</td>\n",
       "      <td>0</td>\n",
       "      <td>2017/4/7</td>\n",
       "      <td>zackdg1</td>\n",
       "      <td>org_publisher</td>\n",
       "      <td>0.0</td>\n",
       "    </tr>\n",
       "    <tr>\n",
       "      <th>2404</th>\n",
       "      <td>zacks97@vt.edu</td>\n",
       "      <td>zacks97_virginiatech</td>\n",
       "      <td>Zack Silverman</td>\n",
       "      <td>0</td>\n",
       "      <td>0</td>\n",
       "      <td>2017/9/16</td>\n",
       "      <td>zacks97</td>\n",
       "      <td>org_publisher</td>\n",
       "      <td>0.0</td>\n",
       "    </tr>\n",
       "    <tr>\n",
       "      <th>2409</th>\n",
       "      <td>zdaley24@vt.edu</td>\n",
       "      <td>zdaley24_virginiatech</td>\n",
       "      <td>Zachary Daley</td>\n",
       "      <td>0</td>\n",
       "      <td>0</td>\n",
       "      <td>2016/9/9</td>\n",
       "      <td>zdaley24</td>\n",
       "      <td>org_publisher</td>\n",
       "      <td>0.0</td>\n",
       "    </tr>\n",
       "    <tr>\n",
       "      <th>2410</th>\n",
       "      <td>zeman97@vt.edu</td>\n",
       "      <td>zeman97_virginiatech</td>\n",
       "      <td>Brock Zeman</td>\n",
       "      <td>0</td>\n",
       "      <td>0</td>\n",
       "      <td>2016/9/6</td>\n",
       "      <td>zeman97</td>\n",
       "      <td>org_publisher</td>\n",
       "      <td>0.0</td>\n",
       "    </tr>\n",
       "  </tbody>\n",
       "</table>\n",
       "<p>251 rows × 9 columns</p>\n",
       "</div>"
      ],
      "text/plain": [
       "                email           esriUsername              fullName  groups  \\\n",
       "14     abreed2@vt.edu   abreed2_virginiatech       Alyson Breeding       0   \n",
       "20     acorrea@vt.edu   acorrea_virginiatech  Angela Correa-Becker       0   \n",
       "37      aguest@vt.edu    aguest_virginiatech            Alex Guest       0   \n",
       "48     ajwells@vt.edu   ajwells_virginiatech            Alex Wells       0   \n",
       "61      alena5@vt.edu    alena5_virginiatech          Alena Deveau       0   \n",
       "74     alext10@vt.edu   alext10_virginiatech           Alex Tucker       0   \n",
       "80    aliyahli@vt.edu  aliyahli_virginiatech        Aliyah Linatoc       0   \n",
       "126     andman@vt.edu    andman_virginiatech        Andrew Hoffman       0   \n",
       "155    apagan8@vt.edu   apagan8_virginiatech          Alexis Pagan       0   \n",
       "181    asp2340@vt.edu   asp2340_virginiatech         Andrew Pierce       0   \n",
       "190    augusta@vt.edu   augusta_virginiatech        Abigail August       0   \n",
       "191    aupdike@vt.edu   aupdike_virginiatech          Aaron Updike       0   \n",
       "196   averill1@vt.edu  averill1_virginiatech       Gabriel Averill       0   \n",
       "220    bbritt1@vt.edu   bbritt1_virginiatech       Brittany Bailey       0   \n",
       "225      bcase@vt.edu     bcase_virginiatech            Brian Case       0   \n",
       "232   beccap95@vt.edu  beccap95_virginiatech     Rebecca Putvinski       0   \n",
       "234     ben348@vt.edu    ben348_virginiatech           Ben Spencer       0   \n",
       "236                      bend92_virginiatech         Ben Dominguez       0   \n",
       "243     beric7@vt.edu    beric7_virginiatech          Eric Bianchi       0   \n",
       "256     billah@vt.edu    billah_virginiatech          Mirza Billah       0   \n",
       "261   bjulien6@vt.edu  bjulien6_virginiatech          Julien Banks       0   \n",
       "269   bmene258@vt.edu  bmene258_virginiatech       Bryanna Menefee       0   \n",
       "271                    bneidigh_virginiatech     Brenda van Gelder       0   \n",
       "280   bpayne28@vt.edu  bpayne28_virginiatech         Bennett Payne       0   \n",
       "281     bpires@vt.edu    bpires_virginiatech         Bianica Pires       0   \n",
       "282   bpm13006@vt.edu  bpm13006_virginiatech    Brendan McLoughlin       0   \n",
       "304   brians97@vt.edu  brians97_virginiatech          Brian Strull       0   \n",
       "305   bridgesc@vt.edu  bridgesc_virginiatech   Christopher Bridges       0   \n",
       "308    britc96@vt.edu   britc96_virginiatech       Brittany Carter       0   \n",
       "318                    bryans92_virginiatech        Bryan Steckler       0   \n",
       "...               ...                    ...                   ...     ...   \n",
       "2118  sophial1@vt.edu  sophial1_virginiatech            Sophia Lee       0   \n",
       "2124   srinaa9@vt.edu   srinaa9_virginiatech    Srinath Reddy Adla       0   \n",
       "2135   stacl94@vt.edu   stacl94_virginiatech            Stacey Law       0   \n",
       "2162   sumnera@vt.edu   sumnera_virginiatech          Sumner Askin       0   \n",
       "2177  t10patel@vt.edu  t10patel_virginiatech           Tejas Patel       0   \n",
       "2179   tammyep@vt.edu   tammyep_virginiatech          Tammy Parece       0   \n",
       "2197  tcruz757@vt.edu  tcruz757_virginiatech           Travis Cruz       0   \n",
       "2202     tess5@vt.edu     tess5_virginiatech           Tess Pangle       0   \n",
       "2228                    tlhemby_virginiatech           Tyler Hemby       0   \n",
       "2230   tmcavoy@vt.edu   tmcavoy_virginiatech         Thomas McAvoy       0   \n",
       "2255   trevor8@vt.edu   trevor8_virginiatech         Trevor Lawson       0   \n",
       "2275    vaneb2@vt.edu    vaneb2_virginiatech         Haley Bonilla       0   \n",
       "2290   vkrist1@vt.edu   vkrist1_virginiatech     Kristoffer Von Ow       0   \n",
       "2291   vmatth7@vt.edu   vmatth7_virginiatech       Matthew Vaughan       0   \n",
       "2293    vmr269@vt.edu    vmr269_virginiatech         Victoria Reed       0   \n",
       "2300  vtlakoba@vt.edu  vtlakoba_virginiatech        Vasiliy Lakoba       0   \n",
       "2305    wadeo7@vt.edu    wadeo7_virginiatech             Wade Oman       0   \n",
       "2321   wdavid5@vt.edu   wdavid5_virginiatech           David White       0   \n",
       "2322  weaverea@vt.edu  weaverea_virginiatech      Elizabeth Weaver       0   \n",
       "2328  wesj2363@vt.edu  wesj2363_virginiatech         Wesley Jordan       0   \n",
       "2344   wjack92@vt.edu   wjack92_virginiatech       John Washington       0   \n",
       "2346   wkait14@vt.edu   wkait14_virginiatech         Kaitlyn White       0   \n",
       "2354  wrachael@vt.edu  wrachael_virginiatech          Rachael Ward       0   \n",
       "2364   wyuri91@vt.edu   wyuri91_virginiatech              Yuri Woo       0   \n",
       "2366   xinnox7@vt.edu   xinnox7_virginiatech             Xinnuo He       0   \n",
       "2392    yyang1@vt.edu    yyang1_virginiatech             Yang Yang       0   \n",
       "2403   zackdg1@vt.edu   zackdg1_virginiatech        Zack Delgrosso       0   \n",
       "2404   zacks97@vt.edu   zacks97_virginiatech        Zack Silverman       0   \n",
       "2409  zdaley24@vt.edu  zdaley24_virginiatech         Zachary Daley       0   \n",
       "2410   zeman97@vt.edu   zeman97_virginiatech           Brock Zeman       0   \n",
       "\n",
       "      items  lastAccess       pid              role  storage  \n",
       "14        0    2016/9/8   abreed2     org_publisher      0.0  \n",
       "20        0   2017/9/25   acorrea     org_publisher      0.0  \n",
       "37        0    2017/4/7    aguest     org_publisher      0.0  \n",
       "48        0  2016/12/20   ajwells     org_publisher      0.0  \n",
       "61        0   2017/4/20    alena5     org_publisher      0.0  \n",
       "74        0    2016/9/6   alext10     org_publisher      0.0  \n",
       "80        0    2016/9/8  aliyahli     org_publisher      0.0  \n",
       "126       0   2017/4/14    andman     org_publisher      0.0  \n",
       "155       0   2016/7/26   apagan8     org_publisher      0.0  \n",
       "181       0   2016/7/25   asp2340  KeUYufHBaBEQkoZq      0.0  \n",
       "190       0    2016/9/6   augusta     org_publisher      0.0  \n",
       "191       0   2017/10/2   aupdike     org_publisher      0.0  \n",
       "196       0  2017/10/16  averill1     org_publisher      0.0  \n",
       "220       0   2017/9/16   bbritt1     org_publisher      0.0  \n",
       "225       0   2017/1/19     bcase     org_publisher      0.0  \n",
       "232       0   2017/4/17  beccap95     org_publisher      0.0  \n",
       "234       0   2016/9/23    ben348     org_publisher      0.0  \n",
       "236       0   2016/5/10    bend92  1Pnn1acvaRdOMd0m      0.0  \n",
       "243       0   2016/9/30    beric7     org_publisher      0.0  \n",
       "256       0  2016/12/12    billah     org_publisher      0.0  \n",
       "261       0    2016/8/8  bjulien6     org_publisher      0.0  \n",
       "269       0   2016/7/25  bmene258  KeUYufHBaBEQkoZq      0.0  \n",
       "271       0   2015/3/19  bneidigh     org_publisher      0.0  \n",
       "280       0   2016/12/1  bpayne28     org_publisher      0.0  \n",
       "281       0  2017/12/13    bpires     org_publisher      0.0  \n",
       "282       0   2017/9/18  bpm13006     org_publisher      0.0  \n",
       "304       0    2016/9/8  brians97     org_publisher      0.0  \n",
       "305       0    2017/2/3  bridgesc     org_publisher      0.0  \n",
       "308       0   2017/9/17   britc96     org_publisher      0.0  \n",
       "318       0   2016/2/29  bryans92  huf3urtW1hp3TiDT      0.0  \n",
       "...     ...         ...       ...               ...      ...  \n",
       "2118      0    2016/9/9  sophial1     org_publisher      0.0  \n",
       "2124      0  2017/11/27   srinaa9     org_publisher      0.0  \n",
       "2135      0   2017/8/28   stacl94     org_publisher      0.0  \n",
       "2162      0    2016/9/7   sumnera     org_publisher      0.0  \n",
       "2177      0    2016/9/8  t10patel     org_publisher      0.0  \n",
       "2179      0   2016/5/20   tammyep  H4kyuR48nPVULDMm      0.0  \n",
       "2197      0    2016/9/8  tcruz757     org_publisher      0.0  \n",
       "2202      0   2016/9/23     tess5     org_publisher      0.0  \n",
       "2228      0    2016/2/8   tlhemby     org_publisher      0.0  \n",
       "2230      0    2017/8/1   tmcavoy     org_publisher      0.0  \n",
       "2255      0    2016/9/8   trevor8     org_publisher      0.0  \n",
       "2275      0   2016/7/28    vaneb2     org_publisher      0.0  \n",
       "2290      0   2017/10/2   vkrist1     org_publisher      0.0  \n",
       "2291      0   2016/8/11   vmatth7     org_publisher      0.0  \n",
       "2293      0   2017/9/14    vmr269     org_publisher      0.0  \n",
       "2300      0   2017/9/18  vtlakoba     org_publisher      0.0  \n",
       "2305      0   2017/9/27    wadeo7     org_publisher      0.0  \n",
       "2321      0   2016/7/27   wdavid5  KeUYufHBaBEQkoZq      0.0  \n",
       "2322      0    2016/9/7  weaverea     org_publisher      0.0  \n",
       "2328      0   2016/9/29  wesj2363     org_publisher      0.0  \n",
       "2344      0    2017/8/3   wjack92     org_publisher      0.0  \n",
       "2346      0   2016/9/22   wkait14     org_publisher      0.0  \n",
       "2354      0   2016/7/26  wrachael  KeUYufHBaBEQkoZq      0.0  \n",
       "2364      0   2017/9/18   wyuri91     org_publisher      0.0  \n",
       "2366      0   2017/10/5   xinnox7     org_publisher      0.0  \n",
       "2392      0   2017/10/5    yyang1     org_publisher      0.0  \n",
       "2403      0    2017/4/7   zackdg1     org_publisher      0.0  \n",
       "2404      0   2017/9/16   zacks97     org_publisher      0.0  \n",
       "2409      0    2016/9/9  zdaley24     org_publisher      0.0  \n",
       "2410      0    2016/9/6   zeman97     org_publisher      0.0  \n",
       "\n",
       "[251 rows x 9 columns]"
      ]
     },
     "execution_count": 10,
     "metadata": {},
     "output_type": "execute_result"
    }
   ],
   "source": [
    "# From a dataframe of VT Enterprise Logins only, create a dataframe that meets the above criteria.\n",
    "deleteList = vtEnterpriseLogins.loc[(vtEnterpriseLogins['storage'] == 0) & (vtEnterpriseLogins['items'] == 0) &(vtEnterpriseLogins['groups'] ==0) &(vtEnterpriseLogins['lastAccess'].str[:4] < '2018')]\n",
    "deleteList\n"
   ]
  },
  {
   "cell_type": "code",
   "execution_count": 13,
   "metadata": {},
   "outputs": [],
   "source": [
    "\n",
    "# Optionally, Serialize the list of users who are candidates for deletion so we can take a look at it in Excel.  (Out of band human inspection)\n",
    "deleteList.to_csv('driveby-'+strftime(\"%Y%m%d-%H%M%S\",time.localtime())+\".csv\")\n"
   ]
  },
  {
   "cell_type": "markdown",
   "metadata": {},
   "source": [
    "## Deprovision all user licenses and entitlements\n",
    "Before we can actually delete a user we have to get rid of all their entitlements, releasing all add-on licenses. \n",
    "We can either do this by attempting to revoke every entitement in the org or by inspecting the specific user via the REST API to get their actual entitlements and just revoking what they have.\n",
    "\n",
    "See https://github.com/sspeery/educ2019/blob/master/GetOrganizationEntitlements.ipynb"
   ]
  },
  {
   "cell_type": "code",
   "execution_count": 9,
   "metadata": {},
   "outputs": [
    {
     "data": {
      "text/plain": [
       "{'Insights for ArcGIS': ['Insights'],\n",
       " 'ArcGIS Pro': ['3DAnalystN',\n",
       "  'airportsN',\n",
       "  'businessStdN',\n",
       "  'dataInteropN',\n",
       "  'dataReviewerN',\n",
       "  'defenseN',\n",
       "  'desktopAdvN',\n",
       "  'geostatAnalystN',\n",
       "  'imageAnalystN',\n",
       "  'LocRefDesktopN',\n",
       "  'maritimeN',\n",
       "  'networkAnalystN',\n",
       "  'productionMapN',\n",
       "  'publisherN',\n",
       "  'spatialAnalystN',\n",
       "  'workflowMgrN'],\n",
       " 'GeoPlanner for ArcGIS': ['GeoPlanner'],\n",
       " 'ArcGIS Community Analyst': ['CommunityAnlyst'],\n",
       " 'Navigator for ArcGIS': ['Navigator'],\n",
       " 'ArcGIS Business Analyst Web and Mobile Apps': ['BusinessAnlyst']}"
      ]
     },
     "execution_count": 9,
     "metadata": {},
     "output_type": "execute_result"
    }
   ],
   "source": [
    "# Retrieve all the entitlements in the org\n",
    "lics = gis.admin.license.all()\n",
    "licensedProducts = []   # array of the specific Products for which there may be entitlements\n",
    "licenseArr = []         # array of the actual licenses for the Products\n",
    "for lic in lics:\n",
    "    try:\n",
    "        licensedProducts.append(json.loads(str(lic.properties))['listing']['title'])\n",
    "    except KeyError:\n",
    "        pass\n",
    "\n",
    "entDf = pandas.DataFrame()  # this stores your organization's entitlements total/assigned/remaining for each product in a dataframe\n",
    "for product in licensedProducts:\n",
    "    try:\n",
    "        theLicense = gis.admin.license.get(product)\n",
    "        licenseArr.append(theLicense)\n",
    "        thisProductReportDf = theLicense.report #gets the total/assigned/remaining licenses for each product\n",
    "        thisProductReportDf['Product'] = product\n",
    "        entDf = entDf.append(thisProductReportDf)\n",
    "    except KeyError:\n",
    "        pass\n",
    "    \n",
    "# Create a dictionary of the form used by the UMich license assignment script\n",
    "# See also: https://gist.github.com/sspeery/190d6dc45bc8f4c4b3ba0e2705850463\n",
    "entitlements = dict.fromkeys(entDf['Product'].unique())\n",
    "for key in entitlements:\n",
    "    entitlements[key]=[]\n",
    "for index, row in entDf.iterrows():\n",
    "    entitlements[row['Product']].append(row['Entitlement'])\n",
    "entitlements"
   ]
  },
  {
   "cell_type": "code",
   "execution_count": 14,
   "metadata": {},
   "outputs": [
    {
     "name": "stdout",
     "output_type": "stream",
     "text": [
      "Removing Entitlements for user abreed2_virginiatech...\n",
      "-Insights for ArcGIS\n",
      "-ArcGIS Pro\n",
      "-Drone2Map for ArcGIS\n",
      "-GeoPlanner for ArcGIS\n",
      "-AppStudio for ArcGIS\n",
      "-ArcGIS Community Analyst\n",
      "-Navigator for ArcGIS\n"
     ]
    },
    {
     "name": "stderr",
     "output_type": "stream",
     "text": [
      "not licensed by user\n"
     ]
    },
    {
     "name": "stdout",
     "output_type": "stream",
     "text": [
      "-Admin Tools for ArcGIS℠ Online\n",
      "I'm just not worrying about this right now\n",
      "-ArcGIS Business Analyst Web and Mobile Apps\n",
      "Removing Entitlements for user acorrea_virginiatech...\n",
      "-Insights for ArcGIS\n",
      "-ArcGIS Pro\n",
      "-Drone2Map for ArcGIS\n",
      "-GeoPlanner for ArcGIS\n",
      "-AppStudio for ArcGIS\n",
      "-ArcGIS Community Analyst\n"
     ]
    },
    {
     "name": "stderr",
     "output_type": "stream",
     "text": [
      "not licensed by user\n"
     ]
    },
    {
     "name": "stdout",
     "output_type": "stream",
     "text": [
      "-Navigator for ArcGIS\n",
      "-Admin Tools for ArcGIS℠ Online\n",
      "I'm just not worrying about this right now\n",
      "-ArcGIS Business Analyst Web and Mobile Apps\n",
      "Removing Entitlements for user aguest_virginiatech...\n",
      "-Insights for ArcGIS\n",
      "-ArcGIS Pro\n",
      "-Drone2Map for ArcGIS\n",
      "-GeoPlanner for ArcGIS\n",
      "-AppStudio for ArcGIS\n",
      "-ArcGIS Community Analyst\n",
      "-Navigator for ArcGIS\n"
     ]
    },
    {
     "name": "stderr",
     "output_type": "stream",
     "text": [
      "not licensed by user\n"
     ]
    },
    {
     "name": "stdout",
     "output_type": "stream",
     "text": [
      "-Admin Tools for ArcGIS℠ Online\n",
      "I'm just not worrying about this right now\n",
      "-ArcGIS Business Analyst Web and Mobile Apps\n",
      "Removing Entitlements for user ajwells_virginiatech...\n",
      "-Insights for ArcGIS\n",
      "-ArcGIS Pro\n",
      "-Drone2Map for ArcGIS\n",
      "-GeoPlanner for ArcGIS\n",
      "-AppStudio for ArcGIS\n",
      "-ArcGIS Community Analyst\n",
      "-Navigator for ArcGIS\n"
     ]
    },
    {
     "name": "stderr",
     "output_type": "stream",
     "text": [
      "not licensed by user\n"
     ]
    },
    {
     "name": "stdout",
     "output_type": "stream",
     "text": [
      "-Admin Tools for ArcGIS℠ Online\n",
      "I'm just not worrying about this right now\n",
      "-ArcGIS Business Analyst Web and Mobile Apps\n",
      "Removing Entitlements for user alena5_virginiatech...\n",
      "-Insights for ArcGIS\n",
      "-ArcGIS Pro\n",
      "-Drone2Map for ArcGIS\n",
      "-GeoPlanner for ArcGIS\n",
      "-AppStudio for ArcGIS\n",
      "-ArcGIS Community Analyst\n",
      "-Navigator for ArcGIS\n"
     ]
    },
    {
     "name": "stderr",
     "output_type": "stream",
     "text": [
      "not licensed by user\n"
     ]
    },
    {
     "name": "stdout",
     "output_type": "stream",
     "text": [
      "-Admin Tools for ArcGIS℠ Online\n",
      "I'm just not worrying about this right now\n",
      "-ArcGIS Business Analyst Web and Mobile Apps\n",
      "Removing Entitlements for user alext10_virginiatech...\n",
      "-Insights for ArcGIS\n",
      "-ArcGIS Pro\n",
      "-Drone2Map for ArcGIS\n",
      "-GeoPlanner for ArcGIS\n",
      "-AppStudio for ArcGIS\n",
      "-ArcGIS Community Analyst\n",
      "-Navigator for ArcGIS\n",
      "-Admin Tools for ArcGIS℠ Online\n"
     ]
    },
    {
     "name": "stderr",
     "output_type": "stream",
     "text": [
      "not licensed by user\n"
     ]
    },
    {
     "name": "stdout",
     "output_type": "stream",
     "text": [
      "I'm just not worrying about this right now\n",
      "-ArcGIS Business Analyst Web and Mobile Apps\n",
      "Removing Entitlements for user aliyahli_virginiatech...\n",
      "-Insights for ArcGIS\n",
      "-ArcGIS Pro\n",
      "-Drone2Map for ArcGIS\n",
      "-GeoPlanner for ArcGIS\n",
      "-AppStudio for ArcGIS\n",
      "-ArcGIS Community Analyst\n",
      "-Navigator for ArcGIS\n"
     ]
    },
    {
     "name": "stderr",
     "output_type": "stream",
     "text": [
      "not licensed by user\n"
     ]
    },
    {
     "name": "stdout",
     "output_type": "stream",
     "text": [
      "-Admin Tools for ArcGIS℠ Online\n",
      "I'm just not worrying about this right now\n",
      "-ArcGIS Business Analyst Web and Mobile Apps\n",
      "Removing Entitlements for user andman_virginiatech...\n",
      "-Insights for ArcGIS\n",
      "-ArcGIS Pro\n",
      "-Drone2Map for ArcGIS\n",
      "-GeoPlanner for ArcGIS\n",
      "-AppStudio for ArcGIS\n",
      "-ArcGIS Community Analyst\n"
     ]
    },
    {
     "name": "stderr",
     "output_type": "stream",
     "text": [
      "not licensed by user\n"
     ]
    },
    {
     "name": "stdout",
     "output_type": "stream",
     "text": [
      "-Navigator for ArcGIS\n",
      "-Admin Tools for ArcGIS℠ Online\n",
      "I'm just not worrying about this right now\n",
      "-ArcGIS Business Analyst Web and Mobile Apps\n",
      "Removing Entitlements for user apagan8_virginiatech...\n",
      "-Insights for ArcGIS\n",
      "-ArcGIS Pro\n",
      "-Drone2Map for ArcGIS\n",
      "-GeoPlanner for ArcGIS\n",
      "-AppStudio for ArcGIS\n",
      "-ArcGIS Community Analyst\n",
      "-Navigator for ArcGIS\n",
      "-Admin Tools for ArcGIS℠ Online\n"
     ]
    },
    {
     "name": "stderr",
     "output_type": "stream",
     "text": [
      "not licensed by user\n"
     ]
    },
    {
     "name": "stdout",
     "output_type": "stream",
     "text": [
      "I'm just not worrying about this right now\n",
      "-ArcGIS Business Analyst Web and Mobile Apps\n",
      "Removing Entitlements for user asp2340_virginiatech...\n",
      "-Insights for ArcGIS\n",
      "-ArcGIS Pro\n",
      "-Drone2Map for ArcGIS\n",
      "-GeoPlanner for ArcGIS\n",
      "-AppStudio for ArcGIS\n",
      "-ArcGIS Community Analyst\n"
     ]
    },
    {
     "name": "stderr",
     "output_type": "stream",
     "text": [
      "not licensed by user\n"
     ]
    },
    {
     "name": "stdout",
     "output_type": "stream",
     "text": [
      "-Navigator for ArcGIS\n",
      "-Admin Tools for ArcGIS℠ Online\n",
      "I'm just not worrying about this right now\n",
      "-ArcGIS Business Analyst Web and Mobile Apps\n",
      "Removing Entitlements for user augusta_virginiatech...\n",
      "-Insights for ArcGIS\n",
      "-ArcGIS Pro\n",
      "-Drone2Map for ArcGIS\n",
      "-GeoPlanner for ArcGIS\n",
      "-AppStudio for ArcGIS\n",
      "-ArcGIS Community Analyst\n",
      "-Navigator for ArcGIS\n"
     ]
    },
    {
     "name": "stderr",
     "output_type": "stream",
     "text": [
      "not licensed by user\n"
     ]
    },
    {
     "name": "stdout",
     "output_type": "stream",
     "text": [
      "-Admin Tools for ArcGIS℠ Online\n",
      "I'm just not worrying about this right now\n",
      "-ArcGIS Business Analyst Web and Mobile Apps\n",
      "Removing Entitlements for user aupdike_virginiatech...\n",
      "-Insights for ArcGIS\n",
      "-ArcGIS Pro\n",
      "-Drone2Map for ArcGIS\n",
      "-GeoPlanner for ArcGIS\n",
      "-AppStudio for ArcGIS\n",
      "-ArcGIS Community Analyst\n",
      "-Navigator for ArcGIS\n"
     ]
    },
    {
     "name": "stderr",
     "output_type": "stream",
     "text": [
      "not licensed by user\n"
     ]
    },
    {
     "name": "stdout",
     "output_type": "stream",
     "text": [
      "-Admin Tools for ArcGIS℠ Online\n",
      "I'm just not worrying about this right now\n",
      "-ArcGIS Business Analyst Web and Mobile Apps\n",
      "Removing Entitlements for user averill1_virginiatech...\n",
      "-Insights for ArcGIS\n",
      "-ArcGIS Pro\n",
      "-Drone2Map for ArcGIS\n",
      "-GeoPlanner for ArcGIS\n",
      "-AppStudio for ArcGIS\n",
      "-ArcGIS Community Analyst\n"
     ]
    },
    {
     "name": "stderr",
     "output_type": "stream",
     "text": [
      "not licensed by user\n"
     ]
    },
    {
     "name": "stdout",
     "output_type": "stream",
     "text": [
      "-Navigator for ArcGIS\n",
      "-Admin Tools for ArcGIS℠ Online\n",
      "I'm just not worrying about this right now\n",
      "-ArcGIS Business Analyst Web and Mobile Apps\n",
      "Removing Entitlements for user bbritt1_virginiatech...\n",
      "-Insights for ArcGIS\n",
      "-ArcGIS Pro\n",
      "-Drone2Map for ArcGIS\n",
      "-GeoPlanner for ArcGIS\n",
      "-AppStudio for ArcGIS\n",
      "-ArcGIS Community Analyst\n"
     ]
    },
    {
     "name": "stderr",
     "output_type": "stream",
     "text": [
      "not licensed by user\n"
     ]
    },
    {
     "name": "stdout",
     "output_type": "stream",
     "text": [
      "-Navigator for ArcGIS\n",
      "-Admin Tools for ArcGIS℠ Online\n",
      "I'm just not worrying about this right now\n",
      "-ArcGIS Business Analyst Web and Mobile Apps\n",
      "Removing Entitlements for user bcase_virginiatech...\n",
      "-Insights for ArcGIS\n",
      "-ArcGIS Pro\n",
      "-Drone2Map for ArcGIS\n",
      "-GeoPlanner for ArcGIS\n",
      "-AppStudio for ArcGIS\n",
      "-ArcGIS Community Analyst\n"
     ]
    },
    {
     "name": "stderr",
     "output_type": "stream",
     "text": [
      "not licensed by user\n"
     ]
    },
    {
     "name": "stdout",
     "output_type": "stream",
     "text": [
      "-Navigator for ArcGIS\n",
      "-Admin Tools for ArcGIS℠ Online\n",
      "I'm just not worrying about this right now\n",
      "-ArcGIS Business Analyst Web and Mobile Apps\n",
      "Removing Entitlements for user beccap95_virginiatech...\n",
      "-Insights for ArcGIS\n",
      "-ArcGIS Pro\n",
      "-Drone2Map for ArcGIS\n",
      "-GeoPlanner for ArcGIS\n",
      "-AppStudio for ArcGIS\n",
      "-ArcGIS Community Analyst\n",
      "-Navigator for ArcGIS\n",
      "-Admin Tools for ArcGIS℠ Online\n"
     ]
    },
    {
     "name": "stderr",
     "output_type": "stream",
     "text": [
      "not licensed by user\n"
     ]
    },
    {
     "name": "stdout",
     "output_type": "stream",
     "text": [
      "I'm just not worrying about this right now\n",
      "-ArcGIS Business Analyst Web and Mobile Apps\n",
      "Removing Entitlements for user ben348_virginiatech...\n",
      "-Insights for ArcGIS\n",
      "-ArcGIS Pro\n",
      "-Drone2Map for ArcGIS\n",
      "-GeoPlanner for ArcGIS\n",
      "-AppStudio for ArcGIS\n",
      "-ArcGIS Community Analyst\n",
      "-Navigator for ArcGIS\n"
     ]
    },
    {
     "name": "stderr",
     "output_type": "stream",
     "text": [
      "not licensed by user\n"
     ]
    },
    {
     "name": "stdout",
     "output_type": "stream",
     "text": [
      "-Admin Tools for ArcGIS℠ Online\n",
      "I'm just not worrying about this right now\n",
      "-ArcGIS Business Analyst Web and Mobile Apps\n",
      "Removing Entitlements for user bend92_virginiatech...\n",
      "-Insights for ArcGIS\n",
      "-ArcGIS Pro\n",
      "-Drone2Map for ArcGIS\n",
      "-GeoPlanner for ArcGIS\n",
      "-AppStudio for ArcGIS\n",
      "-ArcGIS Community Analyst\n",
      "-Navigator for ArcGIS\n"
     ]
    },
    {
     "name": "stderr",
     "output_type": "stream",
     "text": [
      "not licensed by user\n"
     ]
    },
    {
     "name": "stdout",
     "output_type": "stream",
     "text": [
      "-Admin Tools for ArcGIS℠ Online\n",
      "I'm just not worrying about this right now\n",
      "-ArcGIS Business Analyst Web and Mobile Apps\n",
      "Removing Entitlements for user beric7_virginiatech...\n",
      "-Insights for ArcGIS\n",
      "-ArcGIS Pro\n",
      "-Drone2Map for ArcGIS\n",
      "-GeoPlanner for ArcGIS\n",
      "-AppStudio for ArcGIS\n",
      "-ArcGIS Community Analyst\n",
      "-Navigator for ArcGIS\n"
     ]
    },
    {
     "name": "stderr",
     "output_type": "stream",
     "text": [
      "not licensed by user\n"
     ]
    },
    {
     "name": "stdout",
     "output_type": "stream",
     "text": [
      "-Admin Tools for ArcGIS℠ Online\n",
      "I'm just not worrying about this right now\n",
      "-ArcGIS Business Analyst Web and Mobile Apps\n",
      "Removing Entitlements for user billah_virginiatech...\n",
      "-Insights for ArcGIS\n",
      "-ArcGIS Pro\n",
      "-Drone2Map for ArcGIS\n",
      "-GeoPlanner for ArcGIS\n",
      "-AppStudio for ArcGIS\n",
      "-ArcGIS Community Analyst\n"
     ]
    },
    {
     "name": "stderr",
     "output_type": "stream",
     "text": [
      "not licensed by user\n"
     ]
    },
    {
     "name": "stdout",
     "output_type": "stream",
     "text": [
      "-Navigator for ArcGIS\n",
      "-Admin Tools for ArcGIS℠ Online\n",
      "I'm just not worrying about this right now\n",
      "-ArcGIS Business Analyst Web and Mobile Apps\n",
      "Removing Entitlements for user bjulien6_virginiatech...\n",
      "-Insights for ArcGIS\n",
      "-ArcGIS Pro\n",
      "-Drone2Map for ArcGIS\n",
      "-GeoPlanner for ArcGIS\n",
      "-AppStudio for ArcGIS\n",
      "-ArcGIS Community Analyst\n"
     ]
    },
    {
     "name": "stderr",
     "output_type": "stream",
     "text": [
      "not licensed by user\n"
     ]
    },
    {
     "name": "stdout",
     "output_type": "stream",
     "text": [
      "-Navigator for ArcGIS\n",
      "-Admin Tools for ArcGIS℠ Online\n",
      "I'm just not worrying about this right now\n",
      "-ArcGIS Business Analyst Web and Mobile Apps\n",
      "Removing Entitlements for user bmene258_virginiatech...\n",
      "-Insights for ArcGIS\n",
      "-ArcGIS Pro\n",
      "-Drone2Map for ArcGIS\n",
      "-GeoPlanner for ArcGIS\n",
      "-AppStudio for ArcGIS\n",
      "-ArcGIS Community Analyst\n"
     ]
    },
    {
     "name": "stderr",
     "output_type": "stream",
     "text": [
      "not licensed by user\n"
     ]
    },
    {
     "name": "stdout",
     "output_type": "stream",
     "text": [
      "-Navigator for ArcGIS\n",
      "-Admin Tools for ArcGIS℠ Online\n",
      "I'm just not worrying about this right now\n",
      "-ArcGIS Business Analyst Web and Mobile Apps\n",
      "Removing Entitlements for user bneidigh_virginiatech...\n",
      "-Insights for ArcGIS\n",
      "-ArcGIS Pro\n",
      "-Drone2Map for ArcGIS\n",
      "-GeoPlanner for ArcGIS\n",
      "-AppStudio for ArcGIS\n",
      "-ArcGIS Community Analyst\n"
     ]
    },
    {
     "name": "stderr",
     "output_type": "stream",
     "text": [
      "not licensed by user\n"
     ]
    },
    {
     "name": "stdout",
     "output_type": "stream",
     "text": [
      "-Navigator for ArcGIS\n",
      "-Admin Tools for ArcGIS℠ Online\n",
      "I'm just not worrying about this right now\n",
      "-ArcGIS Business Analyst Web and Mobile Apps\n",
      "Removing Entitlements for user bpayne28_virginiatech...\n",
      "-Insights for ArcGIS\n",
      "-ArcGIS Pro\n",
      "-Drone2Map for ArcGIS\n",
      "-GeoPlanner for ArcGIS\n",
      "-AppStudio for ArcGIS\n",
      "-ArcGIS Community Analyst\n",
      "-Navigator for ArcGIS\n"
     ]
    },
    {
     "name": "stderr",
     "output_type": "stream",
     "text": [
      "not licensed by user\n"
     ]
    },
    {
     "name": "stdout",
     "output_type": "stream",
     "text": [
      "-Admin Tools for ArcGIS℠ Online\n",
      "I'm just not worrying about this right now\n",
      "-ArcGIS Business Analyst Web and Mobile Apps\n",
      "Removing Entitlements for user bpires_virginiatech...\n",
      "-Insights for ArcGIS\n",
      "-ArcGIS Pro\n",
      "-Drone2Map for ArcGIS\n",
      "-GeoPlanner for ArcGIS\n",
      "-AppStudio for ArcGIS\n",
      "-ArcGIS Community Analyst\n"
     ]
    },
    {
     "name": "stderr",
     "output_type": "stream",
     "text": [
      "not licensed by user\n"
     ]
    },
    {
     "name": "stdout",
     "output_type": "stream",
     "text": [
      "-Navigator for ArcGIS\n",
      "-Admin Tools for ArcGIS℠ Online\n",
      "I'm just not worrying about this right now\n",
      "-ArcGIS Business Analyst Web and Mobile Apps\n",
      "Removing Entitlements for user bpm13006_virginiatech...\n",
      "-Insights for ArcGIS\n",
      "-ArcGIS Pro\n",
      "-Drone2Map for ArcGIS\n",
      "-GeoPlanner for ArcGIS\n",
      "-AppStudio for ArcGIS\n",
      "-ArcGIS Community Analyst\n"
     ]
    },
    {
     "name": "stderr",
     "output_type": "stream",
     "text": [
      "not licensed by user\n"
     ]
    },
    {
     "name": "stdout",
     "output_type": "stream",
     "text": [
      "-Navigator for ArcGIS\n",
      "-Admin Tools for ArcGIS℠ Online\n",
      "I'm just not worrying about this right now\n",
      "-ArcGIS Business Analyst Web and Mobile Apps\n",
      "Removing Entitlements for user brians97_virginiatech...\n",
      "-Insights for ArcGIS\n",
      "-ArcGIS Pro\n",
      "-Drone2Map for ArcGIS\n",
      "-GeoPlanner for ArcGIS\n",
      "-AppStudio for ArcGIS\n",
      "-ArcGIS Community Analyst\n"
     ]
    },
    {
     "name": "stderr",
     "output_type": "stream",
     "text": [
      "not licensed by user\n"
     ]
    },
    {
     "name": "stdout",
     "output_type": "stream",
     "text": [
      "-Navigator for ArcGIS\n",
      "-Admin Tools for ArcGIS℠ Online\n",
      "I'm just not worrying about this right now\n",
      "-ArcGIS Business Analyst Web and Mobile Apps\n",
      "Removing Entitlements for user bridgesc_virginiatech...\n",
      "-Insights for ArcGIS\n",
      "-ArcGIS Pro\n",
      "-Drone2Map for ArcGIS\n",
      "-GeoPlanner for ArcGIS\n",
      "-AppStudio for ArcGIS\n",
      "-ArcGIS Community Analyst\n"
     ]
    },
    {
     "name": "stderr",
     "output_type": "stream",
     "text": [
      "not licensed by user\n"
     ]
    },
    {
     "name": "stdout",
     "output_type": "stream",
     "text": [
      "-Navigator for ArcGIS\n",
      "-Admin Tools for ArcGIS℠ Online\n",
      "I'm just not worrying about this right now\n",
      "-ArcGIS Business Analyst Web and Mobile Apps\n",
      "Removing Entitlements for user britc96_virginiatech...\n",
      "-Insights for ArcGIS\n",
      "-ArcGIS Pro\n",
      "-Drone2Map for ArcGIS\n",
      "-GeoPlanner for ArcGIS\n",
      "-AppStudio for ArcGIS\n",
      "-ArcGIS Community Analyst\n",
      "-Navigator for ArcGIS\n"
     ]
    },
    {
     "name": "stderr",
     "output_type": "stream",
     "text": [
      "not licensed by user\n"
     ]
    },
    {
     "name": "stdout",
     "output_type": "stream",
     "text": [
      "-Admin Tools for ArcGIS℠ Online\n",
      "I'm just not worrying about this right now\n",
      "-ArcGIS Business Analyst Web and Mobile Apps\n",
      "Removing Entitlements for user bryans92_virginiatech...\n",
      "-Insights for ArcGIS\n",
      "-ArcGIS Pro\n",
      "-Drone2Map for ArcGIS\n",
      "-GeoPlanner for ArcGIS\n",
      "-AppStudio for ArcGIS\n",
      "-ArcGIS Community Analyst\n",
      "-Navigator for ArcGIS\n"
     ]
    },
    {
     "name": "stderr",
     "output_type": "stream",
     "text": [
      "not licensed by user\n"
     ]
    },
    {
     "name": "stdout",
     "output_type": "stream",
     "text": [
      "-Admin Tools for ArcGIS℠ Online\n",
      "I'm just not worrying about this right now\n",
      "-ArcGIS Business Analyst Web and Mobile Apps\n",
      "Removing Entitlements for user cadetmcm_virginiatech...\n",
      "-Insights for ArcGIS\n",
      "-ArcGIS Pro\n",
      "-Drone2Map for ArcGIS\n",
      "-GeoPlanner for ArcGIS\n",
      "-AppStudio for ArcGIS\n",
      "-ArcGIS Community Analyst\n",
      "-Navigator for ArcGIS\n",
      "-Admin Tools for ArcGIS℠ Online\n"
     ]
    },
    {
     "name": "stderr",
     "output_type": "stream",
     "text": [
      "not licensed by user\n"
     ]
    },
    {
     "name": "stdout",
     "output_type": "stream",
     "text": [
      "I'm just not worrying about this right now\n",
      "-ArcGIS Business Analyst Web and Mobile Apps\n",
      "Removing Entitlements for user callaml_virginiatech...\n",
      "-Insights for ArcGIS\n",
      "-ArcGIS Pro\n",
      "-Drone2Map for ArcGIS\n",
      "-GeoPlanner for ArcGIS\n",
      "-AppStudio for ArcGIS\n",
      "-ArcGIS Community Analyst\n",
      "-Navigator for ArcGIS\n",
      "-Admin Tools for ArcGIS℠ Online\n"
     ]
    },
    {
     "name": "stderr",
     "output_type": "stream",
     "text": [
      "not licensed by user\n"
     ]
    },
    {
     "name": "stdout",
     "output_type": "stream",
     "text": [
      "I'm just not worrying about this right now\n",
      "-ArcGIS Business Analyst Web and Mobile Apps\n",
      "Removing Entitlements for user camden7_virginiatech...\n",
      "-Insights for ArcGIS\n",
      "-ArcGIS Pro\n",
      "-Drone2Map for ArcGIS\n",
      "-GeoPlanner for ArcGIS\n",
      "-AppStudio for ArcGIS\n",
      "-ArcGIS Community Analyst\n",
      "-Navigator for ArcGIS\n"
     ]
    },
    {
     "name": "stderr",
     "output_type": "stream",
     "text": [
      "not licensed by user\n"
     ]
    },
    {
     "name": "stdout",
     "output_type": "stream",
     "text": [
      "-Admin Tools for ArcGIS℠ Online\n",
      "I'm just not worrying about this right now\n",
      "-ArcGIS Business Analyst Web and Mobile Apps\n",
      "Removing Entitlements for user camillem_virginiatech...\n",
      "-Insights for ArcGIS\n",
      "-ArcGIS Pro\n",
      "-Drone2Map for ArcGIS\n",
      "-GeoPlanner for ArcGIS\n",
      "-AppStudio for ArcGIS\n",
      "-ArcGIS Community Analyst\n"
     ]
    },
    {
     "name": "stderr",
     "output_type": "stream",
     "text": [
      "not licensed by user\n"
     ]
    },
    {
     "name": "stdout",
     "output_type": "stream",
     "text": [
      "-Navigator for ArcGIS\n",
      "-Admin Tools for ArcGIS℠ Online\n",
      "I'm just not worrying about this right now\n",
      "-ArcGIS Business Analyst Web and Mobile Apps\n",
      "Removing Entitlements for user carol123_virginiatech...\n",
      "-Insights for ArcGIS\n",
      "-ArcGIS Pro\n",
      "-Drone2Map for ArcGIS\n",
      "-GeoPlanner for ArcGIS\n",
      "-AppStudio for ArcGIS\n",
      "-ArcGIS Community Analyst\n",
      "-Navigator for ArcGIS\n"
     ]
    },
    {
     "name": "stderr",
     "output_type": "stream",
     "text": [
      "not licensed by user\n"
     ]
    },
    {
     "name": "stdout",
     "output_type": "stream",
     "text": [
      "-Admin Tools for ArcGIS℠ Online\n",
      "I'm just not worrying about this right now\n",
      "-ArcGIS Business Analyst Web and Mobile Apps\n",
      "Removing Entitlements for user cben4_virginiatech...\n",
      "-Insights for ArcGIS\n",
      "-ArcGIS Pro\n",
      "-Drone2Map for ArcGIS\n",
      "-GeoPlanner for ArcGIS\n",
      "-AppStudio for ArcGIS\n",
      "-ArcGIS Community Analyst\n",
      "-Navigator for ArcGIS\n"
     ]
    },
    {
     "name": "stderr",
     "output_type": "stream",
     "text": [
      "not licensed by user\n"
     ]
    },
    {
     "name": "stdout",
     "output_type": "stream",
     "text": [
      "-Admin Tools for ArcGIS℠ Online\n",
      "I'm just not worrying about this right now\n",
      "-ArcGIS Business Analyst Web and Mobile Apps\n",
      "Removing Entitlements for user cbholder_virginiatech...\n",
      "-Insights for ArcGIS\n",
      "-ArcGIS Pro\n",
      "-Drone2Map for ArcGIS\n",
      "-GeoPlanner for ArcGIS\n",
      "-AppStudio for ArcGIS\n",
      "-ArcGIS Community Analyst\n",
      "-Navigator for ArcGIS\n"
     ]
    },
    {
     "name": "stderr",
     "output_type": "stream",
     "text": [
      "not licensed by user\n"
     ]
    },
    {
     "name": "stdout",
     "output_type": "stream",
     "text": [
      "-Admin Tools for ArcGIS℠ Online\n",
      "I'm just not worrying about this right now\n",
      "-ArcGIS Business Analyst Web and Mobile Apps\n",
      "Removing Entitlements for user cfitz08_virginiatech...\n",
      "-Insights for ArcGIS\n",
      "-ArcGIS Pro\n",
      "-Drone2Map for ArcGIS\n",
      "-GeoPlanner for ArcGIS\n",
      "-AppStudio for ArcGIS\n",
      "-ArcGIS Community Analyst\n",
      "-Navigator for ArcGIS\n",
      "-Admin Tools for ArcGIS℠ Online\n"
     ]
    },
    {
     "name": "stderr",
     "output_type": "stream",
     "text": [
      "not licensed by user\n"
     ]
    },
    {
     "name": "stdout",
     "output_type": "stream",
     "text": [
      "I'm just not worrying about this right now\n",
      "-ArcGIS Business Analyst Web and Mobile Apps\n",
      "Removing Entitlements for user cgreeves_virginiatech...\n",
      "-Insights for ArcGIS\n",
      "-ArcGIS Pro\n",
      "-Drone2Map for ArcGIS\n",
      "-GeoPlanner for ArcGIS\n",
      "-AppStudio for ArcGIS\n",
      "-ArcGIS Community Analyst\n",
      "-Navigator for ArcGIS\n"
     ]
    },
    {
     "name": "stderr",
     "output_type": "stream",
     "text": [
      "not licensed by user\n"
     ]
    },
    {
     "name": "stdout",
     "output_type": "stream",
     "text": [
      "-Admin Tools for ArcGIS℠ Online\n",
      "I'm just not worrying about this right now\n",
      "-ArcGIS Business Analyst Web and Mobile Apps\n",
      "Removing Entitlements for user chnorth1_virginiatech...\n",
      "-Insights for ArcGIS\n",
      "-ArcGIS Pro\n",
      "-Drone2Map for ArcGIS\n",
      "-GeoPlanner for ArcGIS\n",
      "-AppStudio for ArcGIS\n",
      "-ArcGIS Community Analyst\n",
      "-Navigator for ArcGIS\n"
     ]
    },
    {
     "name": "stderr",
     "output_type": "stream",
     "text": [
      "not licensed by user\n"
     ]
    },
    {
     "name": "stdout",
     "output_type": "stream",
     "text": [
      "-Admin Tools for ArcGIS℠ Online\n",
      "I'm just not worrying about this right now\n",
      "-ArcGIS Business Analyst Web and Mobile Apps\n",
      "Removing Entitlements for user chris2c_virginiatech...\n",
      "-Insights for ArcGIS\n",
      "-ArcGIS Pro\n",
      "-Drone2Map for ArcGIS\n",
      "-GeoPlanner for ArcGIS\n",
      "-AppStudio for ArcGIS\n",
      "-ArcGIS Community Analyst\n",
      "-Navigator for ArcGIS\n"
     ]
    },
    {
     "name": "stderr",
     "output_type": "stream",
     "text": [
      "not licensed by user\n"
     ]
    },
    {
     "name": "stdout",
     "output_type": "stream",
     "text": [
      "-Admin Tools for ArcGIS℠ Online\n",
      "I'm just not worrying about this right now\n",
      "-ArcGIS Business Analyst Web and Mobile Apps\n",
      "Removing Entitlements for user chrisj97_virginiatech...\n",
      "-Insights for ArcGIS\n",
      "-ArcGIS Pro\n",
      "-Drone2Map for ArcGIS\n",
      "-GeoPlanner for ArcGIS\n",
      "-AppStudio for ArcGIS\n",
      "-ArcGIS Community Analyst\n",
      "-Navigator for ArcGIS\n",
      "-Admin Tools for ArcGIS℠ Online\n"
     ]
    },
    {
     "name": "stderr",
     "output_type": "stream",
     "text": [
      "not licensed by user\n"
     ]
    },
    {
     "name": "stdout",
     "output_type": "stream",
     "text": [
      "I'm just not worrying about this right now\n",
      "-ArcGIS Business Analyst Web and Mobile Apps\n",
      "Removing Entitlements for user cjen2397_virginiatech...\n",
      "-Insights for ArcGIS\n",
      "-ArcGIS Pro\n",
      "-Drone2Map for ArcGIS\n",
      "-GeoPlanner for ArcGIS\n",
      "-AppStudio for ArcGIS\n",
      "-ArcGIS Community Analyst\n"
     ]
    },
    {
     "name": "stderr",
     "output_type": "stream",
     "text": [
      "not licensed by user\n"
     ]
    },
    {
     "name": "stdout",
     "output_type": "stream",
     "text": [
      "-Navigator for ArcGIS\n",
      "-Admin Tools for ArcGIS℠ Online\n",
      "I'm just not worrying about this right now\n",
      "-ArcGIS Business Analyst Web and Mobile Apps\n",
      "Removing Entitlements for user cjohn4_virginiatech...\n",
      "-Insights for ArcGIS\n",
      "-ArcGIS Pro\n",
      "-Drone2Map for ArcGIS\n",
      "-GeoPlanner for ArcGIS\n",
      "-AppStudio for ArcGIS\n",
      "-ArcGIS Community Analyst\n"
     ]
    },
    {
     "name": "stderr",
     "output_type": "stream",
     "text": [
      "not licensed by user\n"
     ]
    },
    {
     "name": "stdout",
     "output_type": "stream",
     "text": [
      "-Navigator for ArcGIS\n",
      "-Admin Tools for ArcGIS℠ Online\n",
      "I'm just not worrying about this right now\n",
      "-ArcGIS Business Analyst Web and Mobile Apps\n",
      "Removing Entitlements for user cjurg803_virginiatech...\n",
      "-Insights for ArcGIS\n",
      "-ArcGIS Pro\n",
      "-Drone2Map for ArcGIS\n",
      "-GeoPlanner for ArcGIS\n",
      "-AppStudio for ArcGIS\n",
      "-ArcGIS Community Analyst\n",
      "-Navigator for ArcGIS\n"
     ]
    },
    {
     "name": "stderr",
     "output_type": "stream",
     "text": [
      "not licensed by user\n"
     ]
    },
    {
     "name": "stdout",
     "output_type": "stream",
     "text": [
      "-Admin Tools for ArcGIS℠ Online\n",
      "I'm just not worrying about this right now\n",
      "-ArcGIS Business Analyst Web and Mobile Apps\n",
      "Removing Entitlements for user claires1_virginiatech...\n",
      "-Insights for ArcGIS\n",
      "-ArcGIS Pro\n",
      "-Drone2Map for ArcGIS\n",
      "-GeoPlanner for ArcGIS\n",
      "-AppStudio for ArcGIS\n",
      "-ArcGIS Community Analyst\n",
      "-Navigator for ArcGIS\n"
     ]
    },
    {
     "name": "stderr",
     "output_type": "stream",
     "text": [
      "not licensed by user\n"
     ]
    },
    {
     "name": "stdout",
     "output_type": "stream",
     "text": [
      "-Admin Tools for ArcGIS℠ Online\n",
      "I'm just not worrying about this right now\n",
      "-ArcGIS Business Analyst Web and Mobile Apps\n",
      "Removing Entitlements for user clawler_virginiatech...\n",
      "-Insights for ArcGIS\n",
      "-ArcGIS Pro\n",
      "-Drone2Map for ArcGIS\n",
      "-GeoPlanner for ArcGIS\n",
      "-AppStudio for ArcGIS\n",
      "-ArcGIS Community Analyst\n",
      "-Navigator for ArcGIS\n"
     ]
    },
    {
     "name": "stderr",
     "output_type": "stream",
     "text": [
      "not licensed by user\n"
     ]
    },
    {
     "name": "stdout",
     "output_type": "stream",
     "text": [
      "-Admin Tools for ArcGIS℠ Online\n",
      "I'm just not worrying about this right now\n",
      "-ArcGIS Business Analyst Web and Mobile Apps\n",
      "Removing Entitlements for user clayf96_virginiatech...\n",
      "-Insights for ArcGIS\n",
      "-ArcGIS Pro\n",
      "-Drone2Map for ArcGIS\n",
      "-GeoPlanner for ArcGIS\n",
      "-AppStudio for ArcGIS\n",
      "-ArcGIS Community Analyst\n",
      "-Navigator for ArcGIS\n"
     ]
    },
    {
     "name": "stderr",
     "output_type": "stream",
     "text": [
      "not licensed by user\n"
     ]
    },
    {
     "name": "stdout",
     "output_type": "stream",
     "text": [
      "-Admin Tools for ArcGIS℠ Online\n",
      "I'm just not worrying about this right now\n",
      "-ArcGIS Business Analyst Web and Mobile Apps\n",
      "Removing Entitlements for user cleo2013_virginiatech...\n",
      "-Insights for ArcGIS\n",
      "-ArcGIS Pro\n",
      "-Drone2Map for ArcGIS\n",
      "-GeoPlanner for ArcGIS\n",
      "-AppStudio for ArcGIS\n",
      "-ArcGIS Community Analyst\n"
     ]
    },
    {
     "name": "stderr",
     "output_type": "stream",
     "text": [
      "not licensed by user\n"
     ]
    },
    {
     "name": "stdout",
     "output_type": "stream",
     "text": [
      "-Navigator for ArcGIS\n",
      "-Admin Tools for ArcGIS℠ Online\n",
      "I'm just not worrying about this right now\n",
      "-ArcGIS Business Analyst Web and Mobile Apps\n",
      "Removing Entitlements for user cloe_virginiatech...\n",
      "-Insights for ArcGIS\n",
      "-ArcGIS Pro\n",
      "-Drone2Map for ArcGIS\n",
      "-GeoPlanner for ArcGIS\n",
      "-AppStudio for ArcGIS\n",
      "-ArcGIS Community Analyst\n",
      "-Navigator for ArcGIS\n"
     ]
    },
    {
     "name": "stderr",
     "output_type": "stream",
     "text": [
      "not licensed by user\n"
     ]
    },
    {
     "name": "stdout",
     "output_type": "stream",
     "text": [
      "-Admin Tools for ArcGIS℠ Online\n",
      "I'm just not worrying about this right now\n",
      "-ArcGIS Business Analyst Web and Mobile Apps\n",
      "Removing Entitlements for user cmc2706_virginiatech...\n",
      "-Insights for ArcGIS\n",
      "-ArcGIS Pro\n",
      "-Drone2Map for ArcGIS\n",
      "-GeoPlanner for ArcGIS\n",
      "-AppStudio for ArcGIS\n",
      "-ArcGIS Community Analyst\n",
      "-Navigator for ArcGIS\n"
     ]
    },
    {
     "name": "stderr",
     "output_type": "stream",
     "text": [
      "not licensed by user\n"
     ]
    },
    {
     "name": "stdout",
     "output_type": "stream",
     "text": [
      "-Admin Tools for ArcGIS℠ Online\n",
      "I'm just not worrying about this right now\n",
      "-ArcGIS Business Analyst Web and Mobile Apps\n",
      "Removing Entitlements for user cmoritz_virginiatech...\n",
      "-Insights for ArcGIS\n",
      "-ArcGIS Pro\n",
      "-Drone2Map for ArcGIS\n",
      "-GeoPlanner for ArcGIS\n",
      "-AppStudio for ArcGIS\n",
      "-ArcGIS Community Analyst\n",
      "-Navigator for ArcGIS\n"
     ]
    },
    {
     "name": "stderr",
     "output_type": "stream",
     "text": [
      "not licensed by user\n"
     ]
    },
    {
     "name": "stdout",
     "output_type": "stream",
     "text": [
      "-Admin Tools for ArcGIS℠ Online\n",
      "I'm just not worrying about this right now\n",
      "-ArcGIS Business Analyst Web and Mobile Apps\n",
      "Removing Entitlements for user cneill_virginiatech...\n",
      "-Insights for ArcGIS\n",
      "-ArcGIS Pro\n",
      "-Drone2Map for ArcGIS\n",
      "-GeoPlanner for ArcGIS\n",
      "-AppStudio for ArcGIS\n",
      "-ArcGIS Community Analyst\n",
      "-Navigator for ArcGIS\n"
     ]
    },
    {
     "name": "stderr",
     "output_type": "stream",
     "text": [
      "not licensed by user\n"
     ]
    },
    {
     "name": "stdout",
     "output_type": "stream",
     "text": [
      "-Admin Tools for ArcGIS℠ Online\n",
      "I'm just not worrying about this right now\n",
      "-ArcGIS Business Analyst Web and Mobile Apps\n",
      "Removing Entitlements for user corkilre_virginiatech...\n",
      "-Insights for ArcGIS\n",
      "-ArcGIS Pro\n",
      "-Drone2Map for ArcGIS\n",
      "-GeoPlanner for ArcGIS\n",
      "-AppStudio for ArcGIS\n",
      "-ArcGIS Community Analyst\n",
      "-Navigator for ArcGIS\n",
      "-Admin Tools for ArcGIS℠ Online\n"
     ]
    },
    {
     "name": "stderr",
     "output_type": "stream",
     "text": [
      "not licensed by user\n"
     ]
    },
    {
     "name": "stdout",
     "output_type": "stream",
     "text": [
      "I'm just not worrying about this right now\n",
      "-ArcGIS Business Analyst Web and Mobile Apps\n",
      "Removing Entitlements for user crafie_virginiatech...\n",
      "-Insights for ArcGIS\n",
      "-ArcGIS Pro\n",
      "-Drone2Map for ArcGIS\n",
      "-GeoPlanner for ArcGIS\n",
      "-AppStudio for ArcGIS\n",
      "-ArcGIS Community Analyst\n",
      "-Navigator for ArcGIS\n",
      "-Admin Tools for ArcGIS℠ Online\n"
     ]
    },
    {
     "name": "stderr",
     "output_type": "stream",
     "text": [
      "not licensed by user\n"
     ]
    },
    {
     "name": "stdout",
     "output_type": "stream",
     "text": [
      "I'm just not worrying about this right now\n",
      "-ArcGIS Business Analyst Web and Mobile Apps\n",
      "Removing Entitlements for user craig95_virginiatech...\n",
      "-Insights for ArcGIS\n",
      "-ArcGIS Pro\n",
      "-Drone2Map for ArcGIS\n",
      "-GeoPlanner for ArcGIS\n",
      "-AppStudio for ArcGIS\n",
      "-ArcGIS Community Analyst\n",
      "-Navigator for ArcGIS\n"
     ]
    },
    {
     "name": "stderr",
     "output_type": "stream",
     "text": [
      "not licensed by user\n"
     ]
    },
    {
     "name": "stdout",
     "output_type": "stream",
     "text": [
      "-Admin Tools for ArcGIS℠ Online\n",
      "I'm just not worrying about this right now\n",
      "-ArcGIS Business Analyst Web and Mobile Apps\n",
      "Removing Entitlements for user crkrafft_virginiatech...\n",
      "-Insights for ArcGIS\n",
      "-ArcGIS Pro\n",
      "-Drone2Map for ArcGIS\n",
      "-GeoPlanner for ArcGIS\n",
      "-AppStudio for ArcGIS\n",
      "-ArcGIS Community Analyst\n"
     ]
    },
    {
     "name": "stderr",
     "output_type": "stream",
     "text": [
      "not licensed by user\n"
     ]
    },
    {
     "name": "stdout",
     "output_type": "stream",
     "text": [
      "-Navigator for ArcGIS\n",
      "-Admin Tools for ArcGIS℠ Online\n",
      "I'm just not worrying about this right now\n",
      "-ArcGIS Business Analyst Web and Mobile Apps\n",
      "Removing Entitlements for user croghair_virginiatech...\n",
      "-Insights for ArcGIS\n",
      "-ArcGIS Pro\n",
      "-Drone2Map for ArcGIS\n",
      "-GeoPlanner for ArcGIS\n",
      "-AppStudio for ArcGIS\n",
      "-ArcGIS Community Analyst\n",
      "-Navigator for ArcGIS\n"
     ]
    },
    {
     "name": "stderr",
     "output_type": "stream",
     "text": [
      "not licensed by user\n"
     ]
    },
    {
     "name": "stdout",
     "output_type": "stream",
     "text": [
      "-Admin Tools for ArcGIS℠ Online\n",
      "I'm just not worrying about this right now\n",
      "-ArcGIS Business Analyst Web and Mobile Apps\n",
      "Removing Entitlements for user csolar12_virginiatech...\n",
      "-Insights for ArcGIS\n",
      "-ArcGIS Pro\n",
      "-Drone2Map for ArcGIS\n",
      "-GeoPlanner for ArcGIS\n",
      "-AppStudio for ArcGIS\n",
      "-ArcGIS Community Analyst\n"
     ]
    },
    {
     "name": "stderr",
     "output_type": "stream",
     "text": [
      "not licensed by user\n"
     ]
    },
    {
     "name": "stdout",
     "output_type": "stream",
     "text": [
      "-Navigator for ArcGIS\n",
      "-Admin Tools for ArcGIS℠ Online\n",
      "I'm just not worrying about this right now\n",
      "-ArcGIS Business Analyst Web and Mobile Apps\n",
      "Removing Entitlements for user davidh7_virginiatech...\n",
      "-Insights for ArcGIS\n",
      "-ArcGIS Pro\n",
      "-Drone2Map for ArcGIS\n",
      "-GeoPlanner for ArcGIS\n",
      "-AppStudio for ArcGIS\n",
      "-ArcGIS Community Analyst\n",
      "-Navigator for ArcGIS\n"
     ]
    },
    {
     "name": "stderr",
     "output_type": "stream",
     "text": [
      "not licensed by user\n"
     ]
    },
    {
     "name": "stdout",
     "output_type": "stream",
     "text": [
      "-Admin Tools for ArcGIS℠ Online\n",
      "I'm just not worrying about this right now\n",
      "-ArcGIS Business Analyst Web and Mobile Apps\n",
      "Removing Entitlements for user davidr27_virginiatech...\n",
      "-Insights for ArcGIS\n",
      "-ArcGIS Pro\n",
      "-Drone2Map for ArcGIS\n",
      "-GeoPlanner for ArcGIS\n",
      "-AppStudio for ArcGIS\n",
      "-ArcGIS Community Analyst\n",
      "-Navigator for ArcGIS\n"
     ]
    },
    {
     "name": "stderr",
     "output_type": "stream",
     "text": [
      "not licensed by user\n"
     ]
    },
    {
     "name": "stdout",
     "output_type": "stream",
     "text": [
      "-Admin Tools for ArcGIS℠ Online\n",
      "I'm just not worrying about this right now\n",
      "-ArcGIS Business Analyst Web and Mobile Apps\n",
      "Removing Entitlements for user diana96_virginiatech...\n",
      "-Insights for ArcGIS\n",
      "-ArcGIS Pro\n",
      "-Drone2Map for ArcGIS\n",
      "-GeoPlanner for ArcGIS\n",
      "-AppStudio for ArcGIS\n",
      "-ArcGIS Community Analyst\n",
      "-Navigator for ArcGIS\n"
     ]
    },
    {
     "name": "stderr",
     "output_type": "stream",
     "text": [
      "not licensed by user\n"
     ]
    },
    {
     "name": "stdout",
     "output_type": "stream",
     "text": [
      "-Admin Tools for ArcGIS℠ Online\n",
      "I'm just not worrying about this right now\n",
      "-ArcGIS Business Analyst Web and Mobile Apps\n",
      "Removing Entitlements for user diego8_virginiatech...\n",
      "-Insights for ArcGIS\n",
      "-ArcGIS Pro\n",
      "-Drone2Map for ArcGIS\n",
      "-GeoPlanner for ArcGIS\n",
      "-AppStudio for ArcGIS\n",
      "-ArcGIS Community Analyst\n"
     ]
    },
    {
     "name": "stderr",
     "output_type": "stream",
     "text": [
      "not licensed by user\n"
     ]
    },
    {
     "name": "stdout",
     "output_type": "stream",
     "text": [
      "-Navigator for ArcGIS\n",
      "-Admin Tools for ArcGIS℠ Online\n",
      "I'm just not worrying about this right now\n",
      "-ArcGIS Business Analyst Web and Mobile Apps\n",
      "Removing Entitlements for user dongyu_virginiatech...\n",
      "-Insights for ArcGIS\n",
      "-ArcGIS Pro\n",
      "-Drone2Map for ArcGIS\n",
      "-GeoPlanner for ArcGIS\n",
      "-AppStudio for ArcGIS\n",
      "-ArcGIS Community Analyst\n"
     ]
    },
    {
     "name": "stderr",
     "output_type": "stream",
     "text": [
      "not licensed by user\n"
     ]
    },
    {
     "name": "stdout",
     "output_type": "stream",
     "text": [
      "-Navigator for ArcGIS\n",
      "-Admin Tools for ArcGIS℠ Online\n",
      "I'm just not worrying about this right now\n",
      "-ArcGIS Business Analyst Web and Mobile Apps\n",
      "Removing Entitlements for user dsd1_virginiatech...\n",
      "-Insights for ArcGIS\n",
      "-ArcGIS Pro\n",
      "-Drone2Map for ArcGIS\n",
      "-GeoPlanner for ArcGIS\n",
      "-AppStudio for ArcGIS\n",
      "-ArcGIS Community Analyst\n",
      "-Navigator for ArcGIS\n",
      "-Admin Tools for ArcGIS℠ Online\n"
     ]
    },
    {
     "name": "stderr",
     "output_type": "stream",
     "text": [
      "not licensed by user\n"
     ]
    },
    {
     "name": "stdout",
     "output_type": "stream",
     "text": [
      "I'm just not worrying about this right now\n",
      "-ArcGIS Business Analyst Web and Mobile Apps\n",
      "Removing Entitlements for user dstansb_virginiatech...\n",
      "-Insights for ArcGIS\n",
      "-ArcGIS Pro\n",
      "-Drone2Map for ArcGIS\n",
      "-GeoPlanner for ArcGIS\n",
      "-AppStudio for ArcGIS\n",
      "-ArcGIS Community Analyst\n",
      "-Navigator for ArcGIS\n"
     ]
    },
    {
     "name": "stderr",
     "output_type": "stream",
     "text": [
      "not licensed by user\n"
     ]
    },
    {
     "name": "stdout",
     "output_type": "stream",
     "text": [
      "-Admin Tools for ArcGIS℠ Online\n",
      "I'm just not worrying about this right now\n",
      "-ArcGIS Business Analyst Web and Mobile Apps\n",
      "Removing Entitlements for user edeleoni_virginiatech...\n",
      "-Insights for ArcGIS\n",
      "-ArcGIS Pro\n",
      "-Drone2Map for ArcGIS\n",
      "-GeoPlanner for ArcGIS\n",
      "-AppStudio for ArcGIS\n",
      "-ArcGIS Community Analyst\n",
      "-Navigator for ArcGIS\n",
      "-Admin Tools for ArcGIS℠ Online\n"
     ]
    },
    {
     "name": "stderr",
     "output_type": "stream",
     "text": [
      "not licensed by user\n"
     ]
    },
    {
     "name": "stdout",
     "output_type": "stream",
     "text": [
      "I'm just not worrying about this right now\n",
      "-ArcGIS Business Analyst Web and Mobile Apps\n",
      "Removing Entitlements for user ekeshte_virginiatech...\n",
      "-Insights for ArcGIS\n",
      "-ArcGIS Pro\n",
      "-Drone2Map for ArcGIS\n",
      "-GeoPlanner for ArcGIS\n",
      "-AppStudio for ArcGIS\n",
      "-ArcGIS Community Analyst\n",
      "-Navigator for ArcGIS\n",
      "-Admin Tools for ArcGIS℠ Online\n"
     ]
    },
    {
     "name": "stderr",
     "output_type": "stream",
     "text": [
      "not licensed by user\n"
     ]
    },
    {
     "name": "stdout",
     "output_type": "stream",
     "text": [
      "I'm just not worrying about this right now\n",
      "-ArcGIS Business Analyst Web and Mobile Apps\n",
      "Removing Entitlements for user ellenr94_virginiatech...\n",
      "-Insights for ArcGIS\n",
      "-ArcGIS Pro\n",
      "-Drone2Map for ArcGIS\n",
      "-GeoPlanner for ArcGIS\n",
      "-AppStudio for ArcGIS\n",
      "-ArcGIS Community Analyst\n",
      "-Navigator for ArcGIS\n",
      "-Admin Tools for ArcGIS℠ Online\n"
     ]
    },
    {
     "name": "stderr",
     "output_type": "stream",
     "text": [
      "not licensed by user\n"
     ]
    },
    {
     "name": "stdout",
     "output_type": "stream",
     "text": [
      "I'm just not worrying about this right now\n",
      "-ArcGIS Business Analyst Web and Mobile Apps\n",
      "Removing Entitlements for user elyy13_virginiatech...\n",
      "-Insights for ArcGIS\n",
      "-ArcGIS Pro\n",
      "-Drone2Map for ArcGIS\n",
      "-GeoPlanner for ArcGIS\n",
      "-AppStudio for ArcGIS\n",
      "-ArcGIS Community Analyst\n"
     ]
    },
    {
     "name": "stderr",
     "output_type": "stream",
     "text": [
      "not licensed by user\n"
     ]
    },
    {
     "name": "stdout",
     "output_type": "stream",
     "text": [
      "-Navigator for ArcGIS\n",
      "-Admin Tools for ArcGIS℠ Online\n",
      "I'm just not worrying about this right now\n",
      "-ArcGIS Business Analyst Web and Mobile Apps\n",
      "Removing Entitlements for user emcclusk_virginiatech...\n",
      "-Insights for ArcGIS\n",
      "-ArcGIS Pro\n",
      "-Drone2Map for ArcGIS\n",
      "-GeoPlanner for ArcGIS\n",
      "-AppStudio for ArcGIS\n",
      "-ArcGIS Community Analyst\n",
      "-Navigator for ArcGIS\n"
     ]
    },
    {
     "name": "stderr",
     "output_type": "stream",
     "text": [
      "not licensed by user\n"
     ]
    },
    {
     "name": "stdout",
     "output_type": "stream",
     "text": [
      "-Admin Tools for ArcGIS℠ Online\n",
      "I'm just not worrying about this right now\n",
      "-ArcGIS Business Analyst Web and Mobile Apps\n",
      "Removing Entitlements for user emertes_virginiatech...\n",
      "-Insights for ArcGIS\n",
      "-ArcGIS Pro\n",
      "-Drone2Map for ArcGIS\n",
      "-GeoPlanner for ArcGIS\n",
      "-AppStudio for ArcGIS\n",
      "-ArcGIS Community Analyst\n",
      "-Navigator for ArcGIS\n",
      "-Admin Tools for ArcGIS℠ Online\n"
     ]
    },
    {
     "name": "stderr",
     "output_type": "stream",
     "text": [
      "not licensed by user\n"
     ]
    },
    {
     "name": "stdout",
     "output_type": "stream",
     "text": [
      "I'm just not worrying about this right now\n",
      "-ArcGIS Business Analyst Web and Mobile Apps\n",
      "Removing Entitlements for user emily05_virginiatech...\n",
      "-Insights for ArcGIS\n",
      "-ArcGIS Pro\n",
      "-Drone2Map for ArcGIS\n",
      "-GeoPlanner for ArcGIS\n",
      "-AppStudio for ArcGIS\n",
      "-ArcGIS Community Analyst\n"
     ]
    },
    {
     "name": "stderr",
     "output_type": "stream",
     "text": [
      "not licensed by user\n"
     ]
    },
    {
     "name": "stdout",
     "output_type": "stream",
     "text": [
      "-Navigator for ArcGIS\n",
      "-Admin Tools for ArcGIS℠ Online\n",
      "I'm just not worrying about this right now\n",
      "-ArcGIS Business Analyst Web and Mobile Apps\n",
      "Removing Entitlements for user emilyn3_virginiatech...\n",
      "-Insights for ArcGIS\n",
      "-ArcGIS Pro\n",
      "-Drone2Map for ArcGIS\n",
      "-GeoPlanner for ArcGIS\n",
      "-AppStudio for ArcGIS\n",
      "-ArcGIS Community Analyst\n"
     ]
    },
    {
     "name": "stderr",
     "output_type": "stream",
     "text": [
      "not licensed by user\n"
     ]
    },
    {
     "name": "stdout",
     "output_type": "stream",
     "text": [
      "-Navigator for ArcGIS\n",
      "-Admin Tools for ArcGIS℠ Online\n",
      "I'm just not worrying about this right now\n",
      "-ArcGIS Business Analyst Web and Mobile Apps\n",
      "Removing Entitlements for user ericg9_virginiatech...\n",
      "-Insights for ArcGIS\n",
      "-ArcGIS Pro\n",
      "-Drone2Map for ArcGIS\n",
      "-GeoPlanner for ArcGIS\n",
      "-AppStudio for ArcGIS\n",
      "-ArcGIS Community Analyst\n"
     ]
    },
    {
     "name": "stderr",
     "output_type": "stream",
     "text": [
      "not licensed by user\n"
     ]
    },
    {
     "name": "stdout",
     "output_type": "stream",
     "text": [
      "-Navigator for ArcGIS\n",
      "-Admin Tools for ArcGIS℠ Online\n",
      "I'm just not worrying about this right now\n",
      "-ArcGIS Business Analyst Web and Mobile Apps\n",
      "Removing Entitlements for user erind1_virginiatech...\n",
      "-Insights for ArcGIS\n",
      "-ArcGIS Pro\n",
      "-Drone2Map for ArcGIS\n",
      "-GeoPlanner for ArcGIS\n",
      "-AppStudio for ArcGIS\n",
      "-ArcGIS Community Analyst\n",
      "-Navigator for ArcGIS\n"
     ]
    },
    {
     "name": "stderr",
     "output_type": "stream",
     "text": [
      "not licensed by user\n"
     ]
    },
    {
     "name": "stdout",
     "output_type": "stream",
     "text": [
      "-Admin Tools for ArcGIS℠ Online\n",
      "I'm just not worrying about this right now\n",
      "-ArcGIS Business Analyst Web and Mobile Apps\n",
      "Removing Entitlements for user erobohm_virginiatech...\n",
      "-Insights for ArcGIS\n",
      "-ArcGIS Pro\n",
      "-Drone2Map for ArcGIS\n",
      "-GeoPlanner for ArcGIS\n",
      "-AppStudio for ArcGIS\n",
      "-ArcGIS Community Analyst\n",
      "-Navigator for ArcGIS\n",
      "-Admin Tools for ArcGIS℠ Online\n"
     ]
    },
    {
     "name": "stderr",
     "output_type": "stream",
     "text": [
      "not licensed by user\n"
     ]
    },
    {
     "name": "stdout",
     "output_type": "stream",
     "text": [
      "I'm just not worrying about this right now\n",
      "-ArcGIS Business Analyst Web and Mobile Apps\n",
      "Removing Entitlements for user esmith97_virginiatech...\n",
      "-Insights for ArcGIS\n",
      "-ArcGIS Pro\n",
      "-Drone2Map for ArcGIS\n",
      "-GeoPlanner for ArcGIS\n",
      "-AppStudio for ArcGIS\n",
      "-ArcGIS Community Analyst\n",
      "-Navigator for ArcGIS\n"
     ]
    },
    {
     "name": "stderr",
     "output_type": "stream",
     "text": [
      "not licensed by user\n"
     ]
    },
    {
     "name": "stdout",
     "output_type": "stream",
     "text": [
      "-Admin Tools for ArcGIS℠ Online\n",
      "I'm just not worrying about this right now\n",
      "-ArcGIS Business Analyst Web and Mobile Apps\n",
      "Removing Entitlements for user ewk203_virginiatech...\n",
      "-Insights for ArcGIS\n",
      "-ArcGIS Pro\n",
      "-Drone2Map for ArcGIS\n",
      "-GeoPlanner for ArcGIS\n",
      "-AppStudio for ArcGIS\n",
      "-ArcGIS Community Analyst\n"
     ]
    },
    {
     "name": "stderr",
     "output_type": "stream",
     "text": [
      "not licensed by user\n"
     ]
    },
    {
     "name": "stdout",
     "output_type": "stream",
     "text": [
      "-Navigator for ArcGIS\n",
      "-Admin Tools for ArcGIS℠ Online\n",
      "I'm just not worrying about this right now\n",
      "-ArcGIS Business Analyst Web and Mobile Apps\n",
      "Removing Entitlements for user ferry092_virginiatech...\n",
      "-Insights for ArcGIS\n",
      "-ArcGIS Pro\n",
      "-Drone2Map for ArcGIS\n",
      "-GeoPlanner for ArcGIS\n",
      "-AppStudio for ArcGIS\n",
      "-ArcGIS Community Analyst\n"
     ]
    },
    {
     "name": "stderr",
     "output_type": "stream",
     "text": [
      "not licensed by user\n"
     ]
    },
    {
     "name": "stdout",
     "output_type": "stream",
     "text": [
      "-Navigator for ArcGIS\n",
      "-Admin Tools for ArcGIS℠ Online\n",
      "I'm just not worrying about this right now\n",
      "-ArcGIS Business Analyst Web and Mobile Apps\n",
      "Removing Entitlements for user fionar1_virginiatech...\n",
      "-Insights for ArcGIS\n",
      "-ArcGIS Pro\n",
      "-Drone2Map for ArcGIS\n",
      "-GeoPlanner for ArcGIS\n",
      "-AppStudio for ArcGIS\n",
      "-ArcGIS Community Analyst\n",
      "-Navigator for ArcGIS\n"
     ]
    },
    {
     "name": "stderr",
     "output_type": "stream",
     "text": [
      "not licensed by user\n"
     ]
    },
    {
     "name": "stdout",
     "output_type": "stream",
     "text": [
      "-Admin Tools for ArcGIS℠ Online\n",
      "I'm just not worrying about this right now\n",
      "-ArcGIS Business Analyst Web and Mobile Apps\n",
      "Removing Entitlements for user fluke4_virginiatech...\n",
      "-Insights for ArcGIS\n",
      "-ArcGIS Pro\n",
      "-Drone2Map for ArcGIS\n",
      "-GeoPlanner for ArcGIS\n",
      "-AppStudio for ArcGIS\n",
      "-ArcGIS Community Analyst\n",
      "-Navigator for ArcGIS\n",
      "-Admin Tools for ArcGIS℠ Online"
     ]
    },
    {
     "name": "stderr",
     "output_type": "stream",
     "text": [
      "not licensed by user\n"
     ]
    },
    {
     "name": "stdout",
     "output_type": "stream",
     "text": [
      "\n",
      "I'm just not worrying about this right now\n",
      "-ArcGIS Business Analyst Web and Mobile Apps\n",
      "Removing Entitlements for user fsimo13_virginiatech...\n",
      "-Insights for ArcGIS\n",
      "-ArcGIS Pro\n",
      "-Drone2Map for ArcGIS\n",
      "-GeoPlanner for ArcGIS\n",
      "-AppStudio for ArcGIS\n",
      "-ArcGIS Community Analyst\n",
      "-Navigator for ArcGIS\n"
     ]
    },
    {
     "name": "stderr",
     "output_type": "stream",
     "text": [
      "not licensed by user\n"
     ]
    },
    {
     "name": "stdout",
     "output_type": "stream",
     "text": [
      "-Admin Tools for ArcGIS℠ Online\n",
      "I'm just not worrying about this right now\n",
      "-ArcGIS Business Analyst Web and Mobile Apps\n",
      "Removing Entitlements for user fzain1_virginiatech...\n",
      "-Insights for ArcGIS\n",
      "-ArcGIS Pro\n",
      "-Drone2Map for ArcGIS\n",
      "-GeoPlanner for ArcGIS\n",
      "-AppStudio for ArcGIS\n",
      "-ArcGIS Community Analyst\n"
     ]
    },
    {
     "name": "stderr",
     "output_type": "stream",
     "text": [
      "not licensed by user\n"
     ]
    },
    {
     "name": "stdout",
     "output_type": "stream",
     "text": [
      "-Navigator for ArcGIS\n",
      "-Admin Tools for ArcGIS℠ Online\n",
      "I'm just not worrying about this right now\n",
      "-ArcGIS Business Analyst Web and Mobile Apps\n",
      "Removing Entitlements for user gaddyjm8_virginiatech...\n",
      "-Insights for ArcGIS\n",
      "-ArcGIS Pro\n",
      "-Drone2Map for ArcGIS\n",
      "-GeoPlanner for ArcGIS\n",
      "-AppStudio for ArcGIS\n",
      "-ArcGIS Community Analyst\n"
     ]
    },
    {
     "name": "stderr",
     "output_type": "stream",
     "text": [
      "not licensed by user\n"
     ]
    },
    {
     "name": "stdout",
     "output_type": "stream",
     "text": [
      "-Navigator for ArcGIS\n",
      "-Admin Tools for ArcGIS℠ Online\n",
      "I'm just not worrying about this right now\n",
      "-ArcGIS Business Analyst Web and Mobile Apps\n",
      "Removing Entitlements for user garberae_virginiatech...\n",
      "-Insights for ArcGIS\n",
      "-ArcGIS Pro\n",
      "-Drone2Map for ArcGIS\n",
      "-GeoPlanner for ArcGIS\n",
      "-AppStudio for ArcGIS\n",
      "-ArcGIS Community Analyst\n"
     ]
    },
    {
     "name": "stderr",
     "output_type": "stream",
     "text": [
      "not licensed by user\n"
     ]
    },
    {
     "name": "stdout",
     "output_type": "stream",
     "text": [
      "-Navigator for ArcGIS\n",
      "-Admin Tools for ArcGIS℠ Online\n",
      "I'm just not worrying about this right now\n",
      "-ArcGIS Business Analyst Web and Mobile Apps\n",
      "Removing Entitlements for user garman88_virginiatech...\n",
      "-Insights for ArcGIS\n",
      "-ArcGIS Pro\n",
      "-Drone2Map for ArcGIS\n",
      "-GeoPlanner for ArcGIS\n",
      "-AppStudio for ArcGIS\n",
      "-ArcGIS Community Analyst\n"
     ]
    },
    {
     "name": "stderr",
     "output_type": "stream",
     "text": [
      "not licensed by user\n"
     ]
    },
    {
     "name": "stdout",
     "output_type": "stream",
     "text": [
      "-Navigator for ArcGIS\n",
      "-Admin Tools for ArcGIS℠ Online\n",
      "I'm just not worrying about this right now\n",
      "-ArcGIS Business Analyst Web and Mobile Apps\n",
      "Removing Entitlements for user garres4_virginiatech...\n",
      "-Insights for ArcGIS\n",
      "-ArcGIS Pro\n",
      "-Drone2Map for ArcGIS\n",
      "-GeoPlanner for ArcGIS\n",
      "-AppStudio for ArcGIS\n",
      "-ArcGIS Community Analyst\n",
      "-Navigator for ArcGIS\n"
     ]
    },
    {
     "name": "stderr",
     "output_type": "stream",
     "text": [
      "not licensed by user\n"
     ]
    },
    {
     "name": "stdout",
     "output_type": "stream",
     "text": [
      "-Admin Tools for ArcGIS℠ Online\n",
      "I'm just not worrying about this right now\n",
      "-ArcGIS Business Analyst Web and Mobile Apps\n",
      "Removing Entitlements for user gillena_virginiatech...\n",
      "-Insights for ArcGIS\n",
      "-ArcGIS Pro\n",
      "-Drone2Map for ArcGIS\n",
      "-GeoPlanner for ArcGIS\n",
      "-AppStudio for ArcGIS\n",
      "-ArcGIS Community Analyst\n"
     ]
    },
    {
     "name": "stderr",
     "output_type": "stream",
     "text": [
      "not licensed by user\n"
     ]
    },
    {
     "name": "stdout",
     "output_type": "stream",
     "text": [
      "-Navigator for ArcGIS\n",
      "-Admin Tools for ArcGIS℠ Online\n",
      "I'm just not worrying about this right now\n",
      "-ArcGIS Business Analyst Web and Mobile Apps\n",
      "Removing Entitlements for user gmaddern_virginiatech...\n",
      "-Insights for ArcGIS\n",
      "-ArcGIS Pro\n",
      "-Drone2Map for ArcGIS\n",
      "-GeoPlanner for ArcGIS\n",
      "-AppStudio for ArcGIS\n",
      "-ArcGIS Community Analyst\n"
     ]
    },
    {
     "name": "stderr",
     "output_type": "stream",
     "text": [
      "not licensed by user\n"
     ]
    },
    {
     "name": "stdout",
     "output_type": "stream",
     "text": [
      "-Navigator for ArcGIS\n",
      "-Admin Tools for ArcGIS℠ Online\n",
      "I'm just not worrying about this right now\n",
      "-ArcGIS Business Analyst Web and Mobile Apps\n",
      "Removing Entitlements for user gmayes1_virginiatech...\n",
      "-Insights for ArcGIS\n",
      "-ArcGIS Pro\n",
      "-Drone2Map for ArcGIS\n",
      "-GeoPlanner for ArcGIS\n",
      "-AppStudio for ArcGIS\n",
      "-ArcGIS Community Analyst\n",
      "-Navigator for ArcGIS\n",
      "-Admin Tools for ArcGIS℠ Online\n"
     ]
    },
    {
     "name": "stderr",
     "output_type": "stream",
     "text": [
      "not licensed by user\n"
     ]
    },
    {
     "name": "stdout",
     "output_type": "stream",
     "text": [
      "I'm just not worrying about this right now\n",
      "-ArcGIS Business Analyst Web and Mobile Apps\n",
      "Removing Entitlements for user gmich20_virginiatech...\n",
      "-Insights for ArcGIS\n",
      "-ArcGIS Pro\n",
      "-Drone2Map for ArcGIS\n",
      "-GeoPlanner for ArcGIS\n",
      "-AppStudio for ArcGIS\n",
      "-ArcGIS Community Analyst\n",
      "-Navigator for ArcGIS\n"
     ]
    },
    {
     "name": "stderr",
     "output_type": "stream",
     "text": [
      "not licensed by user\n"
     ]
    },
    {
     "name": "stdout",
     "output_type": "stream",
     "text": [
      "-Admin Tools for ArcGIS℠ Online\n",
      "I'm just not worrying about this right now\n",
      "-ArcGIS Business Analyst Web and Mobile Apps\n",
      "Removing Entitlements for user gmyrth89_virginiatech...\n",
      "-Insights for ArcGIS\n",
      "-ArcGIS Pro\n",
      "-Drone2Map for ArcGIS\n",
      "-GeoPlanner for ArcGIS\n",
      "-AppStudio for ArcGIS\n",
      "-ArcGIS Community Analyst\n",
      "-Navigator for ArcGIS\n"
     ]
    },
    {
     "name": "stderr",
     "output_type": "stream",
     "text": [
      "not licensed by user\n"
     ]
    },
    {
     "name": "stdout",
     "output_type": "stream",
     "text": [
      "-Admin Tools for ArcGIS℠ Online\n",
      "I'm just not worrying about this right now\n",
      "-ArcGIS Business Analyst Web and Mobile Apps\n",
      "Removing Entitlements for user grahamc_virginiatech...\n",
      "-Insights for ArcGIS\n",
      "-ArcGIS Pro\n",
      "-Drone2Map for ArcGIS\n",
      "-GeoPlanner for ArcGIS\n",
      "-AppStudio for ArcGIS\n",
      "-ArcGIS Community Analyst\n"
     ]
    },
    {
     "name": "stderr",
     "output_type": "stream",
     "text": [
      "not licensed by user\n"
     ]
    },
    {
     "name": "stdout",
     "output_type": "stream",
     "text": [
      "-Navigator for ArcGIS\n",
      "-Admin Tools for ArcGIS℠ Online\n",
      "I'm just not worrying about this right now\n",
      "-ArcGIS Business Analyst Web and Mobile Apps\n",
      "Removing Entitlements for user grantc24_virginiatech...\n",
      "-Insights for ArcGIS\n",
      "-ArcGIS Pro\n",
      "-Drone2Map for ArcGIS\n",
      "-GeoPlanner for ArcGIS\n",
      "-AppStudio for ArcGIS\n",
      "-ArcGIS Community Analyst\n"
     ]
    },
    {
     "name": "stderr",
     "output_type": "stream",
     "text": [
      "not licensed by user\n"
     ]
    },
    {
     "name": "stdout",
     "output_type": "stream",
     "text": [
      "-Navigator for ArcGIS\n",
      "-Admin Tools for ArcGIS℠ Online\n",
      "I'm just not worrying about this right now\n",
      "-ArcGIS Business Analyst Web and Mobile Apps\n",
      "Removing Entitlements for user grnkiwi2_virginiatech...\n",
      "-Insights for ArcGIS\n",
      "-ArcGIS Pro\n",
      "-Drone2Map for ArcGIS\n",
      "-GeoPlanner for ArcGIS\n",
      "-AppStudio for ArcGIS\n",
      "-ArcGIS Community Analyst\n",
      "-Navigator for ArcGIS\n"
     ]
    },
    {
     "name": "stderr",
     "output_type": "stream",
     "text": [
      "not licensed by user\n"
     ]
    },
    {
     "name": "stdout",
     "output_type": "stream",
     "text": [
      "-Admin Tools for ArcGIS℠ Online\n",
      "I'm just not worrying about this right now\n",
      "-ArcGIS Business Analyst Web and Mobile Apps\n",
      "Removing Entitlements for user hbreezy_virginiatech...\n",
      "-Insights for ArcGIS\n",
      "-ArcGIS Pro\n",
      "-Drone2Map for ArcGIS\n",
      "-GeoPlanner for ArcGIS\n",
      "-AppStudio for ArcGIS\n",
      "-ArcGIS Community Analyst\n",
      "-Navigator for ArcGIS\n",
      "-Admin Tools for ArcGIS℠ Online\n"
     ]
    },
    {
     "name": "stderr",
     "output_type": "stream",
     "text": [
      "not licensed by user\n"
     ]
    },
    {
     "name": "stdout",
     "output_type": "stream",
     "text": [
      "I'm just not worrying about this right now\n",
      "-ArcGIS Business Analyst Web and Mobile Apps\n",
      "Removing Entitlements for user hendercp_virginiatech...\n",
      "-Insights for ArcGIS\n",
      "-ArcGIS Pro\n",
      "-Drone2Map for ArcGIS\n",
      "-GeoPlanner for ArcGIS\n",
      "-AppStudio for ArcGIS\n",
      "-ArcGIS Community Analyst\n",
      "-Navigator for ArcGIS\n"
     ]
    },
    {
     "name": "stderr",
     "output_type": "stream",
     "text": [
      "not licensed by user\n"
     ]
    },
    {
     "name": "stdout",
     "output_type": "stream",
     "text": [
      "-Admin Tools for ArcGIS℠ Online\n",
      "I'm just not worrying about this right now\n",
      "-ArcGIS Business Analyst Web and Mobile Apps\n",
      "Removing Entitlements for user hideaway_virginiatech...\n",
      "-Insights for ArcGIS\n",
      "-ArcGIS Pro\n",
      "-Drone2Map for ArcGIS\n",
      "-GeoPlanner for ArcGIS\n",
      "-AppStudio for ArcGIS\n",
      "-ArcGIS Community Analyst\n"
     ]
    },
    {
     "name": "stderr",
     "output_type": "stream",
     "text": [
      "not licensed by user\n"
     ]
    },
    {
     "name": "stdout",
     "output_type": "stream",
     "text": [
      "-Navigator for ArcGIS\n",
      "-Admin Tools for ArcGIS℠ Online\n",
      "I'm just not worrying about this right now\n",
      "-ArcGIS Business Analyst Web and Mobile Apps\n",
      "Removing Entitlements for user hjack36_virginiatech...\n",
      "-Insights for ArcGIS\n",
      "-ArcGIS Pro\n",
      "-Drone2Map for ArcGIS\n",
      "-GeoPlanner for ArcGIS\n",
      "-AppStudio for ArcGIS\n",
      "-ArcGIS Community Analyst\n",
      "-Navigator for ArcGIS\n"
     ]
    },
    {
     "name": "stderr",
     "output_type": "stream",
     "text": [
      "not licensed by user\n"
     ]
    },
    {
     "name": "stdout",
     "output_type": "stream",
     "text": [
      "-Admin Tools for ArcGIS℠ Online\n",
      "I'm just not worrying about this right now\n",
      "-ArcGIS Business Analyst Web and Mobile Apps\n",
      "Removing Entitlements for user hnick6_virginiatech...\n",
      "-Insights for ArcGIS\n",
      "-ArcGIS Pro\n",
      "-Drone2Map for ArcGIS\n",
      "-GeoPlanner for ArcGIS\n",
      "-AppStudio for ArcGIS\n",
      "-ArcGIS Community Analyst\n"
     ]
    },
    {
     "name": "stderr",
     "output_type": "stream",
     "text": [
      "not licensed by user\n"
     ]
    },
    {
     "name": "stdout",
     "output_type": "stream",
     "text": [
      "-Navigator for ArcGIS\n",
      "-Admin Tools for ArcGIS℠ Online\n",
      "I'm just not worrying about this right now\n",
      "-ArcGIS Business Analyst Web and Mobile Apps\n",
      "Removing Entitlements for user hntache_virginiatech...\n",
      "-Insights for ArcGIS\n",
      "-ArcGIS Pro\n",
      "-Drone2Map for ArcGIS\n",
      "-GeoPlanner for ArcGIS\n",
      "-AppStudio for ArcGIS\n",
      "-ArcGIS Community Analyst\n",
      "-Navigator for ArcGIS\n"
     ]
    },
    {
     "name": "stderr",
     "output_type": "stream",
     "text": [
      "not licensed by user\n"
     ]
    },
    {
     "name": "stdout",
     "output_type": "stream",
     "text": [
      "-Admin Tools for ArcGIS℠ Online\n",
      "I'm just not worrying about this right now\n",
      "-ArcGIS Business Analyst Web and Mobile Apps\n",
      "Removing Entitlements for user holdens_virginiatech...\n",
      "-Insights for ArcGIS\n",
      "-ArcGIS Pro\n",
      "-Drone2Map for ArcGIS\n",
      "-GeoPlanner for ArcGIS\n",
      "-AppStudio for ArcGIS\n",
      "-ArcGIS Community Analyst\n",
      "-Navigator for ArcGIS\n"
     ]
    },
    {
     "name": "stderr",
     "output_type": "stream",
     "text": [
      "not licensed by user\n"
     ]
    },
    {
     "name": "stdout",
     "output_type": "stream",
     "text": [
      "-Admin Tools for ArcGIS℠ Online\n",
      "I'm just not worrying about this right now\n",
      "-ArcGIS Business Analyst Web and Mobile Apps\n",
      "Removing Entitlements for user hrigg6_virginiatech...\n",
      "-Insights for ArcGIS\n",
      "-ArcGIS Pro\n",
      "-Drone2Map for ArcGIS\n",
      "-GeoPlanner for ArcGIS\n",
      "-AppStudio for ArcGIS\n",
      "-ArcGIS Community Analyst\n",
      "-Navigator for ArcGIS\n"
     ]
    },
    {
     "name": "stderr",
     "output_type": "stream",
     "text": [
      "not licensed by user\n"
     ]
    },
    {
     "name": "stdout",
     "output_type": "stream",
     "text": [
      "-Admin Tools for ArcGIS℠ Online\n",
      "I'm just not worrying about this right now\n",
      "-ArcGIS Business Analyst Web and Mobile Apps\n",
      "Removing Entitlements for user hyde5_virginiatech...\n",
      "-Insights for ArcGIS\n",
      "-ArcGIS Pro\n",
      "-Drone2Map for ArcGIS\n",
      "-GeoPlanner for ArcGIS\n",
      "-AppStudio for ArcGIS\n",
      "-ArcGIS Community Analyst\n"
     ]
    },
    {
     "name": "stderr",
     "output_type": "stream",
     "text": [
      "not licensed by user\n"
     ]
    },
    {
     "name": "stdout",
     "output_type": "stream",
     "text": [
      "-Navigator for ArcGIS\n",
      "-Admin Tools for ArcGIS℠ Online\n",
      "I'm just not worrying about this right now\n",
      "-ArcGIS Business Analyst Web and Mobile Apps\n",
      "Removing Entitlements for user irisfynn_virginiatech...\n",
      "-Insights for ArcGIS\n",
      "-ArcGIS Pro\n",
      "-Drone2Map for ArcGIS\n",
      "-GeoPlanner for ArcGIS\n",
      "-AppStudio for ArcGIS\n",
      "-ArcGIS Community Analyst\n",
      "-Navigator for ArcGIS\n"
     ]
    },
    {
     "name": "stderr",
     "output_type": "stream",
     "text": [
      "not licensed by user\n"
     ]
    },
    {
     "name": "stdout",
     "output_type": "stream",
     "text": [
      "-Admin Tools for ArcGIS℠ Online\n",
      "I'm just not worrying about this right now\n",
      "-ArcGIS Business Analyst Web and Mobile Apps\n",
      "Removing Entitlements for user isaiahb5_virginiatech...\n",
      "-Insights for ArcGIS\n",
      "-ArcGIS Pro\n",
      "-Drone2Map for ArcGIS\n",
      "-GeoPlanner for ArcGIS\n",
      "-AppStudio for ArcGIS\n",
      "-ArcGIS Community Analyst\n"
     ]
    },
    {
     "name": "stderr",
     "output_type": "stream",
     "text": [
      "not licensed by user\n"
     ]
    },
    {
     "name": "stdout",
     "output_type": "stream",
     "text": [
      "-Navigator for ArcGIS\n",
      "-Admin Tools for ArcGIS℠ Online\n",
      "I'm just not worrying about this right now\n",
      "-ArcGIS Business Analyst Web and Mobile Apps\n",
      "Removing Entitlements for user itv520_virginiatech...\n",
      "-Insights for ArcGIS\n",
      "-ArcGIS Pro\n",
      "-Drone2Map for ArcGIS\n",
      "-GeoPlanner for ArcGIS\n",
      "-AppStudio for ArcGIS\n",
      "-ArcGIS Community Analyst\n",
      "-Navigator for ArcGIS\n"
     ]
    },
    {
     "name": "stderr",
     "output_type": "stream",
     "text": [
      "not licensed by user\n"
     ]
    },
    {
     "name": "stdout",
     "output_type": "stream",
     "text": [
      "-Admin Tools for ArcGIS℠ Online\n",
      "I'm just not worrying about this right now\n",
      "-ArcGIS Business Analyst Web and Mobile Apps\n",
      "Removing Entitlements for user izzya6_virginiatech...\n",
      "-Insights for ArcGIS\n",
      "-ArcGIS Pro\n",
      "-Drone2Map for ArcGIS\n",
      "-GeoPlanner for ArcGIS\n",
      "-AppStudio for ArcGIS\n",
      "-ArcGIS Community Analyst\n"
     ]
    },
    {
     "name": "stderr",
     "output_type": "stream",
     "text": [
      "not licensed by user\n"
     ]
    },
    {
     "name": "stdout",
     "output_type": "stream",
     "text": [
      "-Navigator for ArcGIS\n",
      "-Admin Tools for ArcGIS℠ Online\n",
      "I'm just not worrying about this right now\n",
      "-ArcGIS Business Analyst Web and Mobile Apps\n",
      "Removing Entitlements for user jackf_virginiatech...\n",
      "-Insights for ArcGIS\n",
      "-ArcGIS Pro\n",
      "-Drone2Map for ArcGIS\n",
      "-GeoPlanner for ArcGIS\n",
      "-AppStudio for ArcGIS\n",
      "-ArcGIS Community Analyst\n",
      "-Navigator for ArcGIS\n",
      "-Admin Tools for ArcGIS℠ Online\n"
     ]
    },
    {
     "name": "stderr",
     "output_type": "stream",
     "text": [
      "not licensed by user\n"
     ]
    },
    {
     "name": "stdout",
     "output_type": "stream",
     "text": [
      "I'm just not worrying about this right now\n",
      "-ArcGIS Business Analyst Web and Mobile Apps\n",
      "Removing Entitlements for user jacobh1_virginiatech...\n",
      "-Insights for ArcGIS\n",
      "-ArcGIS Pro\n",
      "-Drone2Map for ArcGIS\n",
      "-GeoPlanner for ArcGIS\n",
      "-AppStudio for ArcGIS\n",
      "-ArcGIS Community Analyst\n"
     ]
    },
    {
     "name": "stderr",
     "output_type": "stream",
     "text": [
      "not licensed by user\n"
     ]
    },
    {
     "name": "stdout",
     "output_type": "stream",
     "text": [
      "-Navigator for ArcGIS\n",
      "-Admin Tools for ArcGIS℠ Online\n",
      "I'm just not worrying about this right now\n",
      "-ArcGIS Business Analyst Web and Mobile Apps\n",
      "Removing Entitlements for user jaims95_virginiatech...\n",
      "-Insights for ArcGIS\n",
      "-ArcGIS Pro\n",
      "-Drone2Map for ArcGIS\n",
      "-GeoPlanner for ArcGIS\n",
      "-AppStudio for ArcGIS\n",
      "-ArcGIS Community Analyst\n"
     ]
    },
    {
     "name": "stderr",
     "output_type": "stream",
     "text": [
      "not licensed by user\n"
     ]
    },
    {
     "name": "stdout",
     "output_type": "stream",
     "text": [
      "-Navigator for ArcGIS\n",
      "-Admin Tools for ArcGIS℠ Online\n",
      "I'm just not worrying about this right now\n",
      "-ArcGIS Business Analyst Web and Mobile Apps\n",
      "Removing Entitlements for user jamesl14_virginiatech...\n",
      "-Insights for ArcGIS\n",
      "-ArcGIS Pro\n",
      "-Drone2Map for ArcGIS\n",
      "-GeoPlanner for ArcGIS\n",
      "-AppStudio for ArcGIS\n",
      "-ArcGIS Community Analyst\n",
      "-Navigator for ArcGIS\n"
     ]
    },
    {
     "name": "stderr",
     "output_type": "stream",
     "text": [
      "not licensed by user\n"
     ]
    },
    {
     "name": "stdout",
     "output_type": "stream",
     "text": [
      "-Admin Tools for ArcGIS℠ Online\n",
      "I'm just not worrying about this right now\n",
      "-ArcGIS Business Analyst Web and Mobile Apps\n",
      "Removing Entitlements for user jamesonc_virginiatech...\n",
      "-Insights for ArcGIS\n",
      "-ArcGIS Pro\n",
      "-Drone2Map for ArcGIS\n",
      "-GeoPlanner for ArcGIS\n",
      "-AppStudio for ArcGIS\n",
      "-ArcGIS Community Analyst\n"
     ]
    },
    {
     "name": "stderr",
     "output_type": "stream",
     "text": [
      "not licensed by user\n"
     ]
    },
    {
     "name": "stdout",
     "output_type": "stream",
     "text": [
      "-Navigator for ArcGIS\n",
      "-Admin Tools for ArcGIS℠ Online\n",
      "I'm just not worrying about this right now\n",
      "-ArcGIS Business Analyst Web and Mobile Apps\n",
      "Removing Entitlements for user jb1013_virginiatech...\n",
      "-Insights for ArcGIS\n",
      "-ArcGIS Pro\n",
      "-Drone2Map for ArcGIS\n",
      "-GeoPlanner for ArcGIS\n",
      "-AppStudio for ArcGIS\n",
      "-ArcGIS Community Analyst\n"
     ]
    },
    {
     "name": "stderr",
     "output_type": "stream",
     "text": [
      "not licensed by user\n"
     ]
    },
    {
     "name": "stdout",
     "output_type": "stream",
     "text": [
      "-Navigator for ArcGIS\n",
      "-Admin Tools for ArcGIS℠ Online\n",
      "I'm just not worrying about this right now\n",
      "-ArcGIS Business Analyst Web and Mobile Apps\n",
      "Removing Entitlements for user jconnorh_virginiatech...\n",
      "-Insights for ArcGIS\n",
      "-ArcGIS Pro\n",
      "-Drone2Map for ArcGIS\n",
      "-GeoPlanner for ArcGIS\n",
      "-AppStudio for ArcGIS\n",
      "-ArcGIS Community Analyst\n",
      "-Navigator for ArcGIS\n"
     ]
    },
    {
     "name": "stderr",
     "output_type": "stream",
     "text": [
      "not licensed by user\n"
     ]
    },
    {
     "name": "stdout",
     "output_type": "stream",
     "text": [
      "-Admin Tools for ArcGIS℠ Online\n",
      "I'm just not worrying about this right now\n",
      "-ArcGIS Business Analyst Web and Mobile Apps\n",
      "Removing Entitlements for user jcy2123_virginiatech...\n",
      "-Insights for ArcGIS\n",
      "-ArcGIS Pro\n",
      "-Drone2Map for ArcGIS\n",
      "-GeoPlanner for ArcGIS\n",
      "-AppStudio for ArcGIS\n",
      "-ArcGIS Community Analyst\n",
      "-Navigator for ArcGIS\n"
     ]
    },
    {
     "name": "stderr",
     "output_type": "stream",
     "text": [
      "not licensed by user\n"
     ]
    },
    {
     "name": "stdout",
     "output_type": "stream",
     "text": [
      "-Admin Tools for ArcGIS℠ Online\n",
      "I'm just not worrying about this right now\n",
      "-ArcGIS Business Analyst Web and Mobile Apps\n",
      "Removing Entitlements for user jdavis23_virginiatech...\n",
      "-Insights for ArcGIS\n",
      "-ArcGIS Pro\n",
      "-Drone2Map for ArcGIS\n",
      "-GeoPlanner for ArcGIS\n",
      "-AppStudio for ArcGIS\n",
      "-ArcGIS Community Analyst\n"
     ]
    },
    {
     "name": "stderr",
     "output_type": "stream",
     "text": [
      "not licensed by user\n"
     ]
    },
    {
     "name": "stdout",
     "output_type": "stream",
     "text": [
      "-Navigator for ArcGIS\n",
      "-Admin Tools for ArcGIS℠ Online\n",
      "I'm just not worrying about this right now\n",
      "-ArcGIS Business Analyst Web and Mobile Apps\n",
      "Removing Entitlements for user jdh15_virginiatech...\n",
      "-Insights for ArcGIS\n",
      "-ArcGIS Pro\n",
      "-Drone2Map for ArcGIS\n",
      "-GeoPlanner for ArcGIS\n",
      "-AppStudio for ArcGIS\n",
      "-ArcGIS Community Analyst\n"
     ]
    },
    {
     "name": "stderr",
     "output_type": "stream",
     "text": [
      "not licensed by user\n"
     ]
    },
    {
     "name": "stdout",
     "output_type": "stream",
     "text": [
      "-Navigator for ArcGIS\n",
      "-Admin Tools for ArcGIS℠ Online\n",
      "I'm just not worrying about this right now\n",
      "-ArcGIS Business Analyst Web and Mobile Apps\n",
      "Removing Entitlements for user jfike_virginiatech...\n",
      "-Insights for ArcGIS\n",
      "-ArcGIS Pro\n",
      "-Drone2Map for ArcGIS\n",
      "-GeoPlanner for ArcGIS\n",
      "-AppStudio for ArcGIS\n",
      "-ArcGIS Community Analyst\n"
     ]
    },
    {
     "name": "stderr",
     "output_type": "stream",
     "text": [
      "not licensed by user\n"
     ]
    },
    {
     "name": "stdout",
     "output_type": "stream",
     "text": [
      "-Navigator for ArcGIS\n",
      "-Admin Tools for ArcGIS℠ Online\n",
      "I'm just not worrying about this right now\n",
      "-ArcGIS Business Analyst Web and Mobile Apps\n",
      "Removing Entitlements for user jlac13_virginiatech...\n",
      "-Insights for ArcGIS\n",
      "-ArcGIS Pro\n",
      "-Drone2Map for ArcGIS\n",
      "-GeoPlanner for ArcGIS\n",
      "-AppStudio for ArcGIS\n",
      "-ArcGIS Community Analyst\n",
      "-Navigator for ArcGIS\n"
     ]
    },
    {
     "name": "stderr",
     "output_type": "stream",
     "text": [
      "not licensed by user\n"
     ]
    },
    {
     "name": "stdout",
     "output_type": "stream",
     "text": [
      "-Admin Tools for ArcGIS℠ Online\n",
      "I'm just not worrying about this right now\n",
      "-ArcGIS Business Analyst Web and Mobile Apps\n",
      "Removing Entitlements for user jmcg_virginiatech...\n",
      "-Insights for ArcGIS\n",
      "-ArcGIS Pro\n",
      "-Drone2Map for ArcGIS\n",
      "-GeoPlanner for ArcGIS\n",
      "-AppStudio for ArcGIS\n",
      "-ArcGIS Community Analyst\n",
      "-Navigator for ArcGIS\n"
     ]
    },
    {
     "name": "stderr",
     "output_type": "stream",
     "text": [
      "not licensed by user\n"
     ]
    },
    {
     "name": "stdout",
     "output_type": "stream",
     "text": [
      "-Admin Tools for ArcGIS℠ Online\n",
      "I'm just not worrying about this right now\n",
      "-ArcGIS Business Analyst Web and Mobile Apps\n",
      "Removing Entitlements for user jmkane_virginiatech...\n",
      "-Insights for ArcGIS\n",
      "-ArcGIS Pro\n",
      "-Drone2Map for ArcGIS\n",
      "-GeoPlanner for ArcGIS\n",
      "-AppStudio for ArcGIS\n",
      "-ArcGIS Community Analyst\n",
      "-Navigator for ArcGIS\n"
     ]
    },
    {
     "name": "stderr",
     "output_type": "stream",
     "text": [
      "not licensed by user\n"
     ]
    },
    {
     "name": "stdout",
     "output_type": "stream",
     "text": [
      "-Admin Tools for ArcGIS℠ Online\n",
      "I'm just not worrying about this right now\n",
      "-ArcGIS Business Analyst Web and Mobile Apps\n",
      "Removing Entitlements for user jmmays13_virginiatech...\n",
      "-Insights for ArcGIS\n",
      "-ArcGIS Pro\n",
      "-Drone2Map for ArcGIS\n",
      "-GeoPlanner for ArcGIS\n",
      "-AppStudio for ArcGIS\n",
      "-ArcGIS Community Analyst\n",
      "-Navigator for ArcGIS\n"
     ]
    },
    {
     "name": "stderr",
     "output_type": "stream",
     "text": [
      "not licensed by user\n"
     ]
    },
    {
     "name": "stdout",
     "output_type": "stream",
     "text": [
      "-Admin Tools for ArcGIS℠ Online\n",
      "I'm just not worrying about this right now\n",
      "-ArcGIS Business Analyst Web and Mobile Apps\n",
      "Removing Entitlements for user jmr308_virginiatech...\n",
      "-Insights for ArcGIS\n",
      "-ArcGIS Pro\n",
      "-Drone2Map for ArcGIS\n",
      "-GeoPlanner for ArcGIS\n",
      "-AppStudio for ArcGIS\n",
      "-ArcGIS Community Analyst\n"
     ]
    },
    {
     "name": "stderr",
     "output_type": "stream",
     "text": [
      "not licensed by user\n"
     ]
    },
    {
     "name": "stdout",
     "output_type": "stream",
     "text": [
      "-Navigator for ArcGIS\n",
      "-Admin Tools for ArcGIS℠ Online\n",
      "I'm just not worrying about this right now\n",
      "-ArcGIS Business Analyst Web and Mobile Apps\n",
      "Removing Entitlements for user joeyc13_virginiatech...\n",
      "-Insights for ArcGIS\n",
      "-ArcGIS Pro\n",
      "-Drone2Map for ArcGIS\n",
      "-GeoPlanner for ArcGIS\n",
      "-AppStudio for ArcGIS\n",
      "-ArcGIS Community Analyst\n"
     ]
    },
    {
     "name": "stderr",
     "output_type": "stream",
     "text": [
      "not licensed by user\n"
     ]
    },
    {
     "name": "stdout",
     "output_type": "stream",
     "text": [
      "-Navigator for ArcGIS\n",
      "-Admin Tools for ArcGIS℠ Online\n",
      "I'm just not worrying about this right now\n",
      "-ArcGIS Business Analyst Web and Mobile Apps\n",
      "Removing Entitlements for user joshp13_virginiatech...\n",
      "-Insights for ArcGIS\n",
      "-ArcGIS Pro\n",
      "-Drone2Map for ArcGIS\n",
      "-GeoPlanner for ArcGIS\n",
      "-AppStudio for ArcGIS\n",
      "-ArcGIS Community Analyst\n"
     ]
    },
    {
     "name": "stderr",
     "output_type": "stream",
     "text": [
      "not licensed by user\n"
     ]
    },
    {
     "name": "stdout",
     "output_type": "stream",
     "text": [
      "-Navigator for ArcGIS\n",
      "-Admin Tools for ArcGIS℠ Online\n",
      "I'm just not worrying about this right now\n",
      "-ArcGIS Business Analyst Web and Mobile Apps\n",
      "Removing Entitlements for user josiahde_virginiatech...\n",
      "-Insights for ArcGIS\n",
      "-ArcGIS Pro\n",
      "-Drone2Map for ArcGIS\n",
      "-GeoPlanner for ArcGIS\n",
      "-AppStudio for ArcGIS\n",
      "-ArcGIS Community Analyst\n"
     ]
    },
    {
     "name": "stderr",
     "output_type": "stream",
     "text": [
      "not licensed by user\n"
     ]
    },
    {
     "name": "stdout",
     "output_type": "stream",
     "text": [
      "-Navigator for ArcGIS\n",
      "-Admin Tools for ArcGIS℠ Online\n",
      "I'm just not worrying about this right now\n",
      "-ArcGIS Business Analyst Web and Mobile Apps\n",
      "Removing Entitlements for user josies8_virginiatech...\n",
      "-Insights for ArcGIS\n",
      "-ArcGIS Pro\n",
      "-Drone2Map for ArcGIS\n",
      "-GeoPlanner for ArcGIS\n",
      "-AppStudio for ArcGIS\n",
      "-ArcGIS Community Analyst\n"
     ]
    },
    {
     "name": "stderr",
     "output_type": "stream",
     "text": [
      "not licensed by user\n"
     ]
    },
    {
     "name": "stdout",
     "output_type": "stream",
     "text": [
      "-Navigator for ArcGIS\n",
      "-Admin Tools for ArcGIS℠ Online\n",
      "I'm just not worrying about this right now\n",
      "-ArcGIS Business Analyst Web and Mobile Apps\n",
      "Removing Entitlements for user jpconk01_virginiatech...\n",
      "-Insights for ArcGIS\n",
      "-ArcGIS Pro\n",
      "-Drone2Map for ArcGIS\n",
      "-GeoPlanner for ArcGIS\n",
      "-AppStudio for ArcGIS\n",
      "-ArcGIS Community Analyst\n"
     ]
    },
    {
     "name": "stderr",
     "output_type": "stream",
     "text": [
      "not licensed by user\n"
     ]
    },
    {
     "name": "stdout",
     "output_type": "stream",
     "text": [
      "-Navigator for ArcGIS\n",
      "-Admin Tools for ArcGIS℠ Online\n",
      "I'm just not worrying about this right now\n",
      "-ArcGIS Business Analyst Web and Mobile Apps\n",
      "Removing Entitlements for user jrad33_virginiatech...\n",
      "-Insights for ArcGIS\n",
      "-ArcGIS Pro\n",
      "-Drone2Map for ArcGIS\n",
      "-GeoPlanner for ArcGIS\n",
      "-AppStudio for ArcGIS\n",
      "-ArcGIS Community Analyst\n",
      "-Navigator for ArcGIS\n",
      "-Admin Tools for ArcGIS℠ Online\n"
     ]
    },
    {
     "name": "stderr",
     "output_type": "stream",
     "text": [
      "not licensed by user\n"
     ]
    },
    {
     "name": "stdout",
     "output_type": "stream",
     "text": [
      "I'm just not worrying about this right now\n",
      "-ArcGIS Business Analyst Web and Mobile Apps\n",
      "Removing Entitlements for user jrcolby1_virginiatech...\n",
      "-Insights for ArcGIS\n",
      "-ArcGIS Pro\n",
      "-Drone2Map for ArcGIS\n",
      "-GeoPlanner for ArcGIS\n",
      "-AppStudio for ArcGIS\n",
      "-ArcGIS Community Analyst\n",
      "-Navigator for ArcGIS\n"
     ]
    },
    {
     "name": "stderr",
     "output_type": "stream",
     "text": [
      "not licensed by user\n"
     ]
    },
    {
     "name": "stdout",
     "output_type": "stream",
     "text": [
      "-Admin Tools for ArcGIS℠ Online\n",
      "I'm just not worrying about this right now\n",
      "-ArcGIS Business Analyst Web and Mobile Apps\n",
      "Removing Entitlements for user jsuarezm_virginiatech...\n",
      "-Insights for ArcGIS\n",
      "-ArcGIS Pro\n",
      "-Drone2Map for ArcGIS\n",
      "-GeoPlanner for ArcGIS\n",
      "-AppStudio for ArcGIS\n",
      "-ArcGIS Community Analyst\n",
      "-Navigator for ArcGIS\n"
     ]
    },
    {
     "name": "stderr",
     "output_type": "stream",
     "text": [
      "not licensed by user\n"
     ]
    },
    {
     "name": "stdout",
     "output_type": "stream",
     "text": [
      "-Admin Tools for ArcGIS℠ Online\n",
      "I'm just not worrying about this right now\n",
      "-ArcGIS Business Analyst Web and Mobile Apps\n",
      "Removing Entitlements for user jwirth95_virginiatech...\n",
      "-Insights for ArcGIS\n",
      "-ArcGIS Pro\n",
      "-Drone2Map for ArcGIS\n",
      "-GeoPlanner for ArcGIS\n",
      "-AppStudio for ArcGIS\n"
     ]
    },
    {
     "name": "stderr",
     "output_type": "stream",
     "text": [
      "not licensed by user\n"
     ]
    },
    {
     "name": "stdout",
     "output_type": "stream",
     "text": [
      "-ArcGIS Community Analyst\n",
      "-Navigator for ArcGIS\n",
      "-Admin Tools for ArcGIS℠ Online\n",
      "I'm just not worrying about this right now\n",
      "-ArcGIS Business Analyst Web and Mobile Apps\n",
      "Removing Entitlements for user jx88_virginiatech...\n",
      "-Insights for ArcGIS\n",
      "-ArcGIS Pro\n",
      "-Drone2Map for ArcGIS\n",
      "-GeoPlanner for ArcGIS\n",
      "-AppStudio for ArcGIS\n",
      "-ArcGIS Community Analyst\n",
      "-Navigator for ArcGIS\n",
      "-Admin Tools for ArcGIS℠ Online\n"
     ]
    },
    {
     "name": "stderr",
     "output_type": "stream",
     "text": [
      "not licensed by user\n"
     ]
    },
    {
     "name": "stdout",
     "output_type": "stream",
     "text": [
      "I'm just not worrying about this right now\n",
      "-ArcGIS Business Analyst Web and Mobile Apps\n",
      "Removing Entitlements for user kaball_virginiatech...\n",
      "-Insights for ArcGIS\n",
      "-ArcGIS Pro\n",
      "-Drone2Map for ArcGIS\n",
      "-GeoPlanner for ArcGIS\n",
      "-AppStudio for ArcGIS\n",
      "-ArcGIS Community Analyst\n"
     ]
    },
    {
     "name": "stderr",
     "output_type": "stream",
     "text": [
      "not licensed by user\n"
     ]
    },
    {
     "name": "stdout",
     "output_type": "stream",
     "text": [
      "-Navigator for ArcGIS\n",
      "-Admin Tools for ArcGIS℠ Online\n",
      "I'm just not worrying about this right now\n",
      "-ArcGIS Business Analyst Web and Mobile Apps\n",
      "Removing Entitlements for user kaito97_virginiatech...\n",
      "-Insights for ArcGIS\n",
      "-ArcGIS Pro\n",
      "-Drone2Map for ArcGIS\n",
      "-GeoPlanner for ArcGIS\n",
      "-AppStudio for ArcGIS\n",
      "-ArcGIS Community Analyst\n",
      "-Navigator for ArcGIS\n",
      "-Admin Tools for ArcGIS℠ Online\n"
     ]
    },
    {
     "name": "stderr",
     "output_type": "stream",
     "text": [
      "not licensed by user\n"
     ]
    },
    {
     "name": "stdout",
     "output_type": "stream",
     "text": [
      "I'm just not worrying about this right now\n",
      "-ArcGIS Business Analyst Web and Mobile Apps\n",
      "Removing Entitlements for user kandrew4_virginiatech...\n",
      "-Insights for ArcGIS\n",
      "-ArcGIS Pro\n",
      "-Drone2Map for ArcGIS\n",
      "-GeoPlanner for ArcGIS\n",
      "-AppStudio for ArcGIS\n",
      "-ArcGIS Community Analyst\n"
     ]
    },
    {
     "name": "stderr",
     "output_type": "stream",
     "text": [
      "not licensed by user\n"
     ]
    },
    {
     "name": "stdout",
     "output_type": "stream",
     "text": [
      "-Navigator for ArcGIS\n",
      "-Admin Tools for ArcGIS℠ Online\n",
      "I'm just not worrying about this right now\n",
      "-ArcGIS Business Analyst Web and Mobile Apps\n",
      "Removing Entitlements for user katerid7_virginiatech...\n",
      "-Insights for ArcGIS\n",
      "-ArcGIS Pro\n",
      "-Drone2Map for ArcGIS\n",
      "-GeoPlanner for ArcGIS\n",
      "-AppStudio for ArcGIS\n",
      "-ArcGIS Community Analyst\n",
      "-Navigator for ArcGIS\n"
     ]
    },
    {
     "name": "stderr",
     "output_type": "stream",
     "text": [
      "not licensed by user\n"
     ]
    },
    {
     "name": "stdout",
     "output_type": "stream",
     "text": [
      "-Admin Tools for ArcGIS℠ Online\n",
      "I'm just not worrying about this right now\n",
      "-ArcGIS Business Analyst Web and Mobile Apps\n",
      "Removing Entitlements for user kathyd92_virginiatech...\n",
      "-Insights for ArcGIS\n",
      "-ArcGIS Pro\n",
      "-Drone2Map for ArcGIS\n",
      "-GeoPlanner for ArcGIS\n",
      "-AppStudio for ArcGIS\n",
      "-ArcGIS Community Analyst\n"
     ]
    },
    {
     "name": "stderr",
     "output_type": "stream",
     "text": [
      "not licensed by user\n"
     ]
    },
    {
     "name": "stdout",
     "output_type": "stream",
     "text": [
      "-Navigator for ArcGIS\n",
      "-Admin Tools for ArcGIS℠ Online\n",
      "I'm just not worrying about this right now\n",
      "-ArcGIS Business Analyst Web and Mobile Apps\n",
      "Removing Entitlements for user kbrianna_virginiatech...\n",
      "-Insights for ArcGIS\n",
      "-ArcGIS Pro\n",
      "-Drone2Map for ArcGIS\n",
      "-GeoPlanner for ArcGIS\n",
      "-AppStudio for ArcGIS\n",
      "-ArcGIS Community Analyst\n"
     ]
    },
    {
     "name": "stderr",
     "output_type": "stream",
     "text": [
      "not licensed by user\n"
     ]
    },
    {
     "name": "stdout",
     "output_type": "stream",
     "text": [
      "-Navigator for ArcGIS\n",
      "-Admin Tools for ArcGIS℠ Online\n",
      "I'm just not worrying about this right now\n",
      "-ArcGIS Business Analyst Web and Mobile Apps\n",
      "Removing Entitlements for user kcrisp_virginiatech...\n",
      "-Insights for ArcGIS\n",
      "-ArcGIS Pro\n",
      "-Drone2Map for ArcGIS\n",
      "-GeoPlanner for ArcGIS\n",
      "-AppStudio for ArcGIS\n",
      "-ArcGIS Community Analyst\n"
     ]
    },
    {
     "name": "stderr",
     "output_type": "stream",
     "text": [
      "not licensed by user\n"
     ]
    },
    {
     "name": "stdout",
     "output_type": "stream",
     "text": [
      "-Navigator for ArcGIS\n",
      "-Admin Tools for ArcGIS℠ Online\n",
      "I'm just not worrying about this right now\n",
      "-ArcGIS Business Analyst Web and Mobile Apps\n",
      "Removing Entitlements for user kdyer15_virginiatech...\n",
      "-Insights for ArcGIS\n",
      "-ArcGIS Pro\n",
      "-Drone2Map for ArcGIS\n",
      "-GeoPlanner for ArcGIS\n",
      "-AppStudio for ArcGIS\n",
      "-ArcGIS Community Analyst\n",
      "-Navigator for ArcGIS\n"
     ]
    },
    {
     "name": "stderr",
     "output_type": "stream",
     "text": [
      "not licensed by user\n"
     ]
    },
    {
     "name": "stdout",
     "output_type": "stream",
     "text": [
      "-Admin Tools for ArcGIS℠ Online\n",
      "I'm just not worrying about this right now\n",
      "-ArcGIS Business Analyst Web and Mobile Apps\n",
      "Removing Entitlements for user kellerr_virginiatech...\n",
      "-Insights for ArcGIS\n",
      "-ArcGIS Pro\n",
      "-Drone2Map for ArcGIS\n",
      "-GeoPlanner for ArcGIS\n",
      "-AppStudio for ArcGIS\n",
      "-ArcGIS Community Analyst\n"
     ]
    },
    {
     "name": "stderr",
     "output_type": "stream",
     "text": [
      "not licensed by user\n"
     ]
    },
    {
     "name": "stdout",
     "output_type": "stream",
     "text": [
      "-Navigator for ArcGIS\n",
      "-Admin Tools for ArcGIS℠ Online\n",
      "I'm just not worrying about this right now\n",
      "-ArcGIS Business Analyst Web and Mobile Apps\n",
      "Removing Entitlements for user kelseyt5_virginiatech...\n",
      "-Insights for ArcGIS\n",
      "-ArcGIS Pro\n",
      "-Drone2Map for ArcGIS\n",
      "-GeoPlanner for ArcGIS\n",
      "-AppStudio for ArcGIS\n",
      "-ArcGIS Community Analyst\n",
      "-Navigator for ArcGIS\n"
     ]
    },
    {
     "name": "stderr",
     "output_type": "stream",
     "text": [
      "not licensed by user\n"
     ]
    },
    {
     "name": "stdout",
     "output_type": "stream",
     "text": [
      "-Admin Tools for ArcGIS℠ Online\n",
      "I'm just not worrying about this right now\n",
      "-ArcGIS Business Analyst Web and Mobile Apps\n",
      "Removing Entitlements for user kevindw_virginiatech...\n",
      "-Insights for ArcGIS\n",
      "-ArcGIS Pro\n",
      "-Drone2Map for ArcGIS\n",
      "-GeoPlanner for ArcGIS\n",
      "-AppStudio for ArcGIS\n",
      "-ArcGIS Community Analyst\n"
     ]
    },
    {
     "name": "stderr",
     "output_type": "stream",
     "text": [
      "not licensed by user\n"
     ]
    },
    {
     "name": "stdout",
     "output_type": "stream",
     "text": [
      "-Navigator for ArcGIS\n",
      "-Admin Tools for ArcGIS℠ Online\n",
      "I'm just not worrying about this right now\n",
      "-ArcGIS Business Analyst Web and Mobile Apps\n",
      "Removing Entitlements for user kevinv07_virginiatech...\n",
      "-Insights for ArcGIS\n",
      "-ArcGIS Pro\n",
      "-Drone2Map for ArcGIS\n",
      "-GeoPlanner for ArcGIS\n",
      "-AppStudio for ArcGIS\n",
      "-ArcGIS Community Analyst\n"
     ]
    },
    {
     "name": "stderr",
     "output_type": "stream",
     "text": [
      "not licensed by user\n"
     ]
    },
    {
     "name": "stdout",
     "output_type": "stream",
     "text": [
      "-Navigator for ArcGIS\n",
      "-Admin Tools for ArcGIS℠ Online\n",
      "I'm just not worrying about this right now\n",
      "-ArcGIS Business Analyst Web and Mobile Apps\n",
      "Removing Entitlements for user kstrm_virginiatech...\n",
      "-Insights for ArcGIS\n",
      "-ArcGIS Pro\n",
      "-Drone2Map for ArcGIS\n",
      "-GeoPlanner for ArcGIS\n",
      "-AppStudio for ArcGIS\n",
      "-ArcGIS Community Analyst\n",
      "-Navigator for ArcGIS\n"
     ]
    },
    {
     "name": "stderr",
     "output_type": "stream",
     "text": [
      "not licensed by user\n"
     ]
    },
    {
     "name": "stdout",
     "output_type": "stream",
     "text": [
      "-Admin Tools for ArcGIS℠ Online\n",
      "I'm just not worrying about this right now\n",
      "-ArcGIS Business Analyst Web and Mobile Apps\n",
      "Removing Entitlements for user kvaiknor_virginiatech...\n",
      "-Insights for ArcGIS\n",
      "-ArcGIS Pro\n",
      "-Drone2Map for ArcGIS\n",
      "-GeoPlanner for ArcGIS\n",
      "-AppStudio for ArcGIS\n",
      "-ArcGIS Community Analyst\n",
      "-Navigator for ArcGIS\n",
      "-Admin Tools for ArcGIS℠ Online\n"
     ]
    },
    {
     "name": "stderr",
     "output_type": "stream",
     "text": [
      "not licensed by user\n"
     ]
    },
    {
     "name": "stdout",
     "output_type": "stream",
     "text": [
      "I'm just not worrying about this right now\n",
      "-ArcGIS Business Analyst Web and Mobile Apps\n",
      "Removing Entitlements for user lindsm2_virginiatech...\n",
      "-Insights for ArcGIS\n",
      "-ArcGIS Pro\n",
      "-Drone2Map for ArcGIS\n",
      "-GeoPlanner for ArcGIS\n",
      "-AppStudio for ArcGIS\n",
      "-ArcGIS Community Analyst\n",
      "-Navigator for ArcGIS\n",
      "-Admin Tools for ArcGIS℠ Online\n"
     ]
    },
    {
     "name": "stderr",
     "output_type": "stream",
     "text": [
      "not licensed by user\n"
     ]
    },
    {
     "name": "stdout",
     "output_type": "stream",
     "text": [
      "I'm just not worrying about this right now\n",
      "-ArcGIS Business Analyst Web and Mobile Apps\n",
      "Removing Entitlements for user lli91_virginiatech...\n",
      "-Insights for ArcGIS\n",
      "-ArcGIS Pro\n",
      "-Drone2Map for ArcGIS\n",
      "-GeoPlanner for ArcGIS\n",
      "-AppStudio for ArcGIS\n",
      "-ArcGIS Community Analyst\n"
     ]
    },
    {
     "name": "stderr",
     "output_type": "stream",
     "text": [
      "not licensed by user\n"
     ]
    },
    {
     "name": "stdout",
     "output_type": "stream",
     "text": [
      "-Navigator for ArcGIS\n",
      "-Admin Tools for ArcGIS℠ Online\n",
      "I'm just not worrying about this right now\n",
      "-ArcGIS Business Analyst Web and Mobile Apps\n",
      "Removing Entitlements for user lnadia27_virginiatech...\n",
      "-Insights for ArcGIS\n",
      "-ArcGIS Pro\n",
      "-Drone2Map for ArcGIS\n",
      "-GeoPlanner for ArcGIS\n",
      "-AppStudio for ArcGIS\n",
      "-ArcGIS Community Analyst\n",
      "-Navigator for ArcGIS\n"
     ]
    },
    {
     "name": "stderr",
     "output_type": "stream",
     "text": [
      "not licensed by user\n"
     ]
    },
    {
     "name": "stdout",
     "output_type": "stream",
     "text": [
      "-Admin Tools for ArcGIS℠ Online\n",
      "I'm just not worrying about this right now\n",
      "-ArcGIS Business Analyst Web and Mobile Apps\n",
      "Removing Entitlements for user lrobe95_virginiatech...\n",
      "-Insights for ArcGIS\n",
      "-ArcGIS Pro\n",
      "-Drone2Map for ArcGIS\n",
      "-GeoPlanner for ArcGIS\n",
      "-AppStudio for ArcGIS\n",
      "-ArcGIS Community Analyst\n",
      "-Navigator for ArcGIS\n"
     ]
    },
    {
     "name": "stderr",
     "output_type": "stream",
     "text": [
      "not licensed by user\n"
     ]
    },
    {
     "name": "stdout",
     "output_type": "stream",
     "text": [
      "-Admin Tools for ArcGIS℠ Online\n",
      "I'm just not worrying about this right now\n",
      "-ArcGIS Business Analyst Web and Mobile Apps\n",
      "Removing Entitlements for user lukec_virginiatech...\n",
      "-Insights for ArcGIS\n",
      "-ArcGIS Pro\n",
      "-Drone2Map for ArcGIS\n",
      "-GeoPlanner for ArcGIS\n",
      "-AppStudio for ArcGIS\n",
      "-ArcGIS Community Analyst\n",
      "-Navigator for ArcGIS\n",
      "-Admin Tools for ArcGIS℠ Online\n"
     ]
    },
    {
     "name": "stderr",
     "output_type": "stream",
     "text": [
      "not licensed by user\n"
     ]
    },
    {
     "name": "stdout",
     "output_type": "stream",
     "text": [
      "I'm just not worrying about this right now\n",
      "-ArcGIS Business Analyst Web and Mobile Apps\n",
      "Removing Entitlements for user lvaughn_virginiatech...\n",
      "-Insights for ArcGIS\n",
      "-ArcGIS Pro\n",
      "-Drone2Map for ArcGIS\n",
      "-GeoPlanner for ArcGIS\n",
      "-AppStudio for ArcGIS\n",
      "-ArcGIS Community Analyst\n",
      "-Navigator for ArcGIS\n"
     ]
    },
    {
     "name": "stderr",
     "output_type": "stream",
     "text": [
      "not licensed by user\n"
     ]
    },
    {
     "name": "stdout",
     "output_type": "stream",
     "text": [
      "-Admin Tools for ArcGIS℠ Online\n",
      "I'm just not worrying about this right now\n",
      "-ArcGIS Business Analyst Web and Mobile Apps\n",
      "Removing Entitlements for user mablythe_virginiatech...\n",
      "-Insights for ArcGIS\n",
      "-ArcGIS Pro\n",
      "-Drone2Map for ArcGIS\n",
      "-GeoPlanner for ArcGIS\n",
      "-AppStudio for ArcGIS\n",
      "-ArcGIS Community Analyst\n",
      "-Navigator for ArcGIS\n"
     ]
    },
    {
     "name": "stderr",
     "output_type": "stream",
     "text": [
      "not licensed by user\n"
     ]
    },
    {
     "name": "stdout",
     "output_type": "stream",
     "text": [
      "-Admin Tools for ArcGIS℠ Online\n",
      "I'm just not worrying about this right now\n",
      "-ArcGIS Business Analyst Web and Mobile Apps\n",
      "Removing Entitlements for user madis92_virginiatech...\n",
      "-Insights for ArcGIS\n",
      "-ArcGIS Pro\n",
      "-Drone2Map for ArcGIS\n",
      "-GeoPlanner for ArcGIS\n",
      "-AppStudio for ArcGIS\n",
      "-ArcGIS Community Analyst\n",
      "-Navigator for ArcGIS\n"
     ]
    },
    {
     "name": "stderr",
     "output_type": "stream",
     "text": [
      "not licensed by user\n"
     ]
    },
    {
     "name": "stdout",
     "output_type": "stream",
     "text": [
      "-Admin Tools for ArcGIS℠ Online\n",
      "I'm just not worrying about this right now\n",
      "-ArcGIS Business Analyst Web and Mobile Apps\n",
      "Removing Entitlements for user mandevil_virginiatech...\n",
      "-Insights for ArcGIS\n",
      "-ArcGIS Pro\n",
      "-Drone2Map for ArcGIS\n",
      "-GeoPlanner for ArcGIS\n",
      "-AppStudio for ArcGIS\n",
      "-ArcGIS Community Analyst\n",
      "-Navigator for ArcGIS\n"
     ]
    },
    {
     "name": "stderr",
     "output_type": "stream",
     "text": [
      "not licensed by user\n"
     ]
    },
    {
     "name": "stdout",
     "output_type": "stream",
     "text": [
      "-Admin Tools for ArcGIS℠ Online\n",
      "I'm just not worrying about this right now\n",
      "-ArcGIS Business Analyst Web and Mobile Apps\n",
      "Removing Entitlements for user marek9_virginiatech...\n",
      "-Insights for ArcGIS\n",
      "-ArcGIS Pro\n",
      "-Drone2Map for ArcGIS\n",
      "-GeoPlanner for ArcGIS\n",
      "-AppStudio for ArcGIS\n",
      "-ArcGIS Community Analyst\n",
      "-Navigator for ArcGIS\n"
     ]
    },
    {
     "name": "stderr",
     "output_type": "stream",
     "text": [
      "not licensed by user\n"
     ]
    },
    {
     "name": "stdout",
     "output_type": "stream",
     "text": [
      "-Admin Tools for ArcGIS℠ Online\n",
      "I'm just not worrying about this right now\n",
      "-ArcGIS Business Analyst Web and Mobile Apps\n",
      "Removing Entitlements for user marissa3_virginiatech...\n",
      "-Insights for ArcGIS\n",
      "-ArcGIS Pro\n",
      "-Drone2Map for ArcGIS\n",
      "-GeoPlanner for ArcGIS\n",
      "-AppStudio for ArcGIS\n",
      "-ArcGIS Community Analyst\n",
      "-Navigator for ArcGIS\n"
     ]
    },
    {
     "name": "stderr",
     "output_type": "stream",
     "text": [
      "not licensed by user\n"
     ]
    },
    {
     "name": "stdout",
     "output_type": "stream",
     "text": [
      "-Admin Tools for ArcGIS℠ Online\n",
      "I'm just not worrying about this right now\n",
      "-ArcGIS Business Analyst Web and Mobile Apps\n",
      "Removing Entitlements for user mashley3_virginiatech...\n",
      "-Insights for ArcGIS\n",
      "-ArcGIS Pro\n",
      "-Drone2Map for ArcGIS\n",
      "-GeoPlanner for ArcGIS\n",
      "-AppStudio for ArcGIS\n",
      "-ArcGIS Community Analyst\n"
     ]
    },
    {
     "name": "stderr",
     "output_type": "stream",
     "text": [
      "not licensed by user\n"
     ]
    },
    {
     "name": "stdout",
     "output_type": "stream",
     "text": [
      "-Navigator for ArcGIS\n",
      "-Admin Tools for ArcGIS℠ Online\n",
      "I'm just not worrying about this right now\n",
      "-ArcGIS Business Analyst Web and Mobile Apps\n",
      "Removing Entitlements for user matth15_virginiatech...\n",
      "-Insights for ArcGIS\n",
      "-ArcGIS Pro\n",
      "-Drone2Map for ArcGIS\n",
      "-GeoPlanner for ArcGIS\n",
      "-AppStudio for ArcGIS\n",
      "-ArcGIS Community Analyst\n",
      "-Navigator for ArcGIS\n",
      "-Admin Tools for ArcGIS℠ Online\n"
     ]
    },
    {
     "name": "stderr",
     "output_type": "stream",
     "text": [
      "not licensed by user\n"
     ]
    },
    {
     "name": "stdout",
     "output_type": "stream",
     "text": [
      "I'm just not worrying about this right now\n",
      "-ArcGIS Business Analyst Web and Mobile Apps\n",
      "Removing Entitlements for user mattsb1_virginiatech...\n",
      "-Insights for ArcGIS\n",
      "-ArcGIS Pro\n",
      "-Drone2Map for ArcGIS\n",
      "-GeoPlanner for ArcGIS\n",
      "-AppStudio for ArcGIS\n",
      "-ArcGIS Community Analyst\n"
     ]
    },
    {
     "name": "stderr",
     "output_type": "stream",
     "text": [
      "not licensed by user\n"
     ]
    },
    {
     "name": "stdout",
     "output_type": "stream",
     "text": [
      "-Navigator for ArcGIS\n",
      "-Admin Tools for ArcGIS℠ Online\n",
      "I'm just not worrying about this right now\n",
      "-ArcGIS Business Analyst Web and Mobile Apps\n",
      "Removing Entitlements for user maxri_virginiatech...\n",
      "-Insights for ArcGIS\n",
      "-ArcGIS Pro\n",
      "-Drone2Map for ArcGIS\n",
      "-GeoPlanner for ArcGIS\n",
      "-AppStudio for ArcGIS\n",
      "-ArcGIS Community Analyst\n",
      "-Navigator for ArcGIS\n"
     ]
    },
    {
     "name": "stderr",
     "output_type": "stream",
     "text": [
      "not licensed by user\n"
     ]
    },
    {
     "name": "stdout",
     "output_type": "stream",
     "text": [
      "-Admin Tools for ArcGIS℠ Online\n",
      "I'm just not worrying about this right now\n",
      "-ArcGIS Business Analyst Web and Mobile Apps\n",
      "Removing Entitlements for user mczwirb_virginiatech...\n",
      "-Insights for ArcGIS\n",
      "-ArcGIS Pro\n",
      "-Drone2Map for ArcGIS\n",
      "-GeoPlanner for ArcGIS\n",
      "-AppStudio for ArcGIS\n",
      "-ArcGIS Community Analyst\n",
      "-Navigator for ArcGIS\n"
     ]
    },
    {
     "name": "stderr",
     "output_type": "stream",
     "text": [
      "not licensed by user\n"
     ]
    },
    {
     "name": "stdout",
     "output_type": "stream",
     "text": [
      "-Admin Tools for ArcGIS℠ Online\n",
      "I'm just not worrying about this right now\n",
      "-ArcGIS Business Analyst Web and Mobile Apps\n",
      "Removing Entitlements for user meghanc4_virginiatech...\n",
      "-Insights for ArcGIS\n",
      "-ArcGIS Pro\n",
      "-Drone2Map for ArcGIS\n",
      "-GeoPlanner for ArcGIS\n",
      "-AppStudio for ArcGIS\n",
      "-ArcGIS Community Analyst\n",
      "-Navigator for ArcGIS\n",
      "-Admin Tools for ArcGIS℠ Online\n"
     ]
    },
    {
     "name": "stderr",
     "output_type": "stream",
     "text": [
      "not licensed by user\n"
     ]
    },
    {
     "name": "stdout",
     "output_type": "stream",
     "text": [
      "I'm just not worrying about this right now\n",
      "-ArcGIS Business Analyst Web and Mobile Apps\n",
      "Removing Entitlements for user mehekl_virginiatech...\n",
      "-Insights for ArcGIS\n",
      "-ArcGIS Pro\n",
      "-Drone2Map for ArcGIS\n",
      "-GeoPlanner for ArcGIS\n",
      "-AppStudio for ArcGIS\n",
      "-ArcGIS Community Analyst\n"
     ]
    },
    {
     "name": "stderr",
     "output_type": "stream",
     "text": [
      "not licensed by user\n"
     ]
    },
    {
     "name": "stdout",
     "output_type": "stream",
     "text": [
      "-Navigator for ArcGIS\n",
      "-Admin Tools for ArcGIS℠ Online\n",
      "I'm just not worrying about this right now\n",
      "-ArcGIS Business Analyst Web and Mobile Apps\n",
      "Removing Entitlements for user merak91_virginiatech...\n",
      "-Insights for ArcGIS\n",
      "-ArcGIS Pro\n",
      "-Drone2Map for ArcGIS\n",
      "-GeoPlanner for ArcGIS\n",
      "-AppStudio for ArcGIS\n",
      "-ArcGIS Community Analyst\n"
     ]
    },
    {
     "name": "stderr",
     "output_type": "stream",
     "text": [
      "not licensed by user\n"
     ]
    },
    {
     "name": "stdout",
     "output_type": "stream",
     "text": [
      "-Navigator for ArcGIS\n",
      "-Admin Tools for ArcGIS℠ Online\n",
      "I'm just not worrying about this right now\n",
      "-ArcGIS Business Analyst Web and Mobile Apps\n",
      "Removing Entitlements for user mevn1_virginiatech...\n",
      "-Insights for ArcGIS\n",
      "-ArcGIS Pro\n",
      "-Drone2Map for ArcGIS\n",
      "-GeoPlanner for ArcGIS\n",
      "-AppStudio for ArcGIS\n",
      "-ArcGIS Community Analyst\n"
     ]
    },
    {
     "name": "stderr",
     "output_type": "stream",
     "text": [
      "not licensed by user\n"
     ]
    },
    {
     "name": "stdout",
     "output_type": "stream",
     "text": [
      "-Navigator for ArcGIS\n",
      "-Admin Tools for ArcGIS℠ Online\n",
      "I'm just not worrying about this right now\n",
      "-ArcGIS Business Analyst Web and Mobile Apps\n",
      "Removing Entitlements for user mfa1986_virginiatech...\n",
      "-Insights for ArcGIS\n",
      "-ArcGIS Pro\n",
      "-Drone2Map for ArcGIS\n",
      "-GeoPlanner for ArcGIS\n",
      "-AppStudio for ArcGIS\n",
      "-ArcGIS Community Analyst\n"
     ]
    },
    {
     "name": "stderr",
     "output_type": "stream",
     "text": [
      "not licensed by user\n"
     ]
    },
    {
     "name": "stdout",
     "output_type": "stream",
     "text": [
      "-Navigator for ArcGIS\n",
      "-Admin Tools for ArcGIS℠ Online\n",
      "I'm just not worrying about this right now\n",
      "-ArcGIS Business Analyst Web and Mobile Apps\n",
      "Removing Entitlements for user mghatf2_virginiatech...\n",
      "-Insights for ArcGIS\n",
      "-ArcGIS Pro\n",
      "-Drone2Map for ArcGIS\n",
      "-GeoPlanner for ArcGIS\n",
      "-AppStudio for ArcGIS\n",
      "-ArcGIS Community Analyst\n"
     ]
    },
    {
     "name": "stderr",
     "output_type": "stream",
     "text": [
      "not licensed by user\n"
     ]
    },
    {
     "name": "stdout",
     "output_type": "stream",
     "text": [
      "-Navigator for ArcGIS\n",
      "-Admin Tools for ArcGIS℠ Online\n",
      "I'm just not worrying about this right now\n",
      "-ArcGIS Business Analyst Web and Mobile Apps\n",
      "Removing Entitlements for user mims_virginiatech...\n",
      "-Insights for ArcGIS\n",
      "-ArcGIS Pro\n",
      "-Drone2Map for ArcGIS\n",
      "-GeoPlanner for ArcGIS\n",
      "-AppStudio for ArcGIS\n",
      "-ArcGIS Community Analyst\n"
     ]
    },
    {
     "name": "stderr",
     "output_type": "stream",
     "text": [
      "not licensed by user\n"
     ]
    },
    {
     "name": "stdout",
     "output_type": "stream",
     "text": [
      "-Navigator for ArcGIS\n",
      "-Admin Tools for ArcGIS℠ Online\n",
      "I'm just not worrying about this right now\n",
      "-ArcGIS Business Analyst Web and Mobile Apps\n",
      "Removing Entitlements for user miraja8_virginiatech...\n",
      "-Insights for ArcGIS\n",
      "-ArcGIS Pro\n",
      "-Drone2Map for ArcGIS\n",
      "-GeoPlanner for ArcGIS\n",
      "-AppStudio for ArcGIS\n",
      "-ArcGIS Community Analyst\n"
     ]
    },
    {
     "name": "stderr",
     "output_type": "stream",
     "text": [
      "not licensed by user\n"
     ]
    },
    {
     "name": "stdout",
     "output_type": "stream",
     "text": [
      "-Navigator for ArcGIS\n",
      "-Admin Tools for ArcGIS℠ Online\n",
      "I'm just not worrying about this right now\n",
      "-ArcGIS Business Analyst Web and Mobile Apps\n",
      "Removing Entitlements for user mismaris_virginiatech...\n",
      "-Insights for ArcGIS\n",
      "-ArcGIS Pro\n",
      "-Drone2Map for ArcGIS\n",
      "-GeoPlanner for ArcGIS\n",
      "-AppStudio for ArcGIS\n",
      "-ArcGIS Community Analyst\n",
      "-Navigator for ArcGIS\n"
     ]
    },
    {
     "name": "stderr",
     "output_type": "stream",
     "text": [
      "not licensed by user\n"
     ]
    },
    {
     "name": "stdout",
     "output_type": "stream",
     "text": [
      "-Admin Tools for ArcGIS℠ Online\n",
      "I'm just not worrying about this right now\n",
      "-ArcGIS Business Analyst Web and Mobile Apps\n",
      "Removing Entitlements for user mohyde_virginiatech...\n",
      "-Insights for ArcGIS\n",
      "-ArcGIS Pro\n",
      "-Drone2Map for ArcGIS\n",
      "-GeoPlanner for ArcGIS\n",
      "-AppStudio for ArcGIS\n",
      "-ArcGIS Community Analyst\n"
     ]
    },
    {
     "name": "stderr",
     "output_type": "stream",
     "text": [
      "not licensed by user\n"
     ]
    },
    {
     "name": "stdout",
     "output_type": "stream",
     "text": [
      "-Navigator for ArcGIS\n",
      "-Admin Tools for ArcGIS℠ Online\n",
      "I'm just not worrying about this right now\n",
      "-ArcGIS Business Analyst Web and Mobile Apps\n",
      "Removing Entitlements for user mollyat_virginiatech...\n",
      "-Insights for ArcGIS\n",
      "-ArcGIS Pro\n",
      "-Drone2Map for ArcGIS\n",
      "-GeoPlanner for ArcGIS\n",
      "-AppStudio for ArcGIS\n",
      "-ArcGIS Community Analyst\n",
      "-Navigator for ArcGIS\n"
     ]
    },
    {
     "name": "stderr",
     "output_type": "stream",
     "text": [
      "not licensed by user\n"
     ]
    },
    {
     "name": "stdout",
     "output_type": "stream",
     "text": [
      "-Admin Tools for ArcGIS℠ Online\n",
      "I'm just not worrying about this right now\n",
      "-ArcGIS Business Analyst Web and Mobile Apps\n",
      "Removing Entitlements for user mremmey7_virginiatech...\n",
      "-Insights for ArcGIS\n",
      "-ArcGIS Pro\n",
      "-Drone2Map for ArcGIS\n",
      "-GeoPlanner for ArcGIS\n",
      "-AppStudio for ArcGIS\n",
      "-ArcGIS Community Analyst\n"
     ]
    },
    {
     "name": "stderr",
     "output_type": "stream",
     "text": [
      "not licensed by user\n"
     ]
    },
    {
     "name": "stdout",
     "output_type": "stream",
     "text": [
      "-Navigator for ArcGIS\n",
      "-Admin Tools for ArcGIS℠ Online\n",
      "I'm just not worrying about this right now\n",
      "-ArcGIS Business Analyst Web and Mobile Apps\n",
      "Removing Entitlements for user mroope_virginiatech...\n",
      "-Insights for ArcGIS\n",
      "-ArcGIS Pro\n",
      "-Drone2Map for ArcGIS\n",
      "-GeoPlanner for ArcGIS\n",
      "-AppStudio for ArcGIS\n",
      "-ArcGIS Community Analyst\n"
     ]
    },
    {
     "name": "stderr",
     "output_type": "stream",
     "text": [
      "not licensed by user\n"
     ]
    },
    {
     "name": "stdout",
     "output_type": "stream",
     "text": [
      "-Navigator for ArcGIS\n",
      "-Admin Tools for ArcGIS℠ Online\n",
      "I'm just not worrying about this right now\n",
      "-ArcGIS Business Analyst Web and Mobile Apps\n",
      "Removing Entitlements for user murphy15_virginiatech...\n",
      "-Insights for ArcGIS\n",
      "-ArcGIS Pro\n",
      "-Drone2Map for ArcGIS\n",
      "-GeoPlanner for ArcGIS\n",
      "-AppStudio for ArcGIS\n",
      "-ArcGIS Community Analyst\n"
     ]
    },
    {
     "name": "stderr",
     "output_type": "stream",
     "text": [
      "not licensed by user\n"
     ]
    },
    {
     "name": "stdout",
     "output_type": "stream",
     "text": [
      "-Navigator for ArcGIS\n",
      "-Admin Tools for ArcGIS℠ Online\n",
      "I'm just not worrying about this right now\n",
      "-ArcGIS Business Analyst Web and Mobile Apps\n",
      "Removing Entitlements for user mwgraham_virginiatech...\n",
      "-Insights for ArcGIS\n",
      "-ArcGIS Pro\n",
      "-Drone2Map for ArcGIS\n",
      "-GeoPlanner for ArcGIS\n",
      "-AppStudio for ArcGIS\n",
      "-ArcGIS Community Analyst\n"
     ]
    },
    {
     "name": "stderr",
     "output_type": "stream",
     "text": [
      "not licensed by user\n"
     ]
    },
    {
     "name": "stdout",
     "output_type": "stream",
     "text": [
      "-Navigator for ArcGIS\n",
      "-Admin Tools for ArcGIS℠ Online\n",
      "I'm just not worrying about this right now\n",
      "-ArcGIS Business Analyst Web and Mobile Apps\n",
      "Removing Entitlements for user nacleme_virginiatech...\n",
      "-Insights for ArcGIS\n",
      "-ArcGIS Pro\n",
      "-Drone2Map for ArcGIS\n",
      "-GeoPlanner for ArcGIS\n",
      "-AppStudio for ArcGIS\n",
      "-ArcGIS Community Analyst\n",
      "-Navigator for ArcGIS\n",
      "-Admin Tools for ArcGIS℠ Online\n"
     ]
    },
    {
     "name": "stderr",
     "output_type": "stream",
     "text": [
      "not licensed by user\n"
     ]
    },
    {
     "name": "stdout",
     "output_type": "stream",
     "text": [
      "I'm just not worrying about this right now\n",
      "-ArcGIS Business Analyst Web and Mobile Apps\n",
      "Removing Entitlements for user nancyb7_virginiatech...\n",
      "-Insights for ArcGIS\n",
      "-ArcGIS Pro\n",
      "-Drone2Map for ArcGIS\n",
      "-GeoPlanner for ArcGIS\n",
      "-AppStudio for ArcGIS\n",
      "-ArcGIS Community Analyst\n"
     ]
    },
    {
     "name": "stderr",
     "output_type": "stream",
     "text": [
      "not licensed by user\n"
     ]
    },
    {
     "name": "stdout",
     "output_type": "stream",
     "text": [
      "-Navigator for ArcGIS\n",
      "-Admin Tools for ArcGIS℠ Online\n",
      "I'm just not worrying about this right now\n",
      "-ArcGIS Business Analyst Web and Mobile Apps\n",
      "Removing Entitlements for user natpat_virginiatech...\n",
      "-Insights for ArcGIS\n",
      "-ArcGIS Pro\n",
      "-Drone2Map for ArcGIS\n",
      "-GeoPlanner for ArcGIS\n",
      "-AppStudio for ArcGIS\n",
      "-ArcGIS Community Analyst\n",
      "-Navigator for ArcGIS\n"
     ]
    },
    {
     "name": "stderr",
     "output_type": "stream",
     "text": [
      "not licensed by user\n"
     ]
    },
    {
     "name": "stdout",
     "output_type": "stream",
     "text": [
      "-Admin Tools for ArcGIS℠ Online\n",
      "I'm just not worrying about this right now\n",
      "-ArcGIS Business Analyst Web and Mobile Apps\n",
      "Removing Entitlements for user nbradish_virginiatech...\n",
      "-Insights for ArcGIS\n",
      "-ArcGIS Pro\n",
      "-Drone2Map for ArcGIS\n",
      "-GeoPlanner for ArcGIS\n",
      "-AppStudio for ArcGIS\n",
      "-ArcGIS Community Analyst\n",
      "-Navigator for ArcGIS\n"
     ]
    },
    {
     "name": "stderr",
     "output_type": "stream",
     "text": [
      "not licensed by user\n"
     ]
    },
    {
     "name": "stdout",
     "output_type": "stream",
     "text": [
      "-Admin Tools for ArcGIS℠ Online\n",
      "I'm just not worrying about this right now\n",
      "-ArcGIS Business Analyst Web and Mobile Apps\n",
      "Removing Entitlements for user nfrohock_virginiatech...\n",
      "-Insights for ArcGIS\n",
      "-ArcGIS Pro\n",
      "-Drone2Map for ArcGIS\n",
      "-GeoPlanner for ArcGIS\n",
      "-AppStudio for ArcGIS\n",
      "-ArcGIS Community Analyst\n",
      "-Navigator for ArcGIS\n"
     ]
    },
    {
     "name": "stderr",
     "output_type": "stream",
     "text": [
      "not licensed by user\n"
     ]
    },
    {
     "name": "stdout",
     "output_type": "stream",
     "text": [
      "-Admin Tools for ArcGIS℠ Online\n",
      "I'm just not worrying about this right now\n",
      "-ArcGIS Business Analyst Web and Mobile Apps\n",
      "Removing Entitlements for user nhinze_virginiatech...\n",
      "-Insights for ArcGIS\n",
      "-ArcGIS Pro\n",
      "-Drone2Map for ArcGIS\n",
      "-GeoPlanner for ArcGIS\n",
      "-AppStudio for ArcGIS\n",
      "-ArcGIS Community Analyst\n",
      "-Navigator for ArcGIS\n"
     ]
    },
    {
     "name": "stderr",
     "output_type": "stream",
     "text": [
      "not licensed by user\n"
     ]
    },
    {
     "name": "stdout",
     "output_type": "stream",
     "text": [
      "-Admin Tools for ArcGIS℠ Online\n",
      "I'm just not worrying about this right now\n",
      "-ArcGIS Business Analyst Web and Mobile Apps\n",
      "Removing Entitlements for user njosiah1_virginiatech...\n",
      "-Insights for ArcGIS\n",
      "-ArcGIS Pro\n",
      "-Drone2Map for ArcGIS\n",
      "-GeoPlanner for ArcGIS\n",
      "-AppStudio for ArcGIS\n",
      "-ArcGIS Community Analyst\n",
      "-Navigator for ArcGIS\n",
      "-Admin Tools for ArcGIS℠ Online\n"
     ]
    },
    {
     "name": "stderr",
     "output_type": "stream",
     "text": [
      "not licensed by user\n"
     ]
    },
    {
     "name": "stdout",
     "output_type": "stream",
     "text": [
      "I'm just not worrying about this right now\n",
      "-ArcGIS Business Analyst Web and Mobile Apps\n",
      "Removing Entitlements for user nye_virginiatech...\n",
      "-Insights for ArcGIS\n",
      "-ArcGIS Pro\n",
      "-Drone2Map for ArcGIS\n",
      "-GeoPlanner for ArcGIS\n",
      "-AppStudio for ArcGIS\n",
      "-ArcGIS Community Analyst\n"
     ]
    },
    {
     "name": "stderr",
     "output_type": "stream",
     "text": [
      "not licensed by user\n"
     ]
    },
    {
     "name": "stdout",
     "output_type": "stream",
     "text": [
      "-Navigator for ArcGIS\n",
      "-Admin Tools for ArcGIS℠ Online\n",
      "I'm just not worrying about this right now\n",
      "-ArcGIS Business Analyst Web and Mobile Apps\n",
      "Removing Entitlements for user obscurus_virginiatech...\n",
      "-Insights for ArcGIS\n",
      "-ArcGIS Pro\n",
      "-Drone2Map for ArcGIS\n",
      "-GeoPlanner for ArcGIS\n",
      "-AppStudio for ArcGIS\n",
      "-ArcGIS Community Analyst\n",
      "-Navigator for ArcGIS\n"
     ]
    },
    {
     "name": "stderr",
     "output_type": "stream",
     "text": [
      "not licensed by user\n"
     ]
    },
    {
     "name": "stdout",
     "output_type": "stream",
     "text": [
      "-Admin Tools for ArcGIS℠ Online\n",
      "I'm just not worrying about this right now\n",
      "-ArcGIS Business Analyst Web and Mobile Apps\n",
      "Removing Entitlements for user ocolin7_virginiatech...\n",
      "-Insights for ArcGIS\n",
      "-ArcGIS Pro\n",
      "-Drone2Map for ArcGIS\n",
      "-GeoPlanner for ArcGIS\n",
      "-AppStudio for ArcGIS\n",
      "-ArcGIS Community Analyst\n"
     ]
    },
    {
     "name": "stderr",
     "output_type": "stream",
     "text": [
      "not licensed by user\n"
     ]
    },
    {
     "name": "stdout",
     "output_type": "stream",
     "text": [
      "-Navigator for ArcGIS\n",
      "-Admin Tools for ArcGIS℠ Online\n",
      "I'm just not worrying about this right now\n",
      "-ArcGIS Business Analyst Web and Mobile Apps\n",
      "Removing Entitlements for user odge_virginiatech...\n",
      "-Insights for ArcGIS\n",
      "-ArcGIS Pro\n",
      "-Drone2Map for ArcGIS\n",
      "-GeoPlanner for ArcGIS\n",
      "-AppStudio for ArcGIS\n",
      "-ArcGIS Community Analyst\n"
     ]
    },
    {
     "name": "stderr",
     "output_type": "stream",
     "text": [
      "not licensed by user\n"
     ]
    },
    {
     "name": "stdout",
     "output_type": "stream",
     "text": [
      "-Navigator for ArcGIS\n",
      "-Admin Tools for ArcGIS℠ Online\n",
      "I'm just not worrying about this right now\n",
      "-ArcGIS Business Analyst Web and Mobile Apps\n",
      "Removing Entitlements for user oliverr_virginiatech...\n",
      "-Insights for ArcGIS\n",
      "-ArcGIS Pro\n",
      "-Drone2Map for ArcGIS\n",
      "-GeoPlanner for ArcGIS\n",
      "-AppStudio for ArcGIS\n",
      "-ArcGIS Community Analyst\n"
     ]
    },
    {
     "name": "stderr",
     "output_type": "stream",
     "text": [
      "not licensed by user\n"
     ]
    },
    {
     "name": "stdout",
     "output_type": "stream",
     "text": [
      "-Navigator for ArcGIS\n",
      "-Admin Tools for ArcGIS℠ Online\n",
      "I'm just not worrying about this right now\n",
      "-ArcGIS Business Analyst Web and Mobile Apps\n",
      "Removing Entitlements for user olivs14_virginiatech...\n",
      "-Insights for ArcGIS\n",
      "-ArcGIS Pro\n",
      "-Drone2Map for ArcGIS\n",
      "-GeoPlanner for ArcGIS\n",
      "-AppStudio for ArcGIS\n",
      "-ArcGIS Community Analyst\n"
     ]
    },
    {
     "name": "stderr",
     "output_type": "stream",
     "text": [
      "not licensed by user\n"
     ]
    },
    {
     "name": "stdout",
     "output_type": "stream",
     "text": [
      "-Navigator for ArcGIS\n",
      "-Admin Tools for ArcGIS℠ Online\n",
      "I'm just not worrying about this right now\n",
      "-ArcGIS Business Analyst Web and Mobile Apps\n",
      "Removing Entitlements for user owecke_virginiatech...\n",
      "-Insights for ArcGIS\n",
      "-ArcGIS Pro\n",
      "-Drone2Map for ArcGIS\n",
      "-GeoPlanner for ArcGIS\n",
      "-AppStudio for ArcGIS\n",
      "-ArcGIS Community Analyst\n"
     ]
    },
    {
     "name": "stderr",
     "output_type": "stream",
     "text": [
      "not licensed by user\n"
     ]
    },
    {
     "name": "stdout",
     "output_type": "stream",
     "text": [
      "-Navigator for ArcGIS\n",
      "-Admin Tools for ArcGIS℠ Online\n",
      "I'm just not worrying about this right now\n",
      "-ArcGIS Business Analyst Web and Mobile Apps\n",
      "Removing Entitlements for user parrish1_virginiatech...\n",
      "-Insights for ArcGIS\n",
      "-ArcGIS Pro\n",
      "-Drone2Map for ArcGIS\n",
      "-GeoPlanner for ArcGIS\n",
      "-AppStudio for ArcGIS\n",
      "-ArcGIS Community Analyst\n",
      "-Navigator for ArcGIS\n"
     ]
    },
    {
     "name": "stderr",
     "output_type": "stream",
     "text": [
      "not licensed by user\n"
     ]
    },
    {
     "name": "stdout",
     "output_type": "stream",
     "text": [
      "-Admin Tools for ArcGIS℠ Online\n",
      "I'm just not worrying about this right now\n",
      "-ArcGIS Business Analyst Web and Mobile Apps\n",
      "Removing Entitlements for user pgauman_virginiatech...\n",
      "-Insights for ArcGIS\n",
      "-ArcGIS Pro\n",
      "-Drone2Map for ArcGIS\n",
      "-GeoPlanner for ArcGIS\n",
      "-AppStudio for ArcGIS\n",
      "-ArcGIS Community Analyst\n"
     ]
    },
    {
     "name": "stderr",
     "output_type": "stream",
     "text": [
      "not licensed by user\n"
     ]
    },
    {
     "name": "stdout",
     "output_type": "stream",
     "text": [
      "-Navigator for ArcGIS\n",
      "-Admin Tools for ArcGIS℠ Online\n",
      "I'm just not worrying about this right now\n",
      "-ArcGIS Business Analyst Web and Mobile Apps\n",
      "Removing Entitlements for user pipes161_virginiatech...\n",
      "-Insights for ArcGIS\n",
      "-ArcGIS Pro\n",
      "-Drone2Map for ArcGIS\n",
      "-GeoPlanner for ArcGIS\n",
      "-AppStudio for ArcGIS\n",
      "-ArcGIS Community Analyst\n"
     ]
    },
    {
     "name": "stderr",
     "output_type": "stream",
     "text": [
      "not licensed by user\n"
     ]
    },
    {
     "name": "stdout",
     "output_type": "stream",
     "text": [
      "-Navigator for ArcGIS\n",
      "-Admin Tools for ArcGIS℠ Online\n",
      "I'm just not worrying about this right now\n",
      "-ArcGIS Business Analyst Web and Mobile Apps\n",
      "Removing Entitlements for user pnoah_virginiatech...\n",
      "-Insights for ArcGIS\n",
      "-ArcGIS Pro\n",
      "-Drone2Map for ArcGIS\n",
      "-GeoPlanner for ArcGIS\n",
      "-AppStudio for ArcGIS\n",
      "-ArcGIS Community Analyst\n"
     ]
    },
    {
     "name": "stderr",
     "output_type": "stream",
     "text": [
      "not licensed by user\n"
     ]
    },
    {
     "name": "stdout",
     "output_type": "stream",
     "text": [
      "-Navigator for ArcGIS\n",
      "-Admin Tools for ArcGIS℠ Online\n",
      "I'm just not worrying about this right now\n",
      "-ArcGIS Business Analyst Web and Mobile Apps\n",
      "Removing Entitlements for user psamareh_virginiatech...\n",
      "-Insights for ArcGIS\n",
      "-ArcGIS Pro\n",
      "-Drone2Map for ArcGIS\n",
      "-GeoPlanner for ArcGIS\n",
      "-AppStudio for ArcGIS\n",
      "-ArcGIS Community Analyst\n"
     ]
    },
    {
     "name": "stderr",
     "output_type": "stream",
     "text": [
      "not licensed by user\n"
     ]
    },
    {
     "name": "stdout",
     "output_type": "stream",
     "text": [
      "-Navigator for ArcGIS\n",
      "-Admin Tools for ArcGIS℠ Online\n",
      "I'm just not worrying about this right now\n",
      "-ArcGIS Business Analyst Web and Mobile Apps\n",
      "Removing Entitlements for user rahulp9_virginiatech...\n",
      "-Insights for ArcGIS\n",
      "-ArcGIS Pro\n",
      "-Drone2Map for ArcGIS\n",
      "-GeoPlanner for ArcGIS\n",
      "-AppStudio for ArcGIS\n",
      "-ArcGIS Community Analyst\n"
     ]
    },
    {
     "name": "stderr",
     "output_type": "stream",
     "text": [
      "not licensed by user\n"
     ]
    },
    {
     "name": "stdout",
     "output_type": "stream",
     "text": [
      "-Navigator for ArcGIS\n",
      "-Admin Tools for ArcGIS℠ Online\n",
      "I'm just not worrying about this right now\n",
      "-ArcGIS Business Analyst Web and Mobile Apps\n",
      "Removing Entitlements for user richvt7_virginiatech...\n",
      "-Insights for ArcGIS\n",
      "-ArcGIS Pro\n",
      "-Drone2Map for ArcGIS\n",
      "-GeoPlanner for ArcGIS\n",
      "-AppStudio for ArcGIS\n",
      "-ArcGIS Community Analyst\n",
      "-Navigator for ArcGIS\n"
     ]
    },
    {
     "name": "stderr",
     "output_type": "stream",
     "text": [
      "not licensed by user\n"
     ]
    },
    {
     "name": "stdout",
     "output_type": "stream",
     "text": [
      "-Admin Tools for ArcGIS℠ Online\n",
      "I'm just not worrying about this right now\n",
      "-ArcGIS Business Analyst Web and Mobile Apps\n",
      "Removing Entitlements for user rikefd94_virginiatech...\n",
      "-Insights for ArcGIS\n",
      "-ArcGIS Pro\n",
      "-Drone2Map for ArcGIS\n",
      "-GeoPlanner for ArcGIS\n",
      "-AppStudio for ArcGIS\n",
      "-ArcGIS Community Analyst\n",
      "-Navigator for ArcGIS\n"
     ]
    },
    {
     "name": "stderr",
     "output_type": "stream",
     "text": [
      "not licensed by user\n"
     ]
    },
    {
     "name": "stdout",
     "output_type": "stream",
     "text": [
      "-Admin Tools for ArcGIS℠ Online\n",
      "I'm just not worrying about this right now\n",
      "-ArcGIS Business Analyst Web and Mobile Apps\n",
      "Removing Entitlements for user rmatt4_virginiatech...\n",
      "-Insights for ArcGIS\n",
      "-ArcGIS Pro\n",
      "-Drone2Map for ArcGIS\n",
      "-GeoPlanner for ArcGIS\n",
      "-AppStudio for ArcGIS\n",
      "-ArcGIS Community Analyst\n",
      "-Navigator for ArcGIS\n",
      "-Admin Tools for ArcGIS℠ Online\n"
     ]
    },
    {
     "name": "stderr",
     "output_type": "stream",
     "text": [
      "not licensed by user\n"
     ]
    },
    {
     "name": "stdout",
     "output_type": "stream",
     "text": [
      "I'm just not worrying about this right now\n",
      "-ArcGIS Business Analyst Web and Mobile Apps\n",
      "Removing Entitlements for user rmegan14_virginiatech...\n",
      "-Insights for ArcGIS\n",
      "-ArcGIS Pro\n",
      "-Drone2Map for ArcGIS\n",
      "-GeoPlanner for ArcGIS\n",
      "-AppStudio for ArcGIS\n",
      "-ArcGIS Community Analyst\n",
      "-Navigator for ArcGIS\n"
     ]
    },
    {
     "name": "stderr",
     "output_type": "stream",
     "text": [
      "not licensed by user\n"
     ]
    },
    {
     "name": "stdout",
     "output_type": "stream",
     "text": [
      "-Admin Tools for ArcGIS℠ Online\n",
      "I'm just not worrying about this right now\n",
      "-ArcGIS Business Analyst Web and Mobile Apps\n",
      "Removing Entitlements for user rocky_virginiatech...\n",
      "-Insights for ArcGIS\n",
      "-ArcGIS Pro\n",
      "-Drone2Map for ArcGIS\n",
      "-GeoPlanner for ArcGIS\n",
      "-AppStudio for ArcGIS\n",
      "-ArcGIS Community Analyst\n",
      "-Navigator for ArcGIS\n"
     ]
    },
    {
     "name": "stderr",
     "output_type": "stream",
     "text": [
      "not licensed by user\n"
     ]
    },
    {
     "name": "stdout",
     "output_type": "stream",
     "text": [
      "-Admin Tools for ArcGIS℠ Online\n",
      "I'm just not worrying about this right now\n",
      "-ArcGIS Business Analyst Web and Mobile Apps\n",
      "Removing Entitlements for user roman117_virginiatech...\n",
      "-Insights for ArcGIS\n",
      "-ArcGIS Pro\n",
      "-Drone2Map for ArcGIS\n",
      "-GeoPlanner for ArcGIS\n",
      "-AppStudio for ArcGIS\n",
      "-ArcGIS Community Analyst\n"
     ]
    },
    {
     "name": "stderr",
     "output_type": "stream",
     "text": [
      "not licensed by user\n"
     ]
    },
    {
     "name": "stdout",
     "output_type": "stream",
     "text": [
      "-Navigator for ArcGIS\n",
      "-Admin Tools for ArcGIS℠ Online\n",
      "I'm just not worrying about this right now\n",
      "-ArcGIS Business Analyst Web and Mobile Apps\n",
      "Removing Entitlements for user rszabo15_virginiatech...\n",
      "-Insights for ArcGIS\n",
      "-ArcGIS Pro\n",
      "-Drone2Map for ArcGIS\n",
      "-GeoPlanner for ArcGIS\n",
      "-AppStudio for ArcGIS\n",
      "-ArcGIS Community Analyst\n"
     ]
    },
    {
     "name": "stderr",
     "output_type": "stream",
     "text": [
      "not licensed by user\n"
     ]
    },
    {
     "name": "stdout",
     "output_type": "stream",
     "text": [
      "-Navigator for ArcGIS\n",
      "-Admin Tools for ArcGIS℠ Online\n",
      "I'm just not worrying about this right now\n",
      "-ArcGIS Business Analyst Web and Mobile Apps\n",
      "Removing Entitlements for user ryankj2_virginiatech...\n",
      "-Insights for ArcGIS\n",
      "-ArcGIS Pro\n",
      "-Drone2Map for ArcGIS\n",
      "-GeoPlanner for ArcGIS\n",
      "-AppStudio for ArcGIS\n",
      "-ArcGIS Community Analyst\n"
     ]
    },
    {
     "name": "stderr",
     "output_type": "stream",
     "text": [
      "not licensed by user\n"
     ]
    },
    {
     "name": "stdout",
     "output_type": "stream",
     "text": [
      "-Navigator for ArcGIS\n",
      "-Admin Tools for ArcGIS℠ Online\n",
      "I'm just not worrying about this right now\n",
      "-ArcGIS Business Analyst Web and Mobile Apps\n",
      "Removing Entitlements for user ryanws_virginiatech...\n",
      "-Insights for ArcGIS\n",
      "-ArcGIS Pro\n",
      "-Drone2Map for ArcGIS\n",
      "-GeoPlanner for ArcGIS\n",
      "-AppStudio for ArcGIS\n",
      "-ArcGIS Community Analyst\n",
      "-Navigator for ArcGIS\n"
     ]
    },
    {
     "name": "stderr",
     "output_type": "stream",
     "text": [
      "not licensed by user\n"
     ]
    },
    {
     "name": "stdout",
     "output_type": "stream",
     "text": [
      "-Admin Tools for ArcGIS℠ Online\n",
      "I'm just not worrying about this right now\n",
      "-ArcGIS Business Analyst Web and Mobile Apps\n",
      "Removing Entitlements for user salom_virginiatech...\n",
      "-Insights for ArcGIS\n",
      "-ArcGIS Pro\n",
      "-Drone2Map for ArcGIS\n",
      "-GeoPlanner for ArcGIS\n",
      "-AppStudio for ArcGIS\n",
      "-ArcGIS Community Analyst\n",
      "-Navigator for ArcGIS\n"
     ]
    },
    {
     "name": "stderr",
     "output_type": "stream",
     "text": [
      "not licensed by user\n"
     ]
    },
    {
     "name": "stdout",
     "output_type": "stream",
     "text": [
      "-Admin Tools for ArcGIS℠ Online\n",
      "I'm just not worrying about this right now\n",
      "-ArcGIS Business Analyst Web and Mobile Apps\n",
      "Removing Entitlements for user sam66926_virginiatech...\n",
      "-Insights for ArcGIS\n",
      "-ArcGIS Pro\n",
      "-Drone2Map for ArcGIS\n",
      "-GeoPlanner for ArcGIS\n",
      "-AppStudio for ArcGIS\n",
      "-ArcGIS Community Analyst\n",
      "-Navigator for ArcGIS\n"
     ]
    },
    {
     "name": "stderr",
     "output_type": "stream",
     "text": [
      "not licensed by user\n"
     ]
    },
    {
     "name": "stdout",
     "output_type": "stream",
     "text": [
      "-Admin Tools for ArcGIS℠ Online\n",
      "I'm just not worrying about this right now\n",
      "-ArcGIS Business Analyst Web and Mobile Apps\n",
      "Removing Entitlements for user sandro15_virginiatech...\n",
      "-Insights for ArcGIS\n",
      "-ArcGIS Pro\n",
      "-Drone2Map for ArcGIS\n",
      "-GeoPlanner for ArcGIS\n",
      "-AppStudio for ArcGIS\n",
      "-ArcGIS Community Analyst\n"
     ]
    },
    {
     "name": "stderr",
     "output_type": "stream",
     "text": [
      "not licensed by user\n"
     ]
    },
    {
     "name": "stdout",
     "output_type": "stream",
     "text": [
      "-Navigator for ArcGIS\n",
      "-Admin Tools for ArcGIS℠ Online\n",
      "I'm just not worrying about this right now\n",
      "-ArcGIS Business Analyst Web and Mobile Apps\n",
      "Removing Entitlements for user sarahmc3_virginiatech...\n",
      "-Insights for ArcGIS\n",
      "-ArcGIS Pro\n",
      "-Drone2Map for ArcGIS\n",
      "-GeoPlanner for ArcGIS\n",
      "-AppStudio for ArcGIS\n",
      "-ArcGIS Community Analyst\n",
      "-Navigator for ArcGIS\n"
     ]
    },
    {
     "name": "stderr",
     "output_type": "stream",
     "text": [
      "not licensed by user\n"
     ]
    },
    {
     "name": "stdout",
     "output_type": "stream",
     "text": [
      "-Admin Tools for ArcGIS℠ Online\n",
      "I'm just not worrying about this right now\n",
      "-ArcGIS Business Analyst Web and Mobile Apps\n",
      "Removing Entitlements for user scott177_virginiatech...\n",
      "-Insights for ArcGIS\n",
      "-ArcGIS Pro\n",
      "-Drone2Map for ArcGIS\n",
      "-GeoPlanner for ArcGIS\n",
      "-AppStudio for ArcGIS\n",
      "-ArcGIS Community Analyst\n"
     ]
    },
    {
     "name": "stderr",
     "output_type": "stream",
     "text": [
      "not licensed by user\n"
     ]
    },
    {
     "name": "stdout",
     "output_type": "stream",
     "text": [
      "-Navigator for ArcGIS\n",
      "-Admin Tools for ArcGIS℠ Online\n",
      "I'm just not worrying about this right now\n",
      "-ArcGIS Business Analyst Web and Mobile Apps\n",
      "Removing Entitlements for user sdd_virginiatech...\n",
      "-Insights for ArcGIS\n",
      "-ArcGIS Pro\n",
      "-Drone2Map for ArcGIS\n",
      "-GeoPlanner for ArcGIS\n",
      "-AppStudio for ArcGIS\n",
      "-ArcGIS Community Analyst\n",
      "-Navigator for ArcGIS\n"
     ]
    },
    {
     "name": "stderr",
     "output_type": "stream",
     "text": [
      "not licensed by user\n"
     ]
    },
    {
     "name": "stdout",
     "output_type": "stream",
     "text": [
      "-Admin Tools for ArcGIS℠ Online\n",
      "I'm just not worrying about this right now\n",
      "-ArcGIS Business Analyst Web and Mobile Apps\n",
      "Removing Entitlements for user serac_virginiatech...\n",
      "-Insights for ArcGIS\n",
      "-ArcGIS Pro\n",
      "-Drone2Map for ArcGIS\n",
      "-GeoPlanner for ArcGIS\n",
      "-AppStudio for ArcGIS\n",
      "-ArcGIS Community Analyst\n",
      "-Navigator for ArcGIS\n"
     ]
    },
    {
     "name": "stderr",
     "output_type": "stream",
     "text": [
      "not licensed by user\n"
     ]
    },
    {
     "name": "stdout",
     "output_type": "stream",
     "text": [
      "-Admin Tools for ArcGIS℠ Online\n",
      "I'm just not worrying about this right now\n",
      "-ArcGIS Business Analyst Web and Mobile Apps\n",
      "Removing Entitlements for user shreya16_virginiatech...\n",
      "-Insights for ArcGIS\n",
      "-ArcGIS Pro\n",
      "-Drone2Map for ArcGIS\n",
      "-GeoPlanner for ArcGIS\n",
      "-AppStudio for ArcGIS\n",
      "-ArcGIS Community Analyst\n"
     ]
    },
    {
     "name": "stderr",
     "output_type": "stream",
     "text": [
      "not licensed by user\n"
     ]
    },
    {
     "name": "stdout",
     "output_type": "stream",
     "text": [
      "-Navigator for ArcGIS\n",
      "-Admin Tools for ArcGIS℠ Online\n",
      "I'm just not worrying about this right now\n",
      "-ArcGIS Business Analyst Web and Mobile Apps\n",
      "Removing Entitlements for user sina_virginiatech...\n",
      "-Insights for ArcGIS\n",
      "-ArcGIS Pro\n",
      "-Drone2Map for ArcGIS\n",
      "-GeoPlanner for ArcGIS\n",
      "-AppStudio for ArcGIS\n",
      "-ArcGIS Community Analyst\n",
      "-Navigator for ArcGIS\n"
     ]
    },
    {
     "name": "stderr",
     "output_type": "stream",
     "text": [
      "not licensed by user\n"
     ]
    },
    {
     "name": "stdout",
     "output_type": "stream",
     "text": [
      "-Admin Tools for ArcGIS℠ Online\n",
      "I'm just not worrying about this right now\n",
      "-ArcGIS Business Analyst Web and Mobile Apps\n",
      "Removing Entitlements for user sjgood_virginiatech...\n",
      "-Insights for ArcGIS\n",
      "-ArcGIS Pro\n",
      "-Drone2Map for ArcGIS\n",
      "-GeoPlanner for ArcGIS\n",
      "-AppStudio for ArcGIS\n",
      "-ArcGIS Community Analyst\n",
      "-Navigator for ArcGIS\n"
     ]
    },
    {
     "name": "stderr",
     "output_type": "stream",
     "text": [
      "not licensed by user\n"
     ]
    },
    {
     "name": "stdout",
     "output_type": "stream",
     "text": [
      "-Admin Tools for ArcGIS℠ Online\n",
      "I'm just not worrying about this right now\n",
      "-ArcGIS Business Analyst Web and Mobile Apps\n",
      "Removing Entitlements for user snmonk59_virginiatech...\n",
      "-Insights for ArcGIS\n",
      "-ArcGIS Pro\n",
      "-Drone2Map for ArcGIS\n",
      "-GeoPlanner for ArcGIS\n",
      "-AppStudio for ArcGIS\n",
      "-ArcGIS Community Analyst\n",
      "-Navigator for ArcGIS\n"
     ]
    },
    {
     "name": "stderr",
     "output_type": "stream",
     "text": [
      "not licensed by user\n"
     ]
    },
    {
     "name": "stdout",
     "output_type": "stream",
     "text": [
      "-Admin Tools for ArcGIS℠ Online\n",
      "I'm just not worrying about this right now\n",
      "-ArcGIS Business Analyst Web and Mobile Apps\n",
      "Removing Entitlements for user sonias95_virginiatech...\n",
      "-Insights for ArcGIS\n",
      "-ArcGIS Pro\n",
      "-Drone2Map for ArcGIS\n",
      "-GeoPlanner for ArcGIS\n",
      "-AppStudio for ArcGIS\n",
      "-ArcGIS Community Analyst\n",
      "-Navigator for ArcGIS\n"
     ]
    },
    {
     "name": "stderr",
     "output_type": "stream",
     "text": [
      "not licensed by user\n"
     ]
    },
    {
     "name": "stdout",
     "output_type": "stream",
     "text": [
      "-Admin Tools for ArcGIS℠ Online\n",
      "I'm just not worrying about this right now\n",
      "-ArcGIS Business Analyst Web and Mobile Apps\n",
      "Removing Entitlements for user sophial1_virginiatech...\n",
      "-Insights for ArcGIS\n",
      "-ArcGIS Pro\n",
      "-Drone2Map for ArcGIS\n",
      "-GeoPlanner for ArcGIS\n",
      "-AppStudio for ArcGIS\n",
      "-ArcGIS Community Analyst\n",
      "-Navigator for ArcGIS\n"
     ]
    },
    {
     "name": "stderr",
     "output_type": "stream",
     "text": [
      "not licensed by user\n"
     ]
    },
    {
     "name": "stdout",
     "output_type": "stream",
     "text": [
      "-Admin Tools for ArcGIS℠ Online\n",
      "I'm just not worrying about this right now\n",
      "-ArcGIS Business Analyst Web and Mobile Apps\n",
      "Removing Entitlements for user srinaa9_virginiatech...\n",
      "-Insights for ArcGIS\n",
      "-ArcGIS Pro\n",
      "-Drone2Map for ArcGIS\n",
      "-GeoPlanner for ArcGIS\n",
      "-AppStudio for ArcGIS\n",
      "-ArcGIS Community Analyst\n",
      "-Navigator for ArcGIS\n"
     ]
    },
    {
     "name": "stderr",
     "output_type": "stream",
     "text": [
      "not licensed by user\n"
     ]
    },
    {
     "name": "stdout",
     "output_type": "stream",
     "text": [
      "-Admin Tools for ArcGIS℠ Online\n",
      "I'm just not worrying about this right now\n",
      "-ArcGIS Business Analyst Web and Mobile Apps\n",
      "Removing Entitlements for user stacl94_virginiatech...\n",
      "-Insights for ArcGIS\n",
      "-ArcGIS Pro\n",
      "-Drone2Map for ArcGIS\n",
      "-GeoPlanner for ArcGIS\n",
      "-AppStudio for ArcGIS\n",
      "-ArcGIS Community Analyst\n",
      "-Navigator for ArcGIS\n"
     ]
    },
    {
     "name": "stderr",
     "output_type": "stream",
     "text": [
      "not licensed by user\n"
     ]
    },
    {
     "name": "stdout",
     "output_type": "stream",
     "text": [
      "-Admin Tools for ArcGIS℠ Online\n",
      "I'm just not worrying about this right now\n",
      "-ArcGIS Business Analyst Web and Mobile Apps\n",
      "Removing Entitlements for user sumnera_virginiatech...\n",
      "-Insights for ArcGIS\n",
      "-ArcGIS Pro\n",
      "-Drone2Map for ArcGIS\n",
      "-GeoPlanner for ArcGIS\n",
      "-AppStudio for ArcGIS\n",
      "-ArcGIS Community Analyst\n",
      "-Navigator for ArcGIS\n"
     ]
    },
    {
     "name": "stderr",
     "output_type": "stream",
     "text": [
      "not licensed by user\n"
     ]
    },
    {
     "name": "stdout",
     "output_type": "stream",
     "text": [
      "-Admin Tools for ArcGIS℠ Online\n",
      "I'm just not worrying about this right now\n",
      "-ArcGIS Business Analyst Web and Mobile Apps\n",
      "Removing Entitlements for user t10patel_virginiatech...\n",
      "-Insights for ArcGIS\n",
      "-ArcGIS Pro\n",
      "-Drone2Map for ArcGIS\n",
      "-GeoPlanner for ArcGIS\n",
      "-AppStudio for ArcGIS\n",
      "-ArcGIS Community Analyst\n"
     ]
    },
    {
     "name": "stderr",
     "output_type": "stream",
     "text": [
      "not licensed by user\n"
     ]
    },
    {
     "name": "stdout",
     "output_type": "stream",
     "text": [
      "-Navigator for ArcGIS\n",
      "-Admin Tools for ArcGIS℠ Online\n",
      "I'm just not worrying about this right now\n",
      "-ArcGIS Business Analyst Web and Mobile Apps\n",
      "Removing Entitlements for user tammyep_virginiatech...\n",
      "-Insights for ArcGIS\n",
      "-ArcGIS Pro\n",
      "-Drone2Map for ArcGIS\n",
      "-GeoPlanner for ArcGIS\n",
      "-AppStudio for ArcGIS\n",
      "-ArcGIS Community Analyst\n"
     ]
    },
    {
     "name": "stderr",
     "output_type": "stream",
     "text": [
      "not licensed by user\n"
     ]
    },
    {
     "name": "stdout",
     "output_type": "stream",
     "text": [
      "-Navigator for ArcGIS\n",
      "-Admin Tools for ArcGIS℠ Online\n",
      "I'm just not worrying about this right now\n",
      "-ArcGIS Business Analyst Web and Mobile Apps\n",
      "Removing Entitlements for user tcruz757_virginiatech...\n",
      "-Insights for ArcGIS\n",
      "-ArcGIS Pro\n",
      "-Drone2Map for ArcGIS\n",
      "-GeoPlanner for ArcGIS\n",
      "-AppStudio for ArcGIS\n",
      "-ArcGIS Community Analyst\n",
      "-Navigator for ArcGIS\n",
      "-Admin Tools for ArcGIS℠ Online\n"
     ]
    },
    {
     "name": "stderr",
     "output_type": "stream",
     "text": [
      "not licensed by user\n"
     ]
    },
    {
     "name": "stdout",
     "output_type": "stream",
     "text": [
      "I'm just not worrying about this right now\n",
      "-ArcGIS Business Analyst Web and Mobile Apps\n",
      "Removing Entitlements for user tess5_virginiatech...\n",
      "-Insights for ArcGIS\n",
      "-ArcGIS Pro\n",
      "-Drone2Map for ArcGIS\n",
      "-GeoPlanner for ArcGIS\n",
      "-AppStudio for ArcGIS\n",
      "-ArcGIS Community Analyst\n",
      "-Navigator for ArcGIS\n"
     ]
    },
    {
     "name": "stderr",
     "output_type": "stream",
     "text": [
      "not licensed by user\n"
     ]
    },
    {
     "name": "stdout",
     "output_type": "stream",
     "text": [
      "-Admin Tools for ArcGIS℠ Online\n",
      "I'm just not worrying about this right now\n",
      "-ArcGIS Business Analyst Web and Mobile Apps\n",
      "Removing Entitlements for user tlhemby_virginiatech...\n",
      "-Insights for ArcGIS\n",
      "-ArcGIS Pro\n",
      "-Drone2Map for ArcGIS\n",
      "-GeoPlanner for ArcGIS\n",
      "-AppStudio for ArcGIS\n",
      "-ArcGIS Community Analyst\n"
     ]
    },
    {
     "name": "stderr",
     "output_type": "stream",
     "text": [
      "not licensed by user\n"
     ]
    },
    {
     "name": "stdout",
     "output_type": "stream",
     "text": [
      "-Navigator for ArcGIS\n",
      "-Admin Tools for ArcGIS℠ Online\n",
      "I'm just not worrying about this right now\n",
      "-ArcGIS Business Analyst Web and Mobile Apps\n",
      "Removing Entitlements for user tmcavoy_virginiatech...\n",
      "-Insights for ArcGIS\n",
      "-ArcGIS Pro\n",
      "-Drone2Map for ArcGIS\n",
      "-GeoPlanner for ArcGIS\n",
      "-AppStudio for ArcGIS\n",
      "-ArcGIS Community Analyst\n",
      "-Navigator for ArcGIS\n"
     ]
    },
    {
     "name": "stderr",
     "output_type": "stream",
     "text": [
      "not licensed by user\n"
     ]
    },
    {
     "name": "stdout",
     "output_type": "stream",
     "text": [
      "-Admin Tools for ArcGIS℠ Online\n",
      "I'm just not worrying about this right now\n",
      "-ArcGIS Business Analyst Web and Mobile Apps\n",
      "Removing Entitlements for user trevor8_virginiatech...\n",
      "-Insights for ArcGIS\n",
      "-ArcGIS Pro\n",
      "-Drone2Map for ArcGIS\n",
      "-GeoPlanner for ArcGIS\n",
      "-AppStudio for ArcGIS\n",
      "-ArcGIS Community Analyst\n"
     ]
    },
    {
     "name": "stderr",
     "output_type": "stream",
     "text": [
      "not licensed by user\n"
     ]
    },
    {
     "name": "stdout",
     "output_type": "stream",
     "text": [
      "-Navigator for ArcGIS\n",
      "-Admin Tools for ArcGIS℠ Online\n",
      "I'm just not worrying about this right now\n",
      "-ArcGIS Business Analyst Web and Mobile Apps\n",
      "Removing Entitlements for user vaneb2_virginiatech...\n",
      "-Insights for ArcGIS\n",
      "-ArcGIS Pro\n",
      "-Drone2Map for ArcGIS\n",
      "-GeoPlanner for ArcGIS\n",
      "-AppStudio for ArcGIS\n",
      "-ArcGIS Community Analyst\n",
      "-Navigator for ArcGIS\n"
     ]
    },
    {
     "name": "stderr",
     "output_type": "stream",
     "text": [
      "not licensed by user\n"
     ]
    },
    {
     "name": "stdout",
     "output_type": "stream",
     "text": [
      "-Admin Tools for ArcGIS℠ Online\n",
      "I'm just not worrying about this right now\n",
      "-ArcGIS Business Analyst Web and Mobile Apps\n",
      "Removing Entitlements for user vkrist1_virginiatech...\n",
      "-Insights for ArcGIS\n",
      "-ArcGIS Pro\n",
      "-Drone2Map for ArcGIS\n",
      "-GeoPlanner for ArcGIS\n",
      "-AppStudio for ArcGIS\n",
      "-ArcGIS Community Analyst\n"
     ]
    },
    {
     "name": "stderr",
     "output_type": "stream",
     "text": [
      "not licensed by user\n"
     ]
    },
    {
     "name": "stdout",
     "output_type": "stream",
     "text": [
      "-Navigator for ArcGIS\n",
      "-Admin Tools for ArcGIS℠ Online\n",
      "I'm just not worrying about this right now\n",
      "-ArcGIS Business Analyst Web and Mobile Apps\n",
      "Removing Entitlements for user vmatth7_virginiatech...\n",
      "-Insights for ArcGIS\n",
      "-ArcGIS Pro\n",
      "-Drone2Map for ArcGIS\n",
      "-GeoPlanner for ArcGIS\n",
      "-AppStudio for ArcGIS\n",
      "-ArcGIS Community Analyst\n",
      "-Navigator for ArcGIS\n"
     ]
    },
    {
     "name": "stderr",
     "output_type": "stream",
     "text": [
      "not licensed by user\n"
     ]
    },
    {
     "name": "stdout",
     "output_type": "stream",
     "text": [
      "-Admin Tools for ArcGIS℠ Online\n",
      "I'm just not worrying about this right now\n",
      "-ArcGIS Business Analyst Web and Mobile Apps\n",
      "Removing Entitlements for user vmr269_virginiatech...\n",
      "-Insights for ArcGIS\n",
      "-ArcGIS Pro\n",
      "-Drone2Map for ArcGIS\n",
      "-GeoPlanner for ArcGIS\n",
      "-AppStudio for ArcGIS\n",
      "-ArcGIS Community Analyst\n"
     ]
    },
    {
     "name": "stderr",
     "output_type": "stream",
     "text": [
      "not licensed by user\n"
     ]
    },
    {
     "name": "stdout",
     "output_type": "stream",
     "text": [
      "-Navigator for ArcGIS\n",
      "-Admin Tools for ArcGIS℠ Online\n",
      "I'm just not worrying about this right now\n",
      "-ArcGIS Business Analyst Web and Mobile Apps\n",
      "Removing Entitlements for user vtlakoba_virginiatech...\n",
      "-Insights for ArcGIS\n",
      "-ArcGIS Pro\n",
      "-Drone2Map for ArcGIS\n",
      "-GeoPlanner for ArcGIS\n",
      "-AppStudio for ArcGIS\n",
      "-ArcGIS Community Analyst\n"
     ]
    },
    {
     "name": "stderr",
     "output_type": "stream",
     "text": [
      "not licensed by user\n"
     ]
    },
    {
     "name": "stdout",
     "output_type": "stream",
     "text": [
      "-Navigator for ArcGIS\n",
      "-Admin Tools for ArcGIS℠ Online\n",
      "I'm just not worrying about this right now\n",
      "-ArcGIS Business Analyst Web and Mobile Apps\n",
      "Removing Entitlements for user wadeo7_virginiatech...\n",
      "-Insights for ArcGIS\n",
      "-ArcGIS Pro\n",
      "-Drone2Map for ArcGIS\n",
      "-GeoPlanner for ArcGIS\n",
      "-AppStudio for ArcGIS\n",
      "-ArcGIS Community Analyst\n"
     ]
    },
    {
     "name": "stderr",
     "output_type": "stream",
     "text": [
      "not licensed by user\n"
     ]
    },
    {
     "name": "stdout",
     "output_type": "stream",
     "text": [
      "-Navigator for ArcGIS\n",
      "-Admin Tools for ArcGIS℠ Online\n",
      "I'm just not worrying about this right now\n",
      "-ArcGIS Business Analyst Web and Mobile Apps\n",
      "Removing Entitlements for user wdavid5_virginiatech...\n",
      "-Insights for ArcGIS\n",
      "-ArcGIS Pro\n",
      "-Drone2Map for ArcGIS\n",
      "-GeoPlanner for ArcGIS\n",
      "-AppStudio for ArcGIS\n",
      "-ArcGIS Community Analyst\n"
     ]
    },
    {
     "name": "stderr",
     "output_type": "stream",
     "text": [
      "not licensed by user\n"
     ]
    },
    {
     "name": "stdout",
     "output_type": "stream",
     "text": [
      "-Navigator for ArcGIS\n",
      "-Admin Tools for ArcGIS℠ Online\n",
      "I'm just not worrying about this right now\n",
      "-ArcGIS Business Analyst Web and Mobile Apps\n",
      "Removing Entitlements for user weaverea_virginiatech...\n",
      "-Insights for ArcGIS\n",
      "-ArcGIS Pro\n",
      "-Drone2Map for ArcGIS\n",
      "-GeoPlanner for ArcGIS\n",
      "-AppStudio for ArcGIS\n",
      "-ArcGIS Community Analyst\n",
      "-Navigator for ArcGIS\n"
     ]
    },
    {
     "name": "stderr",
     "output_type": "stream",
     "text": [
      "not licensed by user\n"
     ]
    },
    {
     "name": "stdout",
     "output_type": "stream",
     "text": [
      "-Admin Tools for ArcGIS℠ Online\n",
      "I'm just not worrying about this right now\n",
      "-ArcGIS Business Analyst Web and Mobile Apps\n",
      "Removing Entitlements for user wesj2363_virginiatech...\n",
      "-Insights for ArcGIS\n",
      "-ArcGIS Pro\n",
      "-Drone2Map for ArcGIS\n",
      "-GeoPlanner for ArcGIS\n",
      "-AppStudio for ArcGIS\n",
      "-ArcGIS Community Analyst\n"
     ]
    },
    {
     "name": "stderr",
     "output_type": "stream",
     "text": [
      "not licensed by user\n"
     ]
    },
    {
     "name": "stdout",
     "output_type": "stream",
     "text": [
      "-Navigator for ArcGIS\n",
      "-Admin Tools for ArcGIS℠ Online\n",
      "I'm just not worrying about this right now\n",
      "-ArcGIS Business Analyst Web and Mobile Apps\n",
      "Removing Entitlements for user wjack92_virginiatech...\n",
      "-Insights for ArcGIS\n",
      "-ArcGIS Pro\n",
      "-Drone2Map for ArcGIS\n",
      "-GeoPlanner for ArcGIS\n",
      "-AppStudio for ArcGIS\n",
      "-ArcGIS Community Analyst\n"
     ]
    },
    {
     "name": "stderr",
     "output_type": "stream",
     "text": [
      "not licensed by user\n"
     ]
    },
    {
     "name": "stdout",
     "output_type": "stream",
     "text": [
      "-Navigator for ArcGIS\n",
      "-Admin Tools for ArcGIS℠ Online\n",
      "I'm just not worrying about this right now\n",
      "-ArcGIS Business Analyst Web and Mobile Apps\n",
      "Removing Entitlements for user wkait14_virginiatech...\n",
      "-Insights for ArcGIS\n",
      "-ArcGIS Pro\n",
      "-Drone2Map for ArcGIS\n",
      "-GeoPlanner for ArcGIS\n",
      "-AppStudio for ArcGIS\n",
      "-ArcGIS Community Analyst\n"
     ]
    },
    {
     "name": "stderr",
     "output_type": "stream",
     "text": [
      "not licensed by user\n"
     ]
    },
    {
     "name": "stdout",
     "output_type": "stream",
     "text": [
      "-Navigator for ArcGIS\n",
      "-Admin Tools for ArcGIS℠ Online\n",
      "I'm just not worrying about this right now\n",
      "-ArcGIS Business Analyst Web and Mobile Apps\n",
      "Removing Entitlements for user wrachael_virginiatech...\n",
      "-Insights for ArcGIS\n",
      "-ArcGIS Pro\n",
      "-Drone2Map for ArcGIS\n",
      "-GeoPlanner for ArcGIS\n",
      "-AppStudio for ArcGIS\n",
      "-ArcGIS Community Analyst\n",
      "-Navigator for ArcGIS\n"
     ]
    },
    {
     "name": "stderr",
     "output_type": "stream",
     "text": [
      "not licensed by user\n"
     ]
    },
    {
     "name": "stdout",
     "output_type": "stream",
     "text": [
      "-Admin Tools for ArcGIS℠ Online\n",
      "I'm just not worrying about this right now\n",
      "-ArcGIS Business Analyst Web and Mobile Apps\n",
      "Removing Entitlements for user wyuri91_virginiatech...\n",
      "-Insights for ArcGIS\n",
      "-ArcGIS Pro\n",
      "-Drone2Map for ArcGIS\n",
      "-GeoPlanner for ArcGIS\n",
      "-AppStudio for ArcGIS\n",
      "-ArcGIS Community Analyst\n",
      "-Navigator for ArcGIS\n"
     ]
    },
    {
     "name": "stderr",
     "output_type": "stream",
     "text": [
      "not licensed by user\n"
     ]
    },
    {
     "name": "stdout",
     "output_type": "stream",
     "text": [
      "-Admin Tools for ArcGIS℠ Online\n",
      "I'm just not worrying about this right now\n",
      "-ArcGIS Business Analyst Web and Mobile Apps\n",
      "Removing Entitlements for user xinnox7_virginiatech...\n",
      "-Insights for ArcGIS\n",
      "-ArcGIS Pro\n",
      "-Drone2Map for ArcGIS\n",
      "-GeoPlanner for ArcGIS\n",
      "-AppStudio for ArcGIS\n",
      "-ArcGIS Community Analyst\n",
      "-Navigator for ArcGIS\n"
     ]
    },
    {
     "name": "stderr",
     "output_type": "stream",
     "text": [
      "not licensed by user\n"
     ]
    },
    {
     "name": "stdout",
     "output_type": "stream",
     "text": [
      "-Admin Tools for ArcGIS℠ Online\n",
      "I'm just not worrying about this right now\n",
      "-ArcGIS Business Analyst Web and Mobile Apps\n",
      "Removing Entitlements for user yyang1_virginiatech...\n",
      "-Insights for ArcGIS\n",
      "-ArcGIS Pro\n",
      "-Drone2Map for ArcGIS\n",
      "-GeoPlanner for ArcGIS\n",
      "-AppStudio for ArcGIS\n",
      "-ArcGIS Community Analyst\n",
      "-Navigator for ArcGIS\n"
     ]
    },
    {
     "name": "stderr",
     "output_type": "stream",
     "text": [
      "not licensed by user\n"
     ]
    },
    {
     "name": "stdout",
     "output_type": "stream",
     "text": [
      "-Admin Tools for ArcGIS℠ Online\n",
      "I'm just not worrying about this right now\n",
      "-ArcGIS Business Analyst Web and Mobile Apps\n",
      "Removing Entitlements for user zackdg1_virginiatech...\n",
      "-Insights for ArcGIS\n",
      "-ArcGIS Pro\n",
      "-Drone2Map for ArcGIS\n",
      "-GeoPlanner for ArcGIS\n",
      "-AppStudio for ArcGIS\n",
      "-ArcGIS Community Analyst\n",
      "-Navigator for ArcGIS\n"
     ]
    },
    {
     "name": "stderr",
     "output_type": "stream",
     "text": [
      "not licensed by user\n"
     ]
    },
    {
     "name": "stdout",
     "output_type": "stream",
     "text": [
      "-Admin Tools for ArcGIS℠ Online\n",
      "I'm just not worrying about this right now\n",
      "-ArcGIS Business Analyst Web and Mobile Apps\n",
      "Removing Entitlements for user zacks97_virginiatech...\n",
      "-Insights for ArcGIS\n",
      "-ArcGIS Pro\n",
      "-Drone2Map for ArcGIS\n",
      "-GeoPlanner for ArcGIS\n",
      "-AppStudio for ArcGIS\n",
      "-ArcGIS Community Analyst\n"
     ]
    },
    {
     "name": "stderr",
     "output_type": "stream",
     "text": [
      "not licensed by user\n"
     ]
    },
    {
     "name": "stdout",
     "output_type": "stream",
     "text": [
      "-Navigator for ArcGIS\n",
      "-Admin Tools for ArcGIS℠ Online\n",
      "I'm just not worrying about this right now\n",
      "-ArcGIS Business Analyst Web and Mobile Apps\n",
      "Removing Entitlements for user zdaley24_virginiatech...\n",
      "-Insights for ArcGIS\n",
      "-ArcGIS Pro\n",
      "-Drone2Map for ArcGIS\n",
      "-GeoPlanner for ArcGIS\n",
      "-AppStudio for ArcGIS\n",
      "-ArcGIS Community Analyst\n"
     ]
    },
    {
     "name": "stderr",
     "output_type": "stream",
     "text": [
      "not licensed by user\n"
     ]
    },
    {
     "name": "stdout",
     "output_type": "stream",
     "text": [
      "-Navigator for ArcGIS\n",
      "-Admin Tools for ArcGIS℠ Online\n",
      "I'm just not worrying about this right now\n",
      "-ArcGIS Business Analyst Web and Mobile Apps\n",
      "Removing Entitlements for user zeman97_virginiatech...\n",
      "-Insights for ArcGIS\n",
      "-ArcGIS Pro\n",
      "-Drone2Map for ArcGIS\n",
      "-GeoPlanner for ArcGIS\n",
      "-AppStudio for ArcGIS\n",
      "-ArcGIS Community Analyst\n"
     ]
    },
    {
     "name": "stderr",
     "output_type": "stream",
     "text": [
      "not licensed by user\n"
     ]
    },
    {
     "name": "stdout",
     "output_type": "stream",
     "text": [
      "-Navigator for ArcGIS\n",
      "-Admin Tools for ArcGIS℠ Online\n",
      "I'm just not worrying about this right now\n",
      "-ArcGIS Business Analyst Web and Mobile Apps\n"
     ]
    }
   ],
   "source": [
    "# Now for each user in the deletion list we need to try and revoke each entitlement for everything they might have\n",
    "justTheDriveByUserNames = deleteList[deleteList.columns[1]]\n",
    "\n",
    "# Retrieve all the entitlements in the org\n",
    "lics = gis.admin.license.all()\n",
    "licensedProducts = []   # array of the specific Products for which there may be entitlements\n",
    "licenseArr = []         # array of the actual licenses for the Products\n",
    "for lic in lics:\n",
    "    try:\n",
    "        licensedProducts.append(json.loads(str(lic.properties))['listing']['title'])\n",
    "    except KeyError:\n",
    "        pass\n",
    "for sUserToDelete in justTheDriveByUserNames:\n",
    "    print (\"Removing Entitlements for user \" + sUserToDelete+\"...\")\n",
    "    for product in licensedProducts:\n",
    "        try: \n",
    "            print (\"-\"+ product)\n",
    "            theLicense = gis.admin.license.get(product)\n",
    "            theLicense.revoke(username=sUserToDelete, entitlements='*')\n",
    "        except:\n",
    "            print (\"I'm just not worrying about this right now\")\n",
    "        \n",
    "    "
   ]
  },
  {
   "cell_type": "code",
   "execution_count": 20,
   "metadata": {
    "slideshow": {
     "slide_type": "fragment"
    }
   },
   "outputs": [
    {
     "name": "stdout",
     "output_type": "stream",
     "text": [
      "Deleting abreed2_virginiatech...\n",
      "    Deprovisioned abreed2_virginiatech\n",
      "Deleting acorrea_virginiatech...\n",
      "    Deprovisioned acorrea_virginiatech\n",
      "Deleting aguest_virginiatech...\n",
      "    Deprovisioned aguest_virginiatech\n",
      "Deleting ajwells_virginiatech...\n",
      "    Deprovisioned ajwells_virginiatech\n",
      "Deleting alena5_virginiatech...\n",
      "    Deprovisioned alena5_virginiatech\n",
      "Deleting alext10_virginiatech...\n",
      "    Deprovisioned alext10_virginiatech\n",
      "Deleting aliyahli_virginiatech...\n",
      "    Deprovisioned aliyahli_virginiatech\n",
      "Deleting andman_virginiatech...\n",
      "    Deprovisioned andman_virginiatech\n",
      "Deleting apagan8_virginiatech...\n",
      "    Deprovisioned apagan8_virginiatech\n",
      "Deleting asp2340_virginiatech...\n",
      "    Deprovisioned asp2340_virginiatech\n",
      "Deleting augusta_virginiatech...\n",
      "    Deprovisioned augusta_virginiatech\n",
      "Deleting aupdike_virginiatech...\n",
      "    Deprovisioned aupdike_virginiatech\n",
      "Deleting averill1_virginiatech...\n",
      "    Deprovisioned averill1_virginiatech\n",
      "Deleting bbritt1_virginiatech...\n",
      "    Deprovisioned bbritt1_virginiatech\n",
      "Deleting bcase_virginiatech...\n",
      "    Deprovisioned bcase_virginiatech\n",
      "Deleting beccap95_virginiatech...\n",
      "    Deprovisioned beccap95_virginiatech\n",
      "Deleting ben348_virginiatech...\n",
      "    Deprovisioned ben348_virginiatech\n",
      "Deleting bend92_virginiatech...\n",
      "    Deprovisioned bend92_virginiatech\n",
      "Deleting beric7_virginiatech...\n",
      "    Deprovisioned beric7_virginiatech\n",
      "Deleting billah_virginiatech...\n",
      "    Deprovisioned billah_virginiatech\n",
      "Deleting bjulien6_virginiatech...\n",
      "    Deprovisioned bjulien6_virginiatech\n",
      "Deleting bmene258_virginiatech...\n",
      "    Deprovisioned bmene258_virginiatech\n",
      "Deleting bneidigh_virginiatech...\n",
      "    Deprovisioned bneidigh_virginiatech\n",
      "Deleting bpayne28_virginiatech...\n",
      "    Deprovisioned bpayne28_virginiatech\n",
      "Deleting bpires_virginiatech...\n",
      "    Deprovisioned bpires_virginiatech\n",
      "Deleting bpm13006_virginiatech...\n",
      "    Deprovisioned bpm13006_virginiatech\n",
      "Deleting brians97_virginiatech...\n",
      "    Deprovisioned brians97_virginiatech\n",
      "Deleting bridgesc_virginiatech...\n",
      "    Deprovisioned bridgesc_virginiatech\n",
      "Deleting britc96_virginiatech...\n",
      "    Deprovisioned britc96_virginiatech\n",
      "Deleting bryans92_virginiatech...\n",
      "    Deprovisioned bryans92_virginiatech\n",
      "Deleting cadetmcm_virginiatech...\n",
      "    Deprovisioned cadetmcm_virginiatech\n",
      "Deleting callaml_virginiatech...\n",
      "    Deprovisioned callaml_virginiatech\n",
      "Deleting camden7_virginiatech...\n",
      "    Deprovisioned camden7_virginiatech\n",
      "Deleting camillem_virginiatech...\n",
      "    Deprovisioned camillem_virginiatech\n",
      "Deleting carol123_virginiatech...\n",
      "    Deprovisioned carol123_virginiatech\n",
      "Deleting cben4_virginiatech...\n",
      "    Deprovisioned cben4_virginiatech\n",
      "Deleting cbholder_virginiatech...\n",
      "    Deprovisioned cbholder_virginiatech\n",
      "Deleting cfitz08_virginiatech...\n",
      "    Deprovisioned cfitz08_virginiatech\n",
      "Deleting cgreeves_virginiatech...\n",
      "    Deprovisioned cgreeves_virginiatech\n",
      "Deleting chnorth1_virginiatech...\n",
      "    Deprovisioned chnorth1_virginiatech\n",
      "Deleting chris2c_virginiatech...\n",
      "    Deprovisioned chris2c_virginiatech\n",
      "Deleting chrisj97_virginiatech...\n",
      "    Deprovisioned chrisj97_virginiatech\n",
      "Deleting cjen2397_virginiatech...\n",
      "    Deprovisioned cjen2397_virginiatech\n",
      "Deleting cjohn4_virginiatech...\n",
      "    Deprovisioned cjohn4_virginiatech\n",
      "Deleting cjurg803_virginiatech...\n",
      "    Deprovisioned cjurg803_virginiatech\n",
      "Deleting claires1_virginiatech...\n",
      "    Deprovisioned claires1_virginiatech\n",
      "Deleting clawler_virginiatech...\n",
      "    Deprovisioned clawler_virginiatech\n",
      "Deleting clayf96_virginiatech...\n",
      "    Deprovisioned clayf96_virginiatech\n",
      "Deleting cleo2013_virginiatech...\n",
      "    Deprovisioned cleo2013_virginiatech\n",
      "Deleting cloe_virginiatech...\n",
      "    Deprovisioned cloe_virginiatech\n",
      "Deleting cmc2706_virginiatech...\n",
      "    Deprovisioned cmc2706_virginiatech\n",
      "Deleting cmoritz_virginiatech...\n",
      "    Deprovisioned cmoritz_virginiatech\n",
      "Deleting cneill_virginiatech...\n",
      "    Deprovisioned cneill_virginiatech\n",
      "Deleting corkilre_virginiatech...\n",
      "    Deprovisioned corkilre_virginiatech\n",
      "Deleting crafie_virginiatech...\n",
      "    Deprovisioned crafie_virginiatech\n",
      "Deleting craig95_virginiatech...\n",
      "    Deprovisioned craig95_virginiatech\n",
      "Deleting crkrafft_virginiatech...\n",
      "    Deprovisioned crkrafft_virginiatech\n",
      "Deleting croghair_virginiatech...\n",
      "    Deprovisioned croghair_virginiatech\n",
      "Deleting csolar12_virginiatech...\n",
      "    Deprovisioned csolar12_virginiatech\n",
      "Deleting davidh7_virginiatech...\n",
      "    Deprovisioned davidh7_virginiatech\n",
      "Deleting davidr27_virginiatech...\n",
      "    Deprovisioned davidr27_virginiatech\n",
      "Deleting diana96_virginiatech...\n",
      "    Deprovisioned diana96_virginiatech\n",
      "Deleting diego8_virginiatech...\n",
      "    Deprovisioned diego8_virginiatech\n",
      "Deleting dongyu_virginiatech...\n",
      "    Deprovisioned dongyu_virginiatech\n",
      "Deleting dsd1_virginiatech...\n",
      "    Deprovisioned dsd1_virginiatech\n",
      "Deleting dstansb_virginiatech...\n",
      "    Deprovisioned dstansb_virginiatech\n",
      "Deleting edeleoni_virginiatech...\n",
      "    Deprovisioned edeleoni_virginiatech\n",
      "Deleting ekeshte_virginiatech...\n",
      "    Deprovisioned ekeshte_virginiatech\n",
      "Deleting ellenr94_virginiatech...\n",
      "    Deprovisioned ellenr94_virginiatech\n",
      "Deleting elyy13_virginiatech...\n",
      "    Deprovisioned elyy13_virginiatech\n",
      "Deleting emcclusk_virginiatech...\n",
      "    Deprovisioned emcclusk_virginiatech\n",
      "Deleting emertes_virginiatech...\n",
      "    Deprovisioned emertes_virginiatech\n",
      "Deleting emily05_virginiatech...\n",
      "    Deprovisioned emily05_virginiatech\n",
      "Deleting emilyn3_virginiatech...\n",
      "    Deprovisioned emilyn3_virginiatech\n",
      "Deleting ericg9_virginiatech...\n",
      "    Deprovisioned ericg9_virginiatech\n",
      "Deleting erind1_virginiatech...\n",
      "    Deprovisioned erind1_virginiatech\n",
      "Deleting erobohm_virginiatech...\n",
      "    Deprovisioned erobohm_virginiatech\n",
      "Deleting esmith97_virginiatech...\n",
      "    Deprovisioned esmith97_virginiatech\n",
      "Deleting ewk203_virginiatech...\n",
      "    Deprovisioned ewk203_virginiatech\n",
      "Deleting ferry092_virginiatech...\n",
      "    Deprovisioned ferry092_virginiatech\n",
      "Deleting fionar1_virginiatech...\n",
      "    Deprovisioned fionar1_virginiatech\n",
      "Deleting fluke4_virginiatech...\n",
      "    Deprovisioned fluke4_virginiatech\n",
      "Deleting fsimo13_virginiatech...\n",
      "    Deprovisioned fsimo13_virginiatech\n",
      "Deleting fzain1_virginiatech...\n",
      "    Deprovisioned fzain1_virginiatech\n",
      "Deleting gaddyjm8_virginiatech...\n",
      "    Deprovisioned gaddyjm8_virginiatech\n",
      "Deleting garberae_virginiatech...\n",
      "    Deprovisioned garberae_virginiatech\n",
      "Deleting garman88_virginiatech...\n",
      "    Deprovisioned garman88_virginiatech\n",
      "Deleting garres4_virginiatech...\n",
      "    Deprovisioned garres4_virginiatech\n",
      "Deleting gillena_virginiatech...\n",
      "    Deprovisioned gillena_virginiatech\n",
      "Deleting gmaddern_virginiatech...\n",
      "    Deprovisioned gmaddern_virginiatech\n",
      "Deleting gmayes1_virginiatech...\n",
      "    Deprovisioned gmayes1_virginiatech\n",
      "Deleting gmich20_virginiatech...\n",
      "    Deprovisioned gmich20_virginiatech\n",
      "Deleting gmyrth89_virginiatech...\n",
      "    Deprovisioned gmyrth89_virginiatech\n",
      "Deleting grahamc_virginiatech...\n",
      "    Deprovisioned grahamc_virginiatech\n",
      "Deleting grantc24_virginiatech...\n",
      "    Deprovisioned grantc24_virginiatech\n",
      "Deleting grnkiwi2_virginiatech...\n",
      "    Deprovisioned grnkiwi2_virginiatech\n",
      "Deleting hbreezy_virginiatech...\n",
      "    Deprovisioned hbreezy_virginiatech\n",
      "Deleting hendercp_virginiatech...\n",
      "    Deprovisioned hendercp_virginiatech\n",
      "Deleting hideaway_virginiatech...\n",
      "    Deprovisioned hideaway_virginiatech\n",
      "Deleting hjack36_virginiatech...\n",
      "    Deprovisioned hjack36_virginiatech\n",
      "Deleting hnick6_virginiatech...\n",
      "    Deprovisioned hnick6_virginiatech\n",
      "Deleting hntache_virginiatech...\n",
      "    Deprovisioned hntache_virginiatech\n",
      "Deleting holdens_virginiatech...\n",
      "    Deprovisioned holdens_virginiatech\n",
      "Deleting hrigg6_virginiatech...\n",
      "    Deprovisioned hrigg6_virginiatech\n",
      "Deleting hyde5_virginiatech...\n",
      "    Deprovisioned hyde5_virginiatech\n",
      "Deleting irisfynn_virginiatech...\n",
      "    Deprovisioned irisfynn_virginiatech\n",
      "Deleting isaiahb5_virginiatech...\n",
      "    Deprovisioned isaiahb5_virginiatech\n",
      "Deleting itv520_virginiatech...\n",
      "    Deprovisioned itv520_virginiatech\n",
      "Deleting izzya6_virginiatech...\n",
      "    Deprovisioned izzya6_virginiatech\n",
      "Deleting jackf_virginiatech...\n",
      "    Deprovisioned jackf_virginiatech\n",
      "Deleting jacobh1_virginiatech...\n",
      "    Deprovisioned jacobh1_virginiatech\n",
      "Deleting jaims95_virginiatech...\n",
      "    Deprovisioned jaims95_virginiatech\n",
      "Deleting jamesl14_virginiatech...\n",
      "    Deprovisioned jamesl14_virginiatech\n",
      "Deleting jamesonc_virginiatech...\n",
      "    Deprovisioned jamesonc_virginiatech\n",
      "Deleting jb1013_virginiatech...\n"
     ]
    },
    {
     "name": "stdout",
     "output_type": "stream",
     "text": [
      "    Deprovisioned jb1013_virginiatech\n",
      "Deleting jconnorh_virginiatech...\n",
      "    Deprovisioned jconnorh_virginiatech\n",
      "Deleting jcy2123_virginiatech...\n",
      "    Deprovisioned jcy2123_virginiatech\n",
      "Deleting jdavis23_virginiatech...\n",
      "    Deprovisioned jdavis23_virginiatech\n",
      "Deleting jdh15_virginiatech...\n",
      "    Deprovisioned jdh15_virginiatech\n",
      "Deleting jfike_virginiatech...\n",
      "    Deprovisioned jfike_virginiatech\n",
      "Deleting jlac13_virginiatech...\n",
      "    Deprovisioned jlac13_virginiatech\n",
      "Deleting jmcg_virginiatech...\n",
      "    Deprovisioned jmcg_virginiatech\n",
      "Deleting jmkane_virginiatech...\n",
      "    Deprovisioned jmkane_virginiatech\n",
      "Deleting jmmays13_virginiatech...\n",
      "    Deprovisioned jmmays13_virginiatech\n",
      "Deleting jmr308_virginiatech...\n",
      "    Deprovisioned jmr308_virginiatech\n",
      "Deleting joeyc13_virginiatech...\n",
      "    Deprovisioned joeyc13_virginiatech\n",
      "Deleting joshp13_virginiatech...\n",
      "    Deprovisioned joshp13_virginiatech\n",
      "Deleting josiahde_virginiatech...\n",
      "    Deprovisioned josiahde_virginiatech\n",
      "Deleting josies8_virginiatech...\n",
      "    Deprovisioned josies8_virginiatech\n",
      "Deleting jpconk01_virginiatech...\n",
      "    Deprovisioned jpconk01_virginiatech\n",
      "Deleting jrad33_virginiatech...\n",
      "    Deprovisioned jrad33_virginiatech\n",
      "Deleting jrcolby1_virginiatech...\n",
      "    Deprovisioned jrcolby1_virginiatech\n",
      "Deleting jsuarezm_virginiatech...\n",
      "    Deprovisioned jsuarezm_virginiatech\n",
      "Deleting jwirth95_virginiatech...\n",
      "    Deprovisioned jwirth95_virginiatech\n",
      "Deleting jx88_virginiatech...\n",
      "    Deprovisioned jx88_virginiatech\n",
      "Deleting kaball_virginiatech...\n",
      "    Deprovisioned kaball_virginiatech\n",
      "Deleting kaito97_virginiatech...\n",
      "    Deprovisioned kaito97_virginiatech\n",
      "Deleting kandrew4_virginiatech...\n",
      "    Deprovisioned kandrew4_virginiatech\n",
      "Deleting katerid7_virginiatech...\n",
      "    Deprovisioned katerid7_virginiatech\n",
      "Deleting kathyd92_virginiatech...\n",
      "    Deprovisioned kathyd92_virginiatech\n",
      "Deleting kbrianna_virginiatech...\n",
      "    Deprovisioned kbrianna_virginiatech\n",
      "Deleting kcrisp_virginiatech...\n",
      "    Deprovisioned kcrisp_virginiatech\n",
      "Deleting kdyer15_virginiatech...\n",
      "    Deprovisioned kdyer15_virginiatech\n",
      "Deleting kellerr_virginiatech...\n",
      "    Deprovisioned kellerr_virginiatech\n",
      "Deleting kelseyt5_virginiatech...\n",
      "    Deprovisioned kelseyt5_virginiatech\n",
      "Deleting kevindw_virginiatech...\n",
      "    Deprovisioned kevindw_virginiatech\n",
      "Deleting kevinv07_virginiatech...\n",
      "    Deprovisioned kevinv07_virginiatech\n",
      "Deleting kstrm_virginiatech...\n",
      "    Deprovisioned kstrm_virginiatech\n",
      "Deleting kvaiknor_virginiatech...\n",
      "    Deprovisioned kvaiknor_virginiatech\n",
      "Deleting lindsm2_virginiatech...\n",
      "    Deprovisioned lindsm2_virginiatech\n",
      "Deleting lli91_virginiatech...\n",
      "    Deprovisioned lli91_virginiatech\n",
      "Deleting lnadia27_virginiatech...\n",
      "    Deprovisioned lnadia27_virginiatech\n",
      "Deleting lrobe95_virginiatech...\n",
      "    Deprovisioned lrobe95_virginiatech\n",
      "Deleting lukec_virginiatech...\n",
      "    Deprovisioned lukec_virginiatech\n",
      "Deleting lvaughn_virginiatech...\n",
      "    Deprovisioned lvaughn_virginiatech\n",
      "Deleting mablythe_virginiatech...\n",
      "    Deprovisioned mablythe_virginiatech\n",
      "Deleting madis92_virginiatech...\n",
      "    Deprovisioned madis92_virginiatech\n",
      "Deleting mandevil_virginiatech...\n",
      "    Deprovisioned mandevil_virginiatech\n",
      "Deleting marek9_virginiatech...\n",
      "    Deprovisioned marek9_virginiatech\n",
      "Deleting marissa3_virginiatech...\n",
      "    Deprovisioned marissa3_virginiatech\n",
      "Deleting mashley3_virginiatech...\n",
      "    Deprovisioned mashley3_virginiatech\n",
      "Deleting matth15_virginiatech...\n",
      "    Deprovisioned matth15_virginiatech\n",
      "Deleting mattsb1_virginiatech...\n",
      "    Deprovisioned mattsb1_virginiatech\n",
      "Deleting maxri_virginiatech...\n",
      "    Deprovisioned maxri_virginiatech\n",
      "Deleting mczwirb_virginiatech...\n",
      "    Deprovisioned mczwirb_virginiatech\n",
      "Deleting meghanc4_virginiatech...\n",
      "    Deprovisioned meghanc4_virginiatech\n",
      "Deleting mehekl_virginiatech...\n",
      "    Deprovisioned mehekl_virginiatech\n",
      "Deleting merak91_virginiatech...\n",
      "    Deprovisioned merak91_virginiatech\n",
      "Deleting mevn1_virginiatech...\n",
      "    Deprovisioned mevn1_virginiatech\n",
      "Deleting mfa1986_virginiatech...\n",
      "    Deprovisioned mfa1986_virginiatech\n",
      "Deleting mghatf2_virginiatech...\n",
      "    Deprovisioned mghatf2_virginiatech\n",
      "Deleting mims_virginiatech...\n",
      "    Deprovisioned mims_virginiatech\n",
      "Deleting miraja8_virginiatech...\n",
      "    Deprovisioned miraja8_virginiatech\n",
      "Deleting mismaris_virginiatech...\n",
      "    Deprovisioned mismaris_virginiatech\n",
      "Deleting mohyde_virginiatech...\n",
      "    Deprovisioned mohyde_virginiatech\n",
      "Deleting mollyat_virginiatech...\n",
      "    Deprovisioned mollyat_virginiatech\n",
      "Deleting mremmey7_virginiatech...\n",
      "    Deprovisioned mremmey7_virginiatech\n",
      "Deleting mroope_virginiatech...\n",
      "    Deprovisioned mroope_virginiatech\n",
      "Deleting murphy15_virginiatech...\n",
      "    Deprovisioned murphy15_virginiatech\n",
      "Deleting mwgraham_virginiatech...\n",
      "    Deprovisioned mwgraham_virginiatech\n",
      "Deleting nacleme_virginiatech...\n",
      "    Deprovisioned nacleme_virginiatech\n",
      "Deleting nancyb7_virginiatech...\n",
      "    Deprovisioned nancyb7_virginiatech\n",
      "Deleting natpat_virginiatech...\n",
      "    Deprovisioned natpat_virginiatech\n",
      "Deleting nbradish_virginiatech...\n",
      "    Deprovisioned nbradish_virginiatech\n",
      "Deleting nfrohock_virginiatech...\n",
      "    Deprovisioned nfrohock_virginiatech\n",
      "Deleting nhinze_virginiatech...\n",
      "    Deprovisioned nhinze_virginiatech\n",
      "Deleting njosiah1_virginiatech...\n",
      "    Deprovisioned njosiah1_virginiatech\n",
      "Deleting nye_virginiatech...\n",
      "    Deprovisioned nye_virginiatech\n",
      "Deleting obscurus_virginiatech...\n",
      "    Deprovisioned obscurus_virginiatech\n",
      "Deleting ocolin7_virginiatech...\n",
      "    Deprovisioned ocolin7_virginiatech\n",
      "Deleting odge_virginiatech...\n",
      "    Deprovisioned odge_virginiatech\n",
      "Deleting oliverr_virginiatech...\n",
      "    Deprovisioned oliverr_virginiatech\n",
      "Deleting olivs14_virginiatech...\n",
      "    Deprovisioned olivs14_virginiatech\n",
      "Deleting owecke_virginiatech...\n",
      "    Deprovisioned owecke_virginiatech\n",
      "Deleting parrish1_virginiatech...\n",
      "    Deprovisioned parrish1_virginiatech\n",
      "Deleting pgauman_virginiatech...\n",
      "    Deprovisioned pgauman_virginiatech\n",
      "Deleting pipes161_virginiatech...\n",
      "    Deprovisioned pipes161_virginiatech\n",
      "Deleting pnoah_virginiatech...\n",
      "    Deprovisioned pnoah_virginiatech\n",
      "Deleting psamareh_virginiatech...\n",
      "    Deprovisioned psamareh_virginiatech\n",
      "Deleting rahulp9_virginiatech...\n",
      "    Deprovisioned rahulp9_virginiatech\n",
      "Deleting richvt7_virginiatech...\n",
      "    Deprovisioned richvt7_virginiatech\n",
      "Deleting rikefd94_virginiatech...\n",
      "    Deprovisioned rikefd94_virginiatech\n",
      "Deleting rmatt4_virginiatech...\n",
      "    Deprovisioned rmatt4_virginiatech\n",
      "Deleting rmegan14_virginiatech...\n",
      "    Deprovisioned rmegan14_virginiatech\n",
      "Deleting rocky_virginiatech...\n",
      "    Deprovisioned rocky_virginiatech\n",
      "Deleting roman117_virginiatech...\n",
      "    Deprovisioned roman117_virginiatech\n",
      "Deleting rszabo15_virginiatech...\n",
      "    Deprovisioned rszabo15_virginiatech\n",
      "Deleting ryankj2_virginiatech...\n",
      "    Deprovisioned ryankj2_virginiatech\n",
      "Deleting ryanws_virginiatech...\n",
      "    Deprovisioned ryanws_virginiatech\n",
      "Deleting salom_virginiatech...\n",
      "    Deprovisioned salom_virginiatech\n",
      "Deleting sam66926_virginiatech...\n",
      "    Deprovisioned sam66926_virginiatech\n",
      "Deleting sandro15_virginiatech...\n",
      "    Deprovisioned sandro15_virginiatech\n",
      "Deleting sarahmc3_virginiatech...\n",
      "    Deprovisioned sarahmc3_virginiatech\n",
      "Deleting scott177_virginiatech...\n",
      "    Deprovisioned scott177_virginiatech\n",
      "Deleting sdd_virginiatech...\n",
      "    Deprovisioned sdd_virginiatech\n",
      "Deleting serac_virginiatech...\n",
      "    Deprovisioned serac_virginiatech\n",
      "Deleting shreya16_virginiatech...\n",
      "    Deprovisioned shreya16_virginiatech\n",
      "Deleting sina_virginiatech...\n",
      "    Deprovisioned sina_virginiatech\n",
      "Deleting sjgood_virginiatech...\n",
      "    Deprovisioned sjgood_virginiatech\n",
      "Deleting snmonk59_virginiatech...\n",
      "    Deprovisioned snmonk59_virginiatech\n",
      "Deleting sonias95_virginiatech...\n",
      "    Deprovisioned sonias95_virginiatech\n",
      "Deleting sophial1_virginiatech...\n",
      "    Deprovisioned sophial1_virginiatech\n",
      "Deleting srinaa9_virginiatech...\n",
      "    Deprovisioned srinaa9_virginiatech\n",
      "Deleting stacl94_virginiatech...\n",
      "    Deprovisioned stacl94_virginiatech\n",
      "Deleting sumnera_virginiatech...\n",
      "    Deprovisioned sumnera_virginiatech\n",
      "Deleting t10patel_virginiatech...\n",
      "    Deprovisioned t10patel_virginiatech\n",
      "Deleting tammyep_virginiatech...\n",
      "    Deprovisioned tammyep_virginiatech\n",
      "Deleting tcruz757_virginiatech...\n",
      "    Deprovisioned tcruz757_virginiatech\n",
      "Deleting tess5_virginiatech...\n",
      "    Deprovisioned tess5_virginiatech\n",
      "Deleting tlhemby_virginiatech...\n",
      "    Deprovisioned tlhemby_virginiatech\n",
      "Deleting tmcavoy_virginiatech...\n"
     ]
    },
    {
     "name": "stdout",
     "output_type": "stream",
     "text": [
      "    Deprovisioned tmcavoy_virginiatech\n",
      "Deleting trevor8_virginiatech...\n",
      "    Deprovisioned trevor8_virginiatech\n",
      "Deleting vaneb2_virginiatech...\n",
      "    Deprovisioned vaneb2_virginiatech\n",
      "Deleting vkrist1_virginiatech...\n",
      "    Deprovisioned vkrist1_virginiatech\n",
      "Deleting vmatth7_virginiatech...\n",
      "    Deprovisioned vmatth7_virginiatech\n",
      "Deleting vmr269_virginiatech...\n",
      "    Deprovisioned vmr269_virginiatech\n",
      "Deleting vtlakoba_virginiatech...\n",
      "    Deprovisioned vtlakoba_virginiatech\n",
      "Deleting wadeo7_virginiatech...\n",
      "    Deprovisioned wadeo7_virginiatech\n",
      "Deleting wdavid5_virginiatech...\n",
      "    Deprovisioned wdavid5_virginiatech\n",
      "Deleting weaverea_virginiatech...\n",
      "    Deprovisioned weaverea_virginiatech\n",
      "Deleting wesj2363_virginiatech...\n",
      "    Deprovisioned wesj2363_virginiatech\n",
      "Deleting wjack92_virginiatech...\n",
      "    Deprovisioned wjack92_virginiatech\n",
      "Deleting wkait14_virginiatech...\n",
      "    Deprovisioned wkait14_virginiatech\n",
      "Deleting wrachael_virginiatech...\n",
      "    Deprovisioned wrachael_virginiatech\n",
      "Deleting wyuri91_virginiatech...\n",
      "    Deprovisioned wyuri91_virginiatech\n",
      "Deleting xinnox7_virginiatech...\n",
      "    Deprovisioned xinnox7_virginiatech\n",
      "Deleting yyang1_virginiatech...\n",
      "    Deprovisioned yyang1_virginiatech\n",
      "Deleting zackdg1_virginiatech...\n",
      "    Deprovisioned zackdg1_virginiatech\n",
      "Deleting zacks97_virginiatech...\n",
      "    Deprovisioned zacks97_virginiatech\n",
      "Deleting zdaley24_virginiatech...\n",
      "    Deprovisioned zdaley24_virginiatech\n",
      "Deleting zeman97_virginiatech...\n",
      "    Deprovisioned zeman97_virginiatech\n"
     ]
    }
   ],
   "source": [
    "# To actually delete the user we need a user object, so we will use the portal method gis.users.search() with a username (_virginiatech)  as input.\n",
    "for sUserToDelete in justTheDriveByUserNames:\n",
    "    print (\"Deleting \" + sUserToDelete +\"...\")\n",
    "    # right now we just make a roundtrip to the server for this reference\n",
    "    userObjectToDelete = gis.users.search(sUserToDelete, max_users=1)\n",
    "    userObjectToDelete[0].delete()\n",
    "    print (\"    Deprovisioned \"+ userObjectToDelete[0].username)"
   ]
  },
  {
   "cell_type": "code",
   "execution_count": null,
   "metadata": {},
   "outputs": [],
   "source": []
  }
 ],
 "metadata": {
  "celltoolbar": "Slideshow",
  "kernelspec": {
   "display_name": "Python 3",
   "language": "python",
   "name": "python3"
  },
  "language_info": {
   "codemirror_mode": {
    "name": "ipython",
    "version": 3
   },
   "file_extension": ".py",
   "mimetype": "text/x-python",
   "name": "python",
   "nbconvert_exporter": "python",
   "pygments_lexer": "ipython3",
   "version": "3.7.3"
  },
  "livereveal": {
   "theme": "serif",
   "transition": "convex"
  }
 },
 "nbformat": 4,
 "nbformat_minor": 2
}

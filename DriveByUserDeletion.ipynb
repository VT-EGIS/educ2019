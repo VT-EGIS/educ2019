{
 "cells": [
  {
   "cell_type": "markdown",
   "metadata": {
    "slideshow": {
     "slide_type": "slide"
    }
   },
   "source": [
    "# Quick and Dirty Removal of \"Drive By\" users. \n",
    "A \"drive by\" user is one who logged in once but never did anything with AGOL.  They have no content, are not a member of any groups, have not logged in over the last year, and use no storage.  In other words, they can be safely deleted to reclaim named users in an auto-provisioning organization because when they come back, it will be like they never left.  In order to get rid of these users, we need to\n",
    "1. Identify them based on the criteria above\n",
    "2. Remove all their licenses, releasing them to the pool\n",
    "3. Delete them\n",
    "### Author: Seth Peery, Virginia Polytechnic Institute and State University\n",
    "### Last Modified July 3, 2019"
   ]
  },
  {
   "cell_type": "code",
   "execution_count": null,
   "metadata": {
    "slideshow": {
     "slide_type": "fragment"
    }
   },
   "outputs": [],
   "source": [
    "from arcgis.gis import GIS\n",
    "import requests\n",
    "import time\n",
    "import csv\n",
    "import json\n",
    "import pandas\n",
    "from time import strftime\n",
    "from urllib.parse import urlparse\n",
    "import getpass"
   ]
  },
  {
   "cell_type": "code",
   "execution_count": null,
   "metadata": {
    "slideshow": {
     "slide_type": "subslide"
    }
   },
   "outputs": [],
   "source": [
    "# Make the connection to your ArcGIS Online Organization\n",
    "orgURL = \"https://virginiatech.maps.arcgis.com\" # <==update for your org\n",
    "orgUser = \"sspeery\"                             # <==update for your org\n",
    "orgPwd = getpass.getpass(\"Enter your AGOL Administrator Password\")\n",
    "gis = GIS(orgURL,username=orgUser,password=orgPwd) \n",
    "orgShortName = urlparse(orgURL).hostname[:-len('.maps.arcgis.com')]\n",
    "\n",
    "# verify that it works\n",
    "try:\n",
    "    org = gis.properties.name\n",
    "    print (\"Connected to \" + org)\n",
    "except exception as ex:\n",
    "        print (\"Error retrieving AGOL org properties.\")"
   ]
  },
  {
   "cell_type": "code",
   "execution_count": null,
   "metadata": {
    "slideshow": {
     "slide_type": "subslide"
    }
   },
   "outputs": [],
   "source": [
    "# Do a search of all our users.\n",
    "# The idea is that we only want to query the portal once, then do the rest offline.\n",
    "# Note that the variable max_users must be >= the number of users in the org to get everybody\n",
    "# Once this search is done we get a notebook-global data structure (a pandas df) that we can use for subsequent queries\n",
    "# This takes a long time to run if you have a lot of users in your organization, but you only need to run this once. \n",
    "\n",
    "userList = []\n",
    "users = gis.users.search(max_users=9999)\n",
    "\n",
    "for user in users:\n",
    "   \n",
    "    #These things come straight from the user dict\n",
    "    d_esriUsername = user.username\n",
    "    d_fullName = user.fullName\n",
    "    d_email = user.email\n",
    "    d_role = user.role\n",
    "    d_storage = (user.storageUsage / 1024)\n",
    "    \n",
    "    #number of content items <=100 is returned by length of items arr\n",
    "    d_items = len(user.items())\n",
    "    #print(d_items)\n",
    "    \n",
    "    #VT PID is returned by stripping off the _virginiatech\n",
    "    d_pid = user.username.rsplit(\"_\"+orgShortName)[0]\n",
    "    \n",
    "    #last access comes from https://developers.arcgis.com/python/guide/accessing-and-managing-users/\n",
    "    t_last_accessed = time.localtime(user.lastLogin/1000)\n",
    "    d_lastAccess = \"{}/{}/{}\".format(t_last_accessed[0], t_last_accessed[1], t_last_accessed[2])\n",
    "    \n",
    "    #count of groups this user is a member of\n",
    "    d_groupCount = len(user.groups)\n",
    "    \n",
    "    #Now build a data structure    \n",
    "    currentUserInfo = {\"pid\":d_pid,\n",
    "                        \"esriUsername\":d_esriUsername,\n",
    "                        \"fullName\":d_fullName,\n",
    "                        \"email\":d_email,\n",
    "                        \"storage\":d_storage,\n",
    "                        \"role\":d_role,\n",
    "                        \"lastAccess\":d_lastAccess,\n",
    "                        \"groups\":d_groupCount,\n",
    "                        \"items\":d_items}\n",
    "    userList.append(currentUserInfo)\n",
    "    \n",
    "# iteration done.\n",
    "# now let's make a dataframe.  We'll use this later.\n",
    "df = pandas.DataFrame(userList)\n",
    "\n",
    "# Next, filter out the Enterprise Logins to create a new data structure \n",
    "# because we want to exempt legacy ESRI global accounts and service accounts\n",
    "# therefore this operates only on our Enterprise Logins.\n",
    "# NOTE that you need to adjust this to your environment - both your org_short_name and its length (+1 for the underscore)\n",
    "vtEnterpriseLogins = df.loc[df['esriUsername'].str[-(len(\"_\"+orgShortName)):] == \"_\"+orgShortName]\n",
    "vtEnterpriseLogins\n",
    "\n"
   ]
  },
  {
   "cell_type": "markdown",
   "metadata": {
    "slideshow": {
     "slide_type": "slide"
    }
   },
   "source": [
    "## \"Drive by\" user identification\n",
    "####  I feel reasonably confident we can get rid of users who \n",
    "* own no content items\n",
    "* are members of no groups\n",
    "* use no storage\n",
    "* have not logged in for a year  (or, precisely, have not logged in in 2018 or 2019 - you could set this to be more aggressive if needed)\n",
    "\n",
    "... since if that user logs back in, it will be like they never left."
   ]
  },
  {
   "cell_type": "code",
   "execution_count": null,
   "metadata": {
    "slideshow": {
     "slide_type": "slide"
    }
   },
   "outputs": [],
   "source": [
    "# From a dataframe of VT Enterprise Logins only, create a dataframe that meets the above criteria.\n",
    "deleteList = vtEnterpriseLogins.loc[(vtEnterpriseLogins['storage'] == 0) & (vtEnterpriseLogins['items'] == 0) &(vtEnterpriseLogins['groups'] ==0) &(vtEnterpriseLogins['lastAccess'].str[:4] < '2018')]\n",
    "deleteList\n"
   ]
  },
  {
   "cell_type": "code",
   "execution_count": null,
   "metadata": {},
   "outputs": [],
   "source": [
    "\n",
    "# Optionally, Serialize the list of users who are candidates for deletion so we can take a look at it in Excel.  (Out of band human inspection)\n",
    "deleteList.to_csv('driveby-'+strftime(\"%Y%m%d-%H%M%S\",time.localtime())+\".csv\")\n"
   ]
  },
  {
   "cell_type": "markdown",
   "metadata": {},
   "source": [
    "## Deprovision all user licenses and entitlements\n",
    "Before we can actually delete a user we have to get rid of all their entitlements, releasing all add-on licenses. \n",
    "We can either do this by attempting to revoke every entitement in the org or by inspecting the specific user via the REST API to get their actual entitlements and just revoking what they have.\n",
    "\n",
    "See https://github.com/sspeery/educ2019/blob/master/GetOrganizationEntitlements.ipynb"
   ]
  },
  {
   "cell_type": "code",
   "execution_count": null,
   "metadata": {},
   "outputs": [],
   "source": [
    "# Retrieve all the entitlements in the org\n",
    "lics = gis.admin.license.all()\n",
    "licensedProducts = []   # array of the specific Products for which there may be entitlements\n",
    "licenseArr = []         # array of the actual licenses for the Products\n",
    "for lic in lics:\n",
    "    try:\n",
    "        licensedProducts.append(json.loads(str(lic.properties))['listing']['title'])\n",
    "    except KeyError:\n",
    "        pass\n",
    "\n",
    "entDf = pandas.DataFrame()  # this stores your organization's entitlements total/assigned/remaining for each product in a dataframe\n",
    "for product in licensedProducts:\n",
    "    try:\n",
    "        theLicense = gis.admin.license.get(product)\n",
    "        licenseArr.append(theLicense)\n",
    "        thisProductReportDf = theLicense.report #gets the total/assigned/remaining licenses for each product\n",
    "        thisProductReportDf['Product'] = product\n",
    "        entDf = entDf.append(thisProductReportDf)\n",
    "    except KeyError:\n",
    "        pass\n",
    "    \n",
    "# Create a dictionary of the form used by the UMich license assignment script\n",
    "# See also: https://gist.github.com/sspeery/190d6dc45bc8f4c4b3ba0e2705850463\n",
    "entitlements = dict.fromkeys(entDf['Product'].unique())\n",
    "for key in entitlements:\n",
    "    entitlements[key]=[]\n",
    "for index, row in entDf.iterrows():\n",
    "    entitlements[row['Product']].append(row['Entitlement'])\n",
    "entitlements"
   ]
  },
  {
   "cell_type": "code",
   "execution_count": null,
   "metadata": {
    "collapsed": true
   },
   "outputs": [],
   "source": [
    "# Now for each user in the deletion list we need to try and revoke each entitlement for everything they might have\n",
    "justTheDriveByUserNames = deleteList[deleteList.columns[1]]\n",
    "\n",
    "# Retrieve all the entitlements in the org\n",
    "lics = gis.admin.license.all()\n",
    "licensedProducts = []   # array of the specific Products for which there may be entitlements\n",
    "licenseArr = []         # array of the actual licenses for the Products\n",
    "for lic in lics:\n",
    "    try:\n",
    "        licensedProducts.append(json.loads(str(lic.properties))['listing']['title'])\n",
    "    except KeyError:\n",
    "        pass\n",
    "for sUserToDelete in justTheDriveByUserNames:\n",
    "    print (\"Removing Entitlements for user \" + sUserToDelete+\"...\")\n",
    "    for product in licensedProducts:\n",
    "        try: \n",
    "            print (\"-\"+ product)\n",
    "            theLicense = gis.admin.license.get(product)\n",
    "            theLicense.revoke(username=sUserToDelete, entitlements='*')\n",
    "        except:\n",
    "            print (\"I'm just not worrying about this right now\")\n",
    "        \n",
    "    "
   ]
  },
  {
   "cell_type": "code",
   "execution_count": null,
   "metadata": {
    "slideshow": {
     "slide_type": "fragment"
    }
   },
   "outputs": [],
   "source": [
    "# To actually delete the user we need a user object, so we will use the portal method gis.users.search() with a username (_virginiatech)  as input.\n",
    "for sUserToDelete in justTheDriveByUserNames:\n",
    "    print (\"Deleting \" + sUserToDelete +\"...\")\n",
    "    # right now we just make a roundtrip to the server for this reference\n",
    "    userObjectToDelete = gis.users.search(sUserToDelete, max_users=1)\n",
    "    userObjectToDelete[0].delete()\n",
    "    print (\"    Deprovisioned \"+ userObjectToDelete[0].username)"
   ]
  },
  {
   "cell_type": "code",
   "execution_count": null,
   "metadata": {},
   "outputs": [],
   "source": []
  }
 ],
 "metadata": {
  "celltoolbar": "Slideshow",
  "kernelspec": {
   "display_name": "Python 3",
   "language": "python",
   "name": "python3"
  },
  "language_info": {
   "codemirror_mode": {
    "name": "ipython",
    "version": 3
   },
   "file_extension": ".py",
   "mimetype": "text/x-python",
   "name": "python",
   "nbconvert_exporter": "python",
   "pygments_lexer": "ipython3",
   "version": "3.7.3"
  },
  "livereveal": {
   "theme": "serif",
   "transition": "convex"
  }
 },
 "nbformat": 4,
 "nbformat_minor": 2
}

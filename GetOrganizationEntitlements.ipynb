{
 "cells": [
  {
   "cell_type": "code",
   "execution_count": null,
   "metadata": {},
   "outputs": [],
   "source": [
    "from arcgis.gis import GIS\n",
    "import pandas\n",
    "import json\n",
    "import getpass\n",
    "\n",
    "# Make the connection to your ArcGIS Online Organization\n",
    "orgURL = \"https://virginiatech.maps.arcgis.com\" # <==update for your org\n",
    "orgUser = \"sspeery\"                             # <==update for your org\n",
    "orgPwd = getpass.getpass(\"Enter your AGOL Administrator Password\")\n",
    "gis = GIS(orgURL,username=orgUser,password=orgPwd) \n",
    "\n",
    "\n",
    "# Retrieve all the entitlements in the org\n",
    "lics = gis.admin.license.all()\n",
    "licensedProducts = []   # array of the specific Products for which there may be entitlements\n",
    "licenseArr = []         # array of the actual licenses for the Products\n",
    "for lic in lics:\n",
    "    try:\n",
    "        licensedProducts.append(json.loads(str(lic.properties))['listing']['title'])\n",
    "    except KeyError:\n",
    "        pass\n",
    "\n",
    "entDf = pandas.DataFrame()  # this stores your organization's entitlements total/assigned/remaining for each product in a dataframe\n",
    "for product in licensedProducts:\n",
    "    try:\n",
    "        theLicense = gis.admin.license.get(product)\n",
    "        licenseArr.append(theLicense)\n",
    "        thisProductReportDf = theLicense.report #gets the total/assigned/remaining licenses for each product\n",
    "        thisProductReportDf['Product'] = product\n",
    "        entDf = entDf.append(thisProductReportDf)\n",
    "    except KeyError:\n",
    "        pass\n",
    "    \n",
    "# Create a dictionary of the form used by the UMich license assignment script\n",
    "# See also: https://gist.github.com/sspeery/190d6dc45bc8f4c4b3ba0e2705850463\n",
    "entitlements = dict.fromkeys(entDf['Product'].unique())\n",
    "for key in entitlements:\n",
    "    entitlements[key]=[]\n",
    "for index, row in entDf.iterrows():\n",
    "    entitlements[row['Product']].append(row['Entitlement'])\n",
    "#entitlements\n",
    "entDf"
   ]
  },
  {
   "cell_type": "code",
   "execution_count": null,
   "metadata": {},
   "outputs": [],
   "source": []
  }
 ],
 "metadata": {
  "kernelspec": {
   "display_name": "Python 3",
   "language": "python",
   "name": "python3"
  },
  "language_info": {
   "codemirror_mode": {
    "name": "ipython",
    "version": 3
   },
   "file_extension": ".py",
   "mimetype": "text/x-python",
   "name": "python",
   "nbconvert_exporter": "python",
   "pygments_lexer": "ipython3",
   "version": "3.7.3"
  }
 },
 "nbformat": 4,
 "nbformat_minor": 2
}
